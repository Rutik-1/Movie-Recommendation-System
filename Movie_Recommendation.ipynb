{
  "nbformat": 4,
  "nbformat_minor": 0,
  "metadata": {
    "colab": {
      "provenance": [],
      "mount_file_id": "1WIqVx6Z-XeLpuXhmcuHWAhaHvP6ik3uk",
      "authorship_tag": "ABX9TyNRLmVj2+uRytJGR43c9ePy",
      "include_colab_link": true
    },
    "kernelspec": {
      "name": "python3",
      "display_name": "Python 3"
    },
    "language_info": {
      "name": "python"
    }
  },
  "cells": [
    {
      "cell_type": "markdown",
      "metadata": {
        "id": "view-in-github",
        "colab_type": "text"
      },
      "source": [
        "<a href=\"https://colab.research.google.com/github/Rutik-1/Movie-Recommendation-System/blob/main/Movie_Recommendation.ipynb\" target=\"_parent\"><img src=\"https://colab.research.google.com/assets/colab-badge.svg\" alt=\"Open In Colab\"/></a>"
      ]
    },
    {
      "cell_type": "markdown",
      "source": [
        "### **Movie Recommendation System**"
      ],
      "metadata": {
        "id": "FRnl4H9G100r"
      }
    },
    {
      "cell_type": "markdown",
      "source": [
        "***Recommender System*** : Is a system that seeks to predict or filter    preferences according to the user's choices. Recommender system are utilized in a variety of areas including movies, music, news, books, search queries and products in general.\n",
        "\n",
        "***Collaborative Filter*** : Collaborative filtering build a model from the user's past behaviour (ie. items purchased or searched by a user) as well similar decisions made by other users.\n",
        "\n",
        "***Content Based Filtering*** : Content based filtering approaches uses a series of dicrete characterstics of an item in order to recommend additional items with similar properties. It recommends item based on user's past preferences. "
      ],
      "metadata": {
        "id": "9gdtO-A11-38"
      }
    },
    {
      "cell_type": "markdown",
      "source": [
        "### **Import Library**"
      ],
      "metadata": {
        "id": "tpEG172Z38YE"
      }
    },
    {
      "cell_type": "code",
      "execution_count": 19,
      "metadata": {
        "id": "47fZETEKmd5V"
      },
      "outputs": [],
      "source": [
        "import pandas as pd\n",
        "import numpy as np"
      ]
    },
    {
      "cell_type": "markdown",
      "source": [
        "### **Import Dataset**"
      ],
      "metadata": {
        "id": "BTyjmwdy4z5b"
      }
    },
    {
      "cell_type": "code",
      "source": [
        "from google.colab import files\n",
        "uploaded = files.upload()"
      ],
      "metadata": {
        "colab": {
          "base_uri": "https://localhost:8080/",
          "height": 73
        },
        "id": "mH9kbMdfmlTf",
        "outputId": "76442740-50c5-440b-f834-6eee6c25a4f0"
      },
      "execution_count": 27,
      "outputs": [
        {
          "output_type": "display_data",
          "data": {
            "text/plain": [
              "<IPython.core.display.HTML object>"
            ],
            "text/html": [
              "\n",
              "     <input type=\"file\" id=\"files-d5a2be1a-17de-4085-a304-1c3bc7becb10\" name=\"files[]\" multiple disabled\n",
              "        style=\"border:none\" />\n",
              "     <output id=\"result-d5a2be1a-17de-4085-a304-1c3bc7becb10\">\n",
              "      Upload widget is only available when the cell has been executed in the\n",
              "      current browser session. Please rerun this cell to enable.\n",
              "      </output>\n",
              "      <script>// Copyright 2017 Google LLC\n",
              "//\n",
              "// Licensed under the Apache License, Version 2.0 (the \"License\");\n",
              "// you may not use this file except in compliance with the License.\n",
              "// You may obtain a copy of the License at\n",
              "//\n",
              "//      http://www.apache.org/licenses/LICENSE-2.0\n",
              "//\n",
              "// Unless required by applicable law or agreed to in writing, software\n",
              "// distributed under the License is distributed on an \"AS IS\" BASIS,\n",
              "// WITHOUT WARRANTIES OR CONDITIONS OF ANY KIND, either express or implied.\n",
              "// See the License for the specific language governing permissions and\n",
              "// limitations under the License.\n",
              "\n",
              "/**\n",
              " * @fileoverview Helpers for google.colab Python module.\n",
              " */\n",
              "(function(scope) {\n",
              "function span(text, styleAttributes = {}) {\n",
              "  const element = document.createElement('span');\n",
              "  element.textContent = text;\n",
              "  for (const key of Object.keys(styleAttributes)) {\n",
              "    element.style[key] = styleAttributes[key];\n",
              "  }\n",
              "  return element;\n",
              "}\n",
              "\n",
              "// Max number of bytes which will be uploaded at a time.\n",
              "const MAX_PAYLOAD_SIZE = 100 * 1024;\n",
              "\n",
              "function _uploadFiles(inputId, outputId) {\n",
              "  const steps = uploadFilesStep(inputId, outputId);\n",
              "  const outputElement = document.getElementById(outputId);\n",
              "  // Cache steps on the outputElement to make it available for the next call\n",
              "  // to uploadFilesContinue from Python.\n",
              "  outputElement.steps = steps;\n",
              "\n",
              "  return _uploadFilesContinue(outputId);\n",
              "}\n",
              "\n",
              "// This is roughly an async generator (not supported in the browser yet),\n",
              "// where there are multiple asynchronous steps and the Python side is going\n",
              "// to poll for completion of each step.\n",
              "// This uses a Promise to block the python side on completion of each step,\n",
              "// then passes the result of the previous step as the input to the next step.\n",
              "function _uploadFilesContinue(outputId) {\n",
              "  const outputElement = document.getElementById(outputId);\n",
              "  const steps = outputElement.steps;\n",
              "\n",
              "  const next = steps.next(outputElement.lastPromiseValue);\n",
              "  return Promise.resolve(next.value.promise).then((value) => {\n",
              "    // Cache the last promise value to make it available to the next\n",
              "    // step of the generator.\n",
              "    outputElement.lastPromiseValue = value;\n",
              "    return next.value.response;\n",
              "  });\n",
              "}\n",
              "\n",
              "/**\n",
              " * Generator function which is called between each async step of the upload\n",
              " * process.\n",
              " * @param {string} inputId Element ID of the input file picker element.\n",
              " * @param {string} outputId Element ID of the output display.\n",
              " * @return {!Iterable<!Object>} Iterable of next steps.\n",
              " */\n",
              "function* uploadFilesStep(inputId, outputId) {\n",
              "  const inputElement = document.getElementById(inputId);\n",
              "  inputElement.disabled = false;\n",
              "\n",
              "  const outputElement = document.getElementById(outputId);\n",
              "  outputElement.innerHTML = '';\n",
              "\n",
              "  const pickedPromise = new Promise((resolve) => {\n",
              "    inputElement.addEventListener('change', (e) => {\n",
              "      resolve(e.target.files);\n",
              "    });\n",
              "  });\n",
              "\n",
              "  const cancel = document.createElement('button');\n",
              "  inputElement.parentElement.appendChild(cancel);\n",
              "  cancel.textContent = 'Cancel upload';\n",
              "  const cancelPromise = new Promise((resolve) => {\n",
              "    cancel.onclick = () => {\n",
              "      resolve(null);\n",
              "    };\n",
              "  });\n",
              "\n",
              "  // Wait for the user to pick the files.\n",
              "  const files = yield {\n",
              "    promise: Promise.race([pickedPromise, cancelPromise]),\n",
              "    response: {\n",
              "      action: 'starting',\n",
              "    }\n",
              "  };\n",
              "\n",
              "  cancel.remove();\n",
              "\n",
              "  // Disable the input element since further picks are not allowed.\n",
              "  inputElement.disabled = true;\n",
              "\n",
              "  if (!files) {\n",
              "    return {\n",
              "      response: {\n",
              "        action: 'complete',\n",
              "      }\n",
              "    };\n",
              "  }\n",
              "\n",
              "  for (const file of files) {\n",
              "    const li = document.createElement('li');\n",
              "    li.append(span(file.name, {fontWeight: 'bold'}));\n",
              "    li.append(span(\n",
              "        `(${file.type || 'n/a'}) - ${file.size} bytes, ` +\n",
              "        `last modified: ${\n",
              "            file.lastModifiedDate ? file.lastModifiedDate.toLocaleDateString() :\n",
              "                                    'n/a'} - `));\n",
              "    const percent = span('0% done');\n",
              "    li.appendChild(percent);\n",
              "\n",
              "    outputElement.appendChild(li);\n",
              "\n",
              "    const fileDataPromise = new Promise((resolve) => {\n",
              "      const reader = new FileReader();\n",
              "      reader.onload = (e) => {\n",
              "        resolve(e.target.result);\n",
              "      };\n",
              "      reader.readAsArrayBuffer(file);\n",
              "    });\n",
              "    // Wait for the data to be ready.\n",
              "    let fileData = yield {\n",
              "      promise: fileDataPromise,\n",
              "      response: {\n",
              "        action: 'continue',\n",
              "      }\n",
              "    };\n",
              "\n",
              "    // Use a chunked sending to avoid message size limits. See b/62115660.\n",
              "    let position = 0;\n",
              "    do {\n",
              "      const length = Math.min(fileData.byteLength - position, MAX_PAYLOAD_SIZE);\n",
              "      const chunk = new Uint8Array(fileData, position, length);\n",
              "      position += length;\n",
              "\n",
              "      const base64 = btoa(String.fromCharCode.apply(null, chunk));\n",
              "      yield {\n",
              "        response: {\n",
              "          action: 'append',\n",
              "          file: file.name,\n",
              "          data: base64,\n",
              "        },\n",
              "      };\n",
              "\n",
              "      let percentDone = fileData.byteLength === 0 ?\n",
              "          100 :\n",
              "          Math.round((position / fileData.byteLength) * 100);\n",
              "      percent.textContent = `${percentDone}% done`;\n",
              "\n",
              "    } while (position < fileData.byteLength);\n",
              "  }\n",
              "\n",
              "  // All done.\n",
              "  yield {\n",
              "    response: {\n",
              "      action: 'complete',\n",
              "    }\n",
              "  };\n",
              "}\n",
              "\n",
              "scope.google = scope.google || {};\n",
              "scope.google.colab = scope.google.colab || {};\n",
              "scope.google.colab._files = {\n",
              "  _uploadFiles,\n",
              "  _uploadFilesContinue,\n",
              "};\n",
              "})(self);\n",
              "</script> "
            ]
          },
          "metadata": {}
        },
        {
          "output_type": "stream",
          "name": "stdout",
          "text": [
            "Saving Movies Recommendation.csv to Movies Recommendation.csv\n"
          ]
        }
      ]
    },
    {
      "cell_type": "code",
      "source": [
        "df = pd.read_csv(\"Movies Recommendation.csv\")"
      ],
      "metadata": {
        "id": "rqkzw3pJp0SJ"
      },
      "execution_count": 28,
      "outputs": []
    },
    {
      "cell_type": "code",
      "source": [
        "df.head()"
      ],
      "metadata": {
        "colab": {
          "base_uri": "https://localhost:8080/",
          "height": 716
        },
        "id": "dmjSfI5uqCyI",
        "outputId": "3ffbd2ef-1757-4e6b-de18-1670ea1b62b6"
      },
      "execution_count": 29,
      "outputs": [
        {
          "output_type": "execute_result",
          "data": {
            "text/plain": [
              "   Movie_ID      Movie_Title                       Movie_Genre Movie_Language  \\\n",
              "0         1       Four Rooms                      Crime Comedy             en   \n",
              "1         2        Star Wars  Adventure Action Science Fiction             en   \n",
              "2         3     Finding Nemo                  Animation Family             en   \n",
              "3         4     Forrest Gump              Comedy Drama Romance             en   \n",
              "4         5  American Beauty                             Drama             en   \n",
              "\n",
              "   Movie_Budget  Movie_Popularity Movie_Release_Date  Movie_Revenue  \\\n",
              "0       4000000         22.876230         09-12-1995        4300000   \n",
              "1      11000000        126.393695         25-05-1977      775398007   \n",
              "2      94000000         85.688789         30-05-2003      940335536   \n",
              "3      55000000        138.133331         06-07-1994      677945399   \n",
              "4      15000000         80.878605         15-09-1999      356296601   \n",
              "\n",
              "   Movie_Runtime  Movie_Vote  ...  \\\n",
              "0           98.0         6.5  ...   \n",
              "1          121.0         8.1  ...   \n",
              "2          100.0         7.6  ...   \n",
              "3          142.0         8.2  ...   \n",
              "4          122.0         7.9  ...   \n",
              "\n",
              "                                      Movie_Homepage  \\\n",
              "0                                                NaN   \n",
              "1  http://www.starwars.com/films/star-wars-episod...   \n",
              "2              http://movies.disney.com/finding-nemo   \n",
              "3                                                NaN   \n",
              "4                      http://www.dreamworks.com/ab/   \n",
              "\n",
              "                                      Movie_Keywords  \\\n",
              "0          hotel new year's eve witch bet hotel room   \n",
              "1        android galaxy hermit death star lightsaber   \n",
              "2  father son relationship harbor underwater fish...   \n",
              "3  vietnam veteran hippie mentally disabled runni...   \n",
              "4  male nudity female nudity adultery midlife cri...   \n",
              "\n",
              "                                      Movie_Overview  \\\n",
              "0  It's Ted the Bellhop's first night on the job....   \n",
              "1  Princess Leia is captured and held hostage by ...   \n",
              "2  Nemo, an adventurous young clownfish, is unexp...   \n",
              "3  A man with a low IQ has accomplished great thi...   \n",
              "4  Lester Burnham, a depressed suburban father in...   \n",
              "\n",
              "                              Movie_Production_House  \\\n",
              "0  [{\"name\": \"Miramax Films\", \"id\": 14}, {\"name\":...   \n",
              "1  [{\"name\": \"Lucasfilm\", \"id\": 1}, {\"name\": \"Twe...   \n",
              "2     [{\"name\": \"Pixar Animation Studios\", \"id\": 3}]   \n",
              "3          [{\"name\": \"Paramount Pictures\", \"id\": 4}]   \n",
              "4  [{\"name\": \"DreamWorks SKG\", \"id\": 27}, {\"name\"...   \n",
              "\n",
              "                            Movie_Production_Country  \\\n",
              "0  [{\"iso_3166_1\": \"US\", \"name\": \"United States o...   \n",
              "1  [{\"iso_3166_1\": \"US\", \"name\": \"United States o...   \n",
              "2  [{\"iso_3166_1\": \"US\", \"name\": \"United States o...   \n",
              "3  [{\"iso_3166_1\": \"US\", \"name\": \"United States o...   \n",
              "4  [{\"iso_3166_1\": \"US\", \"name\": \"United States o...   \n",
              "\n",
              "                      Movie_Spoken_Language  \\\n",
              "0  [{\"iso_639_1\": \"en\", \"name\": \"English\"}]   \n",
              "1  [{\"iso_639_1\": \"en\", \"name\": \"English\"}]   \n",
              "2  [{\"iso_639_1\": \"en\", \"name\": \"English\"}]   \n",
              "3  [{\"iso_639_1\": \"en\", \"name\": \"English\"}]   \n",
              "4  [{\"iso_639_1\": \"en\", \"name\": \"English\"}]   \n",
              "\n",
              "                                       Movie_Tagline  \\\n",
              "0  Twelve outrageous guests. Four scandalous requ...   \n",
              "1       A long time ago in a galaxy far, far away...   \n",
              "2  There are 3.7 trillion fish in the ocean, they...   \n",
              "3  The world will never be the same, once you've ...   \n",
              "4                                       Look closer.   \n",
              "\n",
              "                                          Movie_Cast  \\\n",
              "0  Tim Roth Antonio Banderas Jennifer Beals Madon...   \n",
              "1  Mark Hamill Harrison Ford Carrie Fisher Peter ...   \n",
              "2  Albert Brooks Ellen DeGeneres Alexander Gould ...   \n",
              "3  Tom Hanks Robin Wright Gary Sinise Mykelti Wil...   \n",
              "4  Kevin Spacey Annette Bening Thora Birch Wes Be...   \n",
              "\n",
              "                                          Movie_Crew   Movie_Director  \n",
              "0  [{'name': 'Allison Anders', 'gender': 1, 'depa...   Allison Anders  \n",
              "1  [{'name': 'George Lucas', 'gender': 2, 'depart...     George Lucas  \n",
              "2  [{'name': 'Andrew Stanton', 'gender': 2, 'depa...   Andrew Stanton  \n",
              "3  [{'name': 'Alan Silvestri', 'gender': 2, 'depa...  Robert Zemeckis  \n",
              "4  [{'name': 'Thomas Newman', 'gender': 2, 'depar...       Sam Mendes  \n",
              "\n",
              "[5 rows x 21 columns]"
            ],
            "text/html": [
              "\n",
              "  <div id=\"df-b1cc694f-c4cb-4f84-a76c-23396373561d\">\n",
              "    <div class=\"colab-df-container\">\n",
              "      <div>\n",
              "<style scoped>\n",
              "    .dataframe tbody tr th:only-of-type {\n",
              "        vertical-align: middle;\n",
              "    }\n",
              "\n",
              "    .dataframe tbody tr th {\n",
              "        vertical-align: top;\n",
              "    }\n",
              "\n",
              "    .dataframe thead th {\n",
              "        text-align: right;\n",
              "    }\n",
              "</style>\n",
              "<table border=\"1\" class=\"dataframe\">\n",
              "  <thead>\n",
              "    <tr style=\"text-align: right;\">\n",
              "      <th></th>\n",
              "      <th>Movie_ID</th>\n",
              "      <th>Movie_Title</th>\n",
              "      <th>Movie_Genre</th>\n",
              "      <th>Movie_Language</th>\n",
              "      <th>Movie_Budget</th>\n",
              "      <th>Movie_Popularity</th>\n",
              "      <th>Movie_Release_Date</th>\n",
              "      <th>Movie_Revenue</th>\n",
              "      <th>Movie_Runtime</th>\n",
              "      <th>Movie_Vote</th>\n",
              "      <th>...</th>\n",
              "      <th>Movie_Homepage</th>\n",
              "      <th>Movie_Keywords</th>\n",
              "      <th>Movie_Overview</th>\n",
              "      <th>Movie_Production_House</th>\n",
              "      <th>Movie_Production_Country</th>\n",
              "      <th>Movie_Spoken_Language</th>\n",
              "      <th>Movie_Tagline</th>\n",
              "      <th>Movie_Cast</th>\n",
              "      <th>Movie_Crew</th>\n",
              "      <th>Movie_Director</th>\n",
              "    </tr>\n",
              "  </thead>\n",
              "  <tbody>\n",
              "    <tr>\n",
              "      <th>0</th>\n",
              "      <td>1</td>\n",
              "      <td>Four Rooms</td>\n",
              "      <td>Crime Comedy</td>\n",
              "      <td>en</td>\n",
              "      <td>4000000</td>\n",
              "      <td>22.876230</td>\n",
              "      <td>09-12-1995</td>\n",
              "      <td>4300000</td>\n",
              "      <td>98.0</td>\n",
              "      <td>6.5</td>\n",
              "      <td>...</td>\n",
              "      <td>NaN</td>\n",
              "      <td>hotel new year's eve witch bet hotel room</td>\n",
              "      <td>It's Ted the Bellhop's first night on the job....</td>\n",
              "      <td>[{\"name\": \"Miramax Films\", \"id\": 14}, {\"name\":...</td>\n",
              "      <td>[{\"iso_3166_1\": \"US\", \"name\": \"United States o...</td>\n",
              "      <td>[{\"iso_639_1\": \"en\", \"name\": \"English\"}]</td>\n",
              "      <td>Twelve outrageous guests. Four scandalous requ...</td>\n",
              "      <td>Tim Roth Antonio Banderas Jennifer Beals Madon...</td>\n",
              "      <td>[{'name': 'Allison Anders', 'gender': 1, 'depa...</td>\n",
              "      <td>Allison Anders</td>\n",
              "    </tr>\n",
              "    <tr>\n",
              "      <th>1</th>\n",
              "      <td>2</td>\n",
              "      <td>Star Wars</td>\n",
              "      <td>Adventure Action Science Fiction</td>\n",
              "      <td>en</td>\n",
              "      <td>11000000</td>\n",
              "      <td>126.393695</td>\n",
              "      <td>25-05-1977</td>\n",
              "      <td>775398007</td>\n",
              "      <td>121.0</td>\n",
              "      <td>8.1</td>\n",
              "      <td>...</td>\n",
              "      <td>http://www.starwars.com/films/star-wars-episod...</td>\n",
              "      <td>android galaxy hermit death star lightsaber</td>\n",
              "      <td>Princess Leia is captured and held hostage by ...</td>\n",
              "      <td>[{\"name\": \"Lucasfilm\", \"id\": 1}, {\"name\": \"Twe...</td>\n",
              "      <td>[{\"iso_3166_1\": \"US\", \"name\": \"United States o...</td>\n",
              "      <td>[{\"iso_639_1\": \"en\", \"name\": \"English\"}]</td>\n",
              "      <td>A long time ago in a galaxy far, far away...</td>\n",
              "      <td>Mark Hamill Harrison Ford Carrie Fisher Peter ...</td>\n",
              "      <td>[{'name': 'George Lucas', 'gender': 2, 'depart...</td>\n",
              "      <td>George Lucas</td>\n",
              "    </tr>\n",
              "    <tr>\n",
              "      <th>2</th>\n",
              "      <td>3</td>\n",
              "      <td>Finding Nemo</td>\n",
              "      <td>Animation Family</td>\n",
              "      <td>en</td>\n",
              "      <td>94000000</td>\n",
              "      <td>85.688789</td>\n",
              "      <td>30-05-2003</td>\n",
              "      <td>940335536</td>\n",
              "      <td>100.0</td>\n",
              "      <td>7.6</td>\n",
              "      <td>...</td>\n",
              "      <td>http://movies.disney.com/finding-nemo</td>\n",
              "      <td>father son relationship harbor underwater fish...</td>\n",
              "      <td>Nemo, an adventurous young clownfish, is unexp...</td>\n",
              "      <td>[{\"name\": \"Pixar Animation Studios\", \"id\": 3}]</td>\n",
              "      <td>[{\"iso_3166_1\": \"US\", \"name\": \"United States o...</td>\n",
              "      <td>[{\"iso_639_1\": \"en\", \"name\": \"English\"}]</td>\n",
              "      <td>There are 3.7 trillion fish in the ocean, they...</td>\n",
              "      <td>Albert Brooks Ellen DeGeneres Alexander Gould ...</td>\n",
              "      <td>[{'name': 'Andrew Stanton', 'gender': 2, 'depa...</td>\n",
              "      <td>Andrew Stanton</td>\n",
              "    </tr>\n",
              "    <tr>\n",
              "      <th>3</th>\n",
              "      <td>4</td>\n",
              "      <td>Forrest Gump</td>\n",
              "      <td>Comedy Drama Romance</td>\n",
              "      <td>en</td>\n",
              "      <td>55000000</td>\n",
              "      <td>138.133331</td>\n",
              "      <td>06-07-1994</td>\n",
              "      <td>677945399</td>\n",
              "      <td>142.0</td>\n",
              "      <td>8.2</td>\n",
              "      <td>...</td>\n",
              "      <td>NaN</td>\n",
              "      <td>vietnam veteran hippie mentally disabled runni...</td>\n",
              "      <td>A man with a low IQ has accomplished great thi...</td>\n",
              "      <td>[{\"name\": \"Paramount Pictures\", \"id\": 4}]</td>\n",
              "      <td>[{\"iso_3166_1\": \"US\", \"name\": \"United States o...</td>\n",
              "      <td>[{\"iso_639_1\": \"en\", \"name\": \"English\"}]</td>\n",
              "      <td>The world will never be the same, once you've ...</td>\n",
              "      <td>Tom Hanks Robin Wright Gary Sinise Mykelti Wil...</td>\n",
              "      <td>[{'name': 'Alan Silvestri', 'gender': 2, 'depa...</td>\n",
              "      <td>Robert Zemeckis</td>\n",
              "    </tr>\n",
              "    <tr>\n",
              "      <th>4</th>\n",
              "      <td>5</td>\n",
              "      <td>American Beauty</td>\n",
              "      <td>Drama</td>\n",
              "      <td>en</td>\n",
              "      <td>15000000</td>\n",
              "      <td>80.878605</td>\n",
              "      <td>15-09-1999</td>\n",
              "      <td>356296601</td>\n",
              "      <td>122.0</td>\n",
              "      <td>7.9</td>\n",
              "      <td>...</td>\n",
              "      <td>http://www.dreamworks.com/ab/</td>\n",
              "      <td>male nudity female nudity adultery midlife cri...</td>\n",
              "      <td>Lester Burnham, a depressed suburban father in...</td>\n",
              "      <td>[{\"name\": \"DreamWorks SKG\", \"id\": 27}, {\"name\"...</td>\n",
              "      <td>[{\"iso_3166_1\": \"US\", \"name\": \"United States o...</td>\n",
              "      <td>[{\"iso_639_1\": \"en\", \"name\": \"English\"}]</td>\n",
              "      <td>Look closer.</td>\n",
              "      <td>Kevin Spacey Annette Bening Thora Birch Wes Be...</td>\n",
              "      <td>[{'name': 'Thomas Newman', 'gender': 2, 'depar...</td>\n",
              "      <td>Sam Mendes</td>\n",
              "    </tr>\n",
              "  </tbody>\n",
              "</table>\n",
              "<p>5 rows × 21 columns</p>\n",
              "</div>\n",
              "      <button class=\"colab-df-convert\" onclick=\"convertToInteractive('df-b1cc694f-c4cb-4f84-a76c-23396373561d')\"\n",
              "              title=\"Convert this dataframe to an interactive table.\"\n",
              "              style=\"display:none;\">\n",
              "        \n",
              "  <svg xmlns=\"http://www.w3.org/2000/svg\" height=\"24px\"viewBox=\"0 0 24 24\"\n",
              "       width=\"24px\">\n",
              "    <path d=\"M0 0h24v24H0V0z\" fill=\"none\"/>\n",
              "    <path d=\"M18.56 5.44l.94 2.06.94-2.06 2.06-.94-2.06-.94-.94-2.06-.94 2.06-2.06.94zm-11 1L8.5 8.5l.94-2.06 2.06-.94-2.06-.94L8.5 2.5l-.94 2.06-2.06.94zm10 10l.94 2.06.94-2.06 2.06-.94-2.06-.94-.94-2.06-.94 2.06-2.06.94z\"/><path d=\"M17.41 7.96l-1.37-1.37c-.4-.4-.92-.59-1.43-.59-.52 0-1.04.2-1.43.59L10.3 9.45l-7.72 7.72c-.78.78-.78 2.05 0 2.83L4 21.41c.39.39.9.59 1.41.59.51 0 1.02-.2 1.41-.59l7.78-7.78 2.81-2.81c.8-.78.8-2.07 0-2.86zM5.41 20L4 18.59l7.72-7.72 1.47 1.35L5.41 20z\"/>\n",
              "  </svg>\n",
              "      </button>\n",
              "      \n",
              "  <style>\n",
              "    .colab-df-container {\n",
              "      display:flex;\n",
              "      flex-wrap:wrap;\n",
              "      gap: 12px;\n",
              "    }\n",
              "\n",
              "    .colab-df-convert {\n",
              "      background-color: #E8F0FE;\n",
              "      border: none;\n",
              "      border-radius: 50%;\n",
              "      cursor: pointer;\n",
              "      display: none;\n",
              "      fill: #1967D2;\n",
              "      height: 32px;\n",
              "      padding: 0 0 0 0;\n",
              "      width: 32px;\n",
              "    }\n",
              "\n",
              "    .colab-df-convert:hover {\n",
              "      background-color: #E2EBFA;\n",
              "      box-shadow: 0px 1px 2px rgba(60, 64, 67, 0.3), 0px 1px 3px 1px rgba(60, 64, 67, 0.15);\n",
              "      fill: #174EA6;\n",
              "    }\n",
              "\n",
              "    [theme=dark] .colab-df-convert {\n",
              "      background-color: #3B4455;\n",
              "      fill: #D2E3FC;\n",
              "    }\n",
              "\n",
              "    [theme=dark] .colab-df-convert:hover {\n",
              "      background-color: #434B5C;\n",
              "      box-shadow: 0px 1px 3px 1px rgba(0, 0, 0, 0.15);\n",
              "      filter: drop-shadow(0px 1px 2px rgba(0, 0, 0, 0.3));\n",
              "      fill: #FFFFFF;\n",
              "    }\n",
              "  </style>\n",
              "\n",
              "      <script>\n",
              "        const buttonEl =\n",
              "          document.querySelector('#df-b1cc694f-c4cb-4f84-a76c-23396373561d button.colab-df-convert');\n",
              "        buttonEl.style.display =\n",
              "          google.colab.kernel.accessAllowed ? 'block' : 'none';\n",
              "\n",
              "        async function convertToInteractive(key) {\n",
              "          const element = document.querySelector('#df-b1cc694f-c4cb-4f84-a76c-23396373561d');\n",
              "          const dataTable =\n",
              "            await google.colab.kernel.invokeFunction('convertToInteractive',\n",
              "                                                     [key], {});\n",
              "          if (!dataTable) return;\n",
              "\n",
              "          const docLinkHtml = 'Like what you see? Visit the ' +\n",
              "            '<a target=\"_blank\" href=https://colab.research.google.com/notebooks/data_table.ipynb>data table notebook</a>'\n",
              "            + ' to learn more about interactive tables.';\n",
              "          element.innerHTML = '';\n",
              "          dataTable['output_type'] = 'display_data';\n",
              "          await google.colab.output.renderOutput(dataTable, element);\n",
              "          const docLink = document.createElement('div');\n",
              "          docLink.innerHTML = docLinkHtml;\n",
              "          element.appendChild(docLink);\n",
              "        }\n",
              "      </script>\n",
              "    </div>\n",
              "  </div>\n",
              "  "
            ]
          },
          "metadata": {},
          "execution_count": 29
        }
      ]
    },
    {
      "cell_type": "code",
      "source": [
        "df.info()"
      ],
      "metadata": {
        "colab": {
          "base_uri": "https://localhost:8080/"
        },
        "id": "oLg-7yPIqL66",
        "outputId": "b7888484-35da-4fbc-94a7-8482b042f02b"
      },
      "execution_count": 30,
      "outputs": [
        {
          "output_type": "stream",
          "name": "stdout",
          "text": [
            "<class 'pandas.core.frame.DataFrame'>\n",
            "RangeIndex: 4760 entries, 0 to 4759\n",
            "Data columns (total 21 columns):\n",
            " #   Column                    Non-Null Count  Dtype  \n",
            "---  ------                    --------------  -----  \n",
            " 0   Movie_ID                  4760 non-null   int64  \n",
            " 1   Movie_Title               4760 non-null   object \n",
            " 2   Movie_Genre               4760 non-null   object \n",
            " 3   Movie_Language            4760 non-null   object \n",
            " 4   Movie_Budget              4760 non-null   int64  \n",
            " 5   Movie_Popularity          4760 non-null   float64\n",
            " 6   Movie_Release_Date        4760 non-null   object \n",
            " 7   Movie_Revenue             4760 non-null   int64  \n",
            " 8   Movie_Runtime             4758 non-null   float64\n",
            " 9   Movie_Vote                4760 non-null   float64\n",
            " 10  Movie_Vote_Count          4760 non-null   int64  \n",
            " 11  Movie_Homepage            1699 non-null   object \n",
            " 12  Movie_Keywords            4373 non-null   object \n",
            " 13  Movie_Overview            4757 non-null   object \n",
            " 14  Movie_Production_House    4760 non-null   object \n",
            " 15  Movie_Production_Country  4760 non-null   object \n",
            " 16  Movie_Spoken_Language     4760 non-null   object \n",
            " 17  Movie_Tagline             3942 non-null   object \n",
            " 18  Movie_Cast                4733 non-null   object \n",
            " 19  Movie_Crew                4760 non-null   object \n",
            " 20  Movie_Director            4738 non-null   object \n",
            "dtypes: float64(3), int64(4), object(14)\n",
            "memory usage: 781.1+ KB\n"
          ]
        }
      ]
    },
    {
      "cell_type": "code",
      "source": [
        "df.shape"
      ],
      "metadata": {
        "colab": {
          "base_uri": "https://localhost:8080/"
        },
        "id": "96hKh9AWqSFb",
        "outputId": "0f0574b4-9563-476b-d0f8-79a10176bb49"
      },
      "execution_count": 31,
      "outputs": [
        {
          "output_type": "execute_result",
          "data": {
            "text/plain": [
              "(4760, 21)"
            ]
          },
          "metadata": {},
          "execution_count": 31
        }
      ]
    },
    {
      "cell_type": "code",
      "source": [
        "df.columns"
      ],
      "metadata": {
        "colab": {
          "base_uri": "https://localhost:8080/"
        },
        "id": "KdXueZvBqWTt",
        "outputId": "224094f6-dfea-421f-f68a-9c3007d9abd3"
      },
      "execution_count": 32,
      "outputs": [
        {
          "output_type": "execute_result",
          "data": {
            "text/plain": [
              "Index(['Movie_ID', 'Movie_Title', 'Movie_Genre', 'Movie_Language',\n",
              "       'Movie_Budget', 'Movie_Popularity', 'Movie_Release_Date',\n",
              "       'Movie_Revenue', 'Movie_Runtime', 'Movie_Vote', 'Movie_Vote_Count',\n",
              "       'Movie_Homepage', 'Movie_Keywords', 'Movie_Overview',\n",
              "       'Movie_Production_House', 'Movie_Production_Country',\n",
              "       'Movie_Spoken_Language', 'Movie_Tagline', 'Movie_Cast', 'Movie_Crew',\n",
              "       'Movie_Director'],\n",
              "      dtype='object')"
            ]
          },
          "metadata": {},
          "execution_count": 32
        }
      ]
    },
    {
      "cell_type": "markdown",
      "source": [
        "### **Get Feature Selection**"
      ],
      "metadata": {
        "id": "dmeSwYCH4_FL"
      }
    },
    {
      "cell_type": "code",
      "source": [
        "df_features = df[['Movie_Genre','Movie_Keywords','Movie_Tagline','Movie_Cast','Movie_Director']].fillna('')"
      ],
      "metadata": {
        "id": "bdTcse6nqcq6"
      },
      "execution_count": 33,
      "outputs": []
    },
    {
      "cell_type": "code",
      "source": [
        "df_features.shape"
      ],
      "metadata": {
        "colab": {
          "base_uri": "https://localhost:8080/"
        },
        "id": "-wgZfqI_rHj8",
        "outputId": "07083a6d-50c8-4bab-f08c-7c1ea464a67e"
      },
      "execution_count": 34,
      "outputs": [
        {
          "output_type": "execute_result",
          "data": {
            "text/plain": [
              "(4760, 5)"
            ]
          },
          "metadata": {},
          "execution_count": 34
        }
      ]
    },
    {
      "cell_type": "code",
      "source": [
        "df_features"
      ],
      "metadata": {
        "colab": {
          "base_uri": "https://localhost:8080/",
          "height": 623
        },
        "id": "_H631lzurOrw",
        "outputId": "2f357e29-c731-44c1-fe1a-241b1ae679d5"
      },
      "execution_count": 35,
      "outputs": [
        {
          "output_type": "execute_result",
          "data": {
            "text/plain": [
              "                           Movie_Genre  \\\n",
              "0                         Crime Comedy   \n",
              "1     Adventure Action Science Fiction   \n",
              "2                     Animation Family   \n",
              "3                 Comedy Drama Romance   \n",
              "4                                Drama   \n",
              "...                                ...   \n",
              "4755                            Horror   \n",
              "4756               Comedy Family Drama   \n",
              "4757                    Thriller Drama   \n",
              "4758                            Family   \n",
              "4759                       Documentary   \n",
              "\n",
              "                                         Movie_Keywords  \\\n",
              "0             hotel new year's eve witch bet hotel room   \n",
              "1           android galaxy hermit death star lightsaber   \n",
              "2     father son relationship harbor underwater fish...   \n",
              "3     vietnam veteran hippie mentally disabled runni...   \n",
              "4     male nudity female nudity adultery midlife cri...   \n",
              "...                                                 ...   \n",
              "4755                                                      \n",
              "4756                                                      \n",
              "4757                     christian film sex trafficking   \n",
              "4758                                                      \n",
              "4759  music actors legendary perfomer classic hollyw...   \n",
              "\n",
              "                                          Movie_Tagline  \\\n",
              "0     Twelve outrageous guests. Four scandalous requ...   \n",
              "1          A long time ago in a galaxy far, far away...   \n",
              "2     There are 3.7 trillion fish in the ocean, they...   \n",
              "3     The world will never be the same, once you've ...   \n",
              "4                                          Look closer.   \n",
              "...                                                 ...   \n",
              "4755                The hot spot where Satan's waitin'.   \n",
              "4756           It’s better to stand out than to fit in.   \n",
              "4757           She never knew it could happen to her...   \n",
              "4758                                                      \n",
              "4759                                                      \n",
              "\n",
              "                                             Movie_Cast     Movie_Director  \n",
              "0     Tim Roth Antonio Banderas Jennifer Beals Madon...     Allison Anders  \n",
              "1     Mark Hamill Harrison Ford Carrie Fisher Peter ...       George Lucas  \n",
              "2     Albert Brooks Ellen DeGeneres Alexander Gould ...     Andrew Stanton  \n",
              "3     Tom Hanks Robin Wright Gary Sinise Mykelti Wil...    Robert Zemeckis  \n",
              "4     Kevin Spacey Annette Bening Thora Birch Wes Be...         Sam Mendes  \n",
              "...                                                 ...                ...  \n",
              "4755  Lisa Hart Carroll Michael Des Barres Paul Drak...         Pece Dingo  \n",
              "4756  Roni Akurati Brighton Sharbino Jason Lee Anjul...       Frank Lotito  \n",
              "4757  Nicole Smolen Kim Baldwin Ariana Stephens Brys...       Jaco Booyens  \n",
              "4758                                                                        \n",
              "4759                                    Tony Oppedisano  Simon Napier-Bell  \n",
              "\n",
              "[4760 rows x 5 columns]"
            ],
            "text/html": [
              "\n",
              "  <div id=\"df-c0981cda-8ff6-4acd-b7f2-af98cee2fa39\">\n",
              "    <div class=\"colab-df-container\">\n",
              "      <div>\n",
              "<style scoped>\n",
              "    .dataframe tbody tr th:only-of-type {\n",
              "        vertical-align: middle;\n",
              "    }\n",
              "\n",
              "    .dataframe tbody tr th {\n",
              "        vertical-align: top;\n",
              "    }\n",
              "\n",
              "    .dataframe thead th {\n",
              "        text-align: right;\n",
              "    }\n",
              "</style>\n",
              "<table border=\"1\" class=\"dataframe\">\n",
              "  <thead>\n",
              "    <tr style=\"text-align: right;\">\n",
              "      <th></th>\n",
              "      <th>Movie_Genre</th>\n",
              "      <th>Movie_Keywords</th>\n",
              "      <th>Movie_Tagline</th>\n",
              "      <th>Movie_Cast</th>\n",
              "      <th>Movie_Director</th>\n",
              "    </tr>\n",
              "  </thead>\n",
              "  <tbody>\n",
              "    <tr>\n",
              "      <th>0</th>\n",
              "      <td>Crime Comedy</td>\n",
              "      <td>hotel new year's eve witch bet hotel room</td>\n",
              "      <td>Twelve outrageous guests. Four scandalous requ...</td>\n",
              "      <td>Tim Roth Antonio Banderas Jennifer Beals Madon...</td>\n",
              "      <td>Allison Anders</td>\n",
              "    </tr>\n",
              "    <tr>\n",
              "      <th>1</th>\n",
              "      <td>Adventure Action Science Fiction</td>\n",
              "      <td>android galaxy hermit death star lightsaber</td>\n",
              "      <td>A long time ago in a galaxy far, far away...</td>\n",
              "      <td>Mark Hamill Harrison Ford Carrie Fisher Peter ...</td>\n",
              "      <td>George Lucas</td>\n",
              "    </tr>\n",
              "    <tr>\n",
              "      <th>2</th>\n",
              "      <td>Animation Family</td>\n",
              "      <td>father son relationship harbor underwater fish...</td>\n",
              "      <td>There are 3.7 trillion fish in the ocean, they...</td>\n",
              "      <td>Albert Brooks Ellen DeGeneres Alexander Gould ...</td>\n",
              "      <td>Andrew Stanton</td>\n",
              "    </tr>\n",
              "    <tr>\n",
              "      <th>3</th>\n",
              "      <td>Comedy Drama Romance</td>\n",
              "      <td>vietnam veteran hippie mentally disabled runni...</td>\n",
              "      <td>The world will never be the same, once you've ...</td>\n",
              "      <td>Tom Hanks Robin Wright Gary Sinise Mykelti Wil...</td>\n",
              "      <td>Robert Zemeckis</td>\n",
              "    </tr>\n",
              "    <tr>\n",
              "      <th>4</th>\n",
              "      <td>Drama</td>\n",
              "      <td>male nudity female nudity adultery midlife cri...</td>\n",
              "      <td>Look closer.</td>\n",
              "      <td>Kevin Spacey Annette Bening Thora Birch Wes Be...</td>\n",
              "      <td>Sam Mendes</td>\n",
              "    </tr>\n",
              "    <tr>\n",
              "      <th>...</th>\n",
              "      <td>...</td>\n",
              "      <td>...</td>\n",
              "      <td>...</td>\n",
              "      <td>...</td>\n",
              "      <td>...</td>\n",
              "    </tr>\n",
              "    <tr>\n",
              "      <th>4755</th>\n",
              "      <td>Horror</td>\n",
              "      <td></td>\n",
              "      <td>The hot spot where Satan's waitin'.</td>\n",
              "      <td>Lisa Hart Carroll Michael Des Barres Paul Drak...</td>\n",
              "      <td>Pece Dingo</td>\n",
              "    </tr>\n",
              "    <tr>\n",
              "      <th>4756</th>\n",
              "      <td>Comedy Family Drama</td>\n",
              "      <td></td>\n",
              "      <td>It’s better to stand out than to fit in.</td>\n",
              "      <td>Roni Akurati Brighton Sharbino Jason Lee Anjul...</td>\n",
              "      <td>Frank Lotito</td>\n",
              "    </tr>\n",
              "    <tr>\n",
              "      <th>4757</th>\n",
              "      <td>Thriller Drama</td>\n",
              "      <td>christian film sex trafficking</td>\n",
              "      <td>She never knew it could happen to her...</td>\n",
              "      <td>Nicole Smolen Kim Baldwin Ariana Stephens Brys...</td>\n",
              "      <td>Jaco Booyens</td>\n",
              "    </tr>\n",
              "    <tr>\n",
              "      <th>4758</th>\n",
              "      <td>Family</td>\n",
              "      <td></td>\n",
              "      <td></td>\n",
              "      <td></td>\n",
              "      <td></td>\n",
              "    </tr>\n",
              "    <tr>\n",
              "      <th>4759</th>\n",
              "      <td>Documentary</td>\n",
              "      <td>music actors legendary perfomer classic hollyw...</td>\n",
              "      <td></td>\n",
              "      <td>Tony Oppedisano</td>\n",
              "      <td>Simon Napier-Bell</td>\n",
              "    </tr>\n",
              "  </tbody>\n",
              "</table>\n",
              "<p>4760 rows × 5 columns</p>\n",
              "</div>\n",
              "      <button class=\"colab-df-convert\" onclick=\"convertToInteractive('df-c0981cda-8ff6-4acd-b7f2-af98cee2fa39')\"\n",
              "              title=\"Convert this dataframe to an interactive table.\"\n",
              "              style=\"display:none;\">\n",
              "        \n",
              "  <svg xmlns=\"http://www.w3.org/2000/svg\" height=\"24px\"viewBox=\"0 0 24 24\"\n",
              "       width=\"24px\">\n",
              "    <path d=\"M0 0h24v24H0V0z\" fill=\"none\"/>\n",
              "    <path d=\"M18.56 5.44l.94 2.06.94-2.06 2.06-.94-2.06-.94-.94-2.06-.94 2.06-2.06.94zm-11 1L8.5 8.5l.94-2.06 2.06-.94-2.06-.94L8.5 2.5l-.94 2.06-2.06.94zm10 10l.94 2.06.94-2.06 2.06-.94-2.06-.94-.94-2.06-.94 2.06-2.06.94z\"/><path d=\"M17.41 7.96l-1.37-1.37c-.4-.4-.92-.59-1.43-.59-.52 0-1.04.2-1.43.59L10.3 9.45l-7.72 7.72c-.78.78-.78 2.05 0 2.83L4 21.41c.39.39.9.59 1.41.59.51 0 1.02-.2 1.41-.59l7.78-7.78 2.81-2.81c.8-.78.8-2.07 0-2.86zM5.41 20L4 18.59l7.72-7.72 1.47 1.35L5.41 20z\"/>\n",
              "  </svg>\n",
              "      </button>\n",
              "      \n",
              "  <style>\n",
              "    .colab-df-container {\n",
              "      display:flex;\n",
              "      flex-wrap:wrap;\n",
              "      gap: 12px;\n",
              "    }\n",
              "\n",
              "    .colab-df-convert {\n",
              "      background-color: #E8F0FE;\n",
              "      border: none;\n",
              "      border-radius: 50%;\n",
              "      cursor: pointer;\n",
              "      display: none;\n",
              "      fill: #1967D2;\n",
              "      height: 32px;\n",
              "      padding: 0 0 0 0;\n",
              "      width: 32px;\n",
              "    }\n",
              "\n",
              "    .colab-df-convert:hover {\n",
              "      background-color: #E2EBFA;\n",
              "      box-shadow: 0px 1px 2px rgba(60, 64, 67, 0.3), 0px 1px 3px 1px rgba(60, 64, 67, 0.15);\n",
              "      fill: #174EA6;\n",
              "    }\n",
              "\n",
              "    [theme=dark] .colab-df-convert {\n",
              "      background-color: #3B4455;\n",
              "      fill: #D2E3FC;\n",
              "    }\n",
              "\n",
              "    [theme=dark] .colab-df-convert:hover {\n",
              "      background-color: #434B5C;\n",
              "      box-shadow: 0px 1px 3px 1px rgba(0, 0, 0, 0.15);\n",
              "      filter: drop-shadow(0px 1px 2px rgba(0, 0, 0, 0.3));\n",
              "      fill: #FFFFFF;\n",
              "    }\n",
              "  </style>\n",
              "\n",
              "      <script>\n",
              "        const buttonEl =\n",
              "          document.querySelector('#df-c0981cda-8ff6-4acd-b7f2-af98cee2fa39 button.colab-df-convert');\n",
              "        buttonEl.style.display =\n",
              "          google.colab.kernel.accessAllowed ? 'block' : 'none';\n",
              "\n",
              "        async function convertToInteractive(key) {\n",
              "          const element = document.querySelector('#df-c0981cda-8ff6-4acd-b7f2-af98cee2fa39');\n",
              "          const dataTable =\n",
              "            await google.colab.kernel.invokeFunction('convertToInteractive',\n",
              "                                                     [key], {});\n",
              "          if (!dataTable) return;\n",
              "\n",
              "          const docLinkHtml = 'Like what you see? Visit the ' +\n",
              "            '<a target=\"_blank\" href=https://colab.research.google.com/notebooks/data_table.ipynb>data table notebook</a>'\n",
              "            + ' to learn more about interactive tables.';\n",
              "          element.innerHTML = '';\n",
              "          dataTable['output_type'] = 'display_data';\n",
              "          await google.colab.output.renderOutput(dataTable, element);\n",
              "          const docLink = document.createElement('div');\n",
              "          docLink.innerHTML = docLinkHtml;\n",
              "          element.appendChild(docLink);\n",
              "        }\n",
              "      </script>\n",
              "    </div>\n",
              "  </div>\n",
              "  "
            ]
          },
          "metadata": {},
          "execution_count": 35
        }
      ]
    },
    {
      "cell_type": "code",
      "source": [
        "x = df_features['Movie_Genre']+''+df_features['Movie_Keywords']+''+df_features['Movie_Tagline']+''+df_features['Movie_Cast']+''+df_features['Movie_Director']"
      ],
      "metadata": {
        "id": "X5mBgexLry5p"
      },
      "execution_count": 36,
      "outputs": []
    },
    {
      "cell_type": "code",
      "source": [
        "x"
      ],
      "metadata": {
        "colab": {
          "base_uri": "https://localhost:8080/"
        },
        "id": "CUyk2paqsOWu",
        "outputId": "36fd606c-eed5-4fbd-df5f-45a4e21c55ee"
      },
      "execution_count": 37,
      "outputs": [
        {
          "output_type": "execute_result",
          "data": {
            "text/plain": [
              "0       Crime Comedyhotel new year's eve witch bet hot...\n",
              "1       Adventure Action Science Fictionandroid galaxy...\n",
              "2       Animation Familyfather son relationship harbor...\n",
              "3       Comedy Drama Romancevietnam veteran hippie men...\n",
              "4       Dramamale nudity female nudity adultery midlif...\n",
              "                              ...                        \n",
              "4755    HorrorThe hot spot where Satan's waitin'.Lisa ...\n",
              "4756    Comedy Family DramaIt’s better to stand out th...\n",
              "4757    Thriller Dramachristian film sex traffickingSh...\n",
              "4758                                               Family\n",
              "4759    Documentarymusic actors legendary perfomer cla...\n",
              "Length: 4760, dtype: object"
            ]
          },
          "metadata": {},
          "execution_count": 37
        }
      ]
    },
    {
      "cell_type": "code",
      "source": [
        "x.shape"
      ],
      "metadata": {
        "colab": {
          "base_uri": "https://localhost:8080/"
        },
        "id": "lU91L-W6sSKB",
        "outputId": "9afedf9f-204e-460a-bb28-8857fc2fb252"
      },
      "execution_count": 38,
      "outputs": [
        {
          "output_type": "execute_result",
          "data": {
            "text/plain": [
              "(4760,)"
            ]
          },
          "metadata": {},
          "execution_count": 38
        }
      ]
    },
    {
      "cell_type": "markdown",
      "source": [
        "### **Get Feature Text Conversion to Tokens**"
      ],
      "metadata": {
        "id": "buS448A-5Rf-"
      }
    },
    {
      "cell_type": "code",
      "source": [
        "from sklearn.feature_extraction.text import TfidfVectorizer\n",
        "tfidf = TfidfVectorizer()\n",
        "x = tfidf.fit_transform(x)"
      ],
      "metadata": {
        "id": "QDVnUnnHsVsh"
      },
      "execution_count": 39,
      "outputs": []
    },
    {
      "cell_type": "code",
      "source": [
        "x.shape"
      ],
      "metadata": {
        "colab": {
          "base_uri": "https://localhost:8080/"
        },
        "id": "pooU1fOPs73j",
        "outputId": "ac877928-ff26-4296-e8c9-f6ebb4f310bf"
      },
      "execution_count": 40,
      "outputs": [
        {
          "output_type": "execute_result",
          "data": {
            "text/plain": [
              "(4760, 27466)"
            ]
          },
          "metadata": {},
          "execution_count": 40
        }
      ]
    },
    {
      "cell_type": "code",
      "source": [
        "print(x)"
      ],
      "metadata": {
        "colab": {
          "base_uri": "https://localhost:8080/"
        },
        "id": "ebDa3VxBs_mU",
        "outputId": "385a83b7-f61b-42be-9e40-01c714fa2f5d"
      },
      "execution_count": 41,
      "outputs": [
        {
          "output_type": "stream",
          "name": "stdout",
          "text": [
            "  (0, 1028)\t0.16196019146631543\n",
            "  (0, 24785)\t0.1954632929283795\n",
            "  (0, 15844)\t0.14205053053187272\n",
            "  (0, 15553)\t0.17099186675469502\n",
            "  (0, 2132)\t0.18002354204307464\n",
            "  (0, 13312)\t0.09914387783149516\n",
            "  (0, 1887)\t0.14106037409792174\n",
            "  (0, 1216)\t0.13920306109638164\n",
            "  (0, 21158)\t0.14205053053187272\n",
            "  (0, 24701)\t0.11357423942624927\n",
            "  (0, 14943)\t0.091376722056839\n",
            "  (0, 18098)\t0.06200430666985742\n",
            "  (0, 26738)\t0.175053052455033\n",
            "  (0, 9790)\t0.08712552095655665\n",
            "  (0, 26675)\t0.1116831168780693\n",
            "  (0, 13401)\t0.13748876529263096\n",
            "  (0, 24105)\t0.10726395493180996\n",
            "  (0, 18192)\t0.07278761942152372\n",
            "  (0, 6172)\t0.11970212451073885\n",
            "  (0, 9626)\t0.11757910435818826\n",
            "  (0, 11960)\t0.20134029899961134\n",
            "  (0, 12801)\t0.1530338818199682\n",
            "  (0, 2292)\t0.1954632929283795\n",
            "  (0, 15172)\t0.1537691763994982\n",
            "  (0, 18196)\t0.08579029869987485\n",
            "  :\t:\n",
            "  (4757, 1839)\t0.19327629083107672\n",
            "  (4757, 5410)\t0.19734759150400596\n",
            "  (4757, 11350)\t0.21582294886514122\n",
            "  (4757, 22017)\t0.1646400247918531\n",
            "  (4757, 17789)\t0.18881341937258544\n",
            "  (4757, 9484)\t0.1411164779725638\n",
            "  (4757, 14176)\t0.2330831990045816\n",
            "  (4757, 11762)\t0.17321388936472645\n",
            "  (4757, 14052)\t0.1776312353410007\n",
            "  (4757, 24232)\t0.10947784435203887\n",
            "  (4757, 24746)\t0.09744940789814222\n",
            "  (4757, 13079)\t0.12400374714145113\n",
            "  (4757, 17721)\t0.1489085353667712\n",
            "  (4758, 8651)\t1.0\n",
            "  (4759, 18229)\t0.33527342183765224\n",
            "  (4759, 22434)\t0.33527342183765224\n",
            "  (4759, 18841)\t0.33527342183765224\n",
            "  (4759, 6950)\t0.33527342183765224\n",
            "  (4759, 345)\t0.31978160936741457\n",
            "  (4759, 14742)\t0.31978160936741457\n",
            "  (4759, 12139)\t0.2778063685558062\n",
            "  (4759, 4446)\t0.282306565154911\n",
            "  (4759, 17552)\t0.3087899934962816\n",
            "  (4759, 9955)\t0.21805075638656476\n",
            "  (4759, 2285)\t0.21465229435984196\n"
          ]
        }
      ]
    },
    {
      "cell_type": "markdown",
      "source": [
        "### **Get Similarity Score Using Cosine Similarity**"
      ],
      "metadata": {
        "id": "z6KDMFuE5osA"
      }
    },
    {
      "cell_type": "markdown",
      "source": [
        "cosine_similarity computes the L2-normalized dot product of vectors. "
      ],
      "metadata": {
        "id": "IBwCTi1n5zLY"
      }
    },
    {
      "cell_type": "code",
      "source": [
        "from sklearn.metrics.pairwise import cosine_similarity\n",
        "\n",
        "Similarity_Score = cosine_similarity(x)\n",
        "Similarity_Score"
      ],
      "metadata": {
        "colab": {
          "base_uri": "https://localhost:8080/"
        },
        "id": "9Tm0yMD5tCnd",
        "outputId": "3ac158ef-a9a2-4219-87de-6e6f99262597"
      },
      "execution_count": 42,
      "outputs": [
        {
          "output_type": "execute_result",
          "data": {
            "text/plain": [
              "array([[1.        , 0.01438634, 0.03807033, ..., 0.        , 0.        ,\n",
              "        0.        ],\n",
              "       [0.01438634, 1.        , 0.00844858, ..., 0.        , 0.        ,\n",
              "        0.        ],\n",
              "       [0.03807033, 0.00844858, 1.        , ..., 0.        , 0.        ,\n",
              "        0.        ],\n",
              "       ...,\n",
              "       [0.        , 0.        , 0.        , ..., 1.        , 0.        ,\n",
              "        0.        ],\n",
              "       [0.        , 0.        , 0.        , ..., 0.        , 1.        ,\n",
              "        0.        ],\n",
              "       [0.        , 0.        , 0.        , ..., 0.        , 0.        ,\n",
              "        1.        ]])"
            ]
          },
          "metadata": {},
          "execution_count": 42
        }
      ]
    },
    {
      "cell_type": "code",
      "source": [
        "Similarity_Score.shape"
      ],
      "metadata": {
        "colab": {
          "base_uri": "https://localhost:8080/"
        },
        "id": "hW-atrM7tl67",
        "outputId": "1208090a-8cdd-4ed4-9261-e958bebd2cfd"
      },
      "execution_count": 43,
      "outputs": [
        {
          "output_type": "execute_result",
          "data": {
            "text/plain": [
              "(4760, 4760)"
            ]
          },
          "metadata": {},
          "execution_count": 43
        }
      ]
    },
    {
      "cell_type": "markdown",
      "source": [
        "### **Get Movies Name as Input from User and Validate for Closest Spelling**"
      ],
      "metadata": {
        "id": "oTWxMSzg6Hwy"
      }
    },
    {
      "cell_type": "code",
      "source": [
        "Favourite_Movie_Name = input ('Enter Your Favourite Movie Name: ')"
      ],
      "metadata": {
        "colab": {
          "base_uri": "https://localhost:8080/"
        },
        "id": "QIvITP-GtsF-",
        "outputId": "757f5f82-1edb-4338-c2fe-ace9f83e9144"
      },
      "execution_count": 44,
      "outputs": [
        {
          "name": "stdout",
          "output_type": "stream",
          "text": [
            "Enter Your Favourite Movie Name: Avengers\n"
          ]
        }
      ]
    },
    {
      "cell_type": "code",
      "source": [
        "All_Movies_Title_List = df['Movie_Title'].tolist()"
      ],
      "metadata": {
        "id": "H6yojGfwt8yh"
      },
      "execution_count": 45,
      "outputs": []
    },
    {
      "cell_type": "code",
      "source": [
        "import difflib"
      ],
      "metadata": {
        "id": "QxsMXUkbuLXi"
      },
      "execution_count": 46,
      "outputs": []
    },
    {
      "cell_type": "code",
      "source": [
        "Movie_Recommendation = difflib.get_close_matches(Favourite_Movie_Name, All_Movies_Title_List)\n",
        "print(Movie_Recommendation)"
      ],
      "metadata": {
        "colab": {
          "base_uri": "https://localhost:8080/"
        },
        "id": "ntcVjmCOuN1U",
        "outputId": "193a79ad-413f-4f14-c3f6-877bc2534a02"
      },
      "execution_count": 47,
      "outputs": [
        {
          "output_type": "stream",
          "name": "stdout",
          "text": [
            "['The Avengers', 'Swingers']\n"
          ]
        }
      ]
    },
    {
      "cell_type": "code",
      "source": [
        "Close_Match = Movie_Recommendation[0]\n",
        "print(Close_Match)"
      ],
      "metadata": {
        "colab": {
          "base_uri": "https://localhost:8080/"
        },
        "id": "1_jc1bvnurQI",
        "outputId": "652e505c-98a2-47ca-9b68-20096ae76985"
      },
      "execution_count": 48,
      "outputs": [
        {
          "output_type": "stream",
          "name": "stdout",
          "text": [
            "The Avengers\n"
          ]
        }
      ]
    },
    {
      "cell_type": "code",
      "source": [
        "Index_Of_Close_Match_Movie = df[df.Movie_Title == Close_Match]['Movie_ID'].values[0]\n",
        "print(Index_Of_Close_Match_Movie)"
      ],
      "metadata": {
        "colab": {
          "base_uri": "https://localhost:8080/"
        },
        "id": "zxUXjDXbvRSY",
        "outputId": "cf39e05e-0521-47c7-9327-b233e1da2734"
      },
      "execution_count": 49,
      "outputs": [
        {
          "output_type": "stream",
          "name": "stdout",
          "text": [
            "2851\n"
          ]
        }
      ]
    },
    {
      "cell_type": "code",
      "source": [
        "# Getting List of Similar Movies\n",
        "\n",
        "Recommendation_Score = list(enumerate(Similarity_Score[Index_Of_Close_Match_Movie]))\n",
        "print(Recommendation_Score)"
      ],
      "metadata": {
        "colab": {
          "base_uri": "https://localhost:8080/"
        },
        "id": "xuFzOp6Nvlbc",
        "outputId": "a6d0e552-0ea6-4a42-8a4f-d9959ccc0a36"
      },
      "execution_count": 50,
      "outputs": [
        {
          "output_type": "stream",
          "name": "stdout",
          "text": [
            "[(0, 0.0), (1, 0.0), (2, 0.019413788436976224), (3, 0.0), (4, 0.0), (5, 0.009954246689121385), (6, 0.0), (7, 0.0), (8, 0.0), (9, 0.009395386107967125), (10, 0.0), (11, 0.010369040917535327), (12, 0.0), (13, 0.0), (14, 0.023549459076817582), (15, 0.0), (16, 0.0), (17, 0.0), (18, 0.022508172359469596), (19, 0.05307311392449669), (20, 0.0), (21, 0.0), (22, 0.0), (23, 0.0), (24, 0.0), (25, 0.008367005273192599), (26, 0.0), (27, 0.0), (28, 0.0), (29, 0.0), (30, 0.02231827820526264), (31, 0.0), (32, 0.0), (33, 0.0), (34, 0.030836897425786165), (35, 0.0), (36, 0.0), (37, 0.0), (38, 0.0), (39, 0.0), (40, 0.0), (41, 0.0), (42, 0.009936100153531061), (43, 0.0), (44, 0.0), (45, 0.03517122307657383), (46, 0.0), (47, 0.0), (48, 0.0), (49, 0.00963651074237291), (50, 0.0), (51, 0.0), (52, 0.030819687846908368), (53, 0.0), (54, 0.010076510483635462), (55, 0.0), (56, 0.0), (57, 0.0), (58, 0.00856450045841661), (59, 0.0), (60, 0.0), (61, 0.0), (62, 0.0), (63, 0.0), (64, 0.031132108150206204), (65, 0.02349308502024747), (66, 0.01037035033820926), (67, 0.021798815070512092), (68, 0.0), (69, 0.027303643725806508), (70, 0.0), (71, 0.0), (72, 0.0), (73, 0.0), (74, 0.0), (75, 0.030129575681879094), (76, 0.008518416414502848), (77, 0.0), (78, 0.02043836150997057), (79, 0.0), (80, 0.021556829132640523), (81, 0.0), (82, 0.02020070133284756), (83, 0.0), (84, 0.0), (85, 0.0), (86, 0.0), (87, 0.0), (88, 0.0), (89, 0.0), (90, 0.035609902973714275), (91, 0.0), (92, 0.0), (93, 0.03587680362837696), (94, 0.03294130980727945), (95, 0.03645067166660523), (96, 0.0), (97, 0.0), (98, 0.0), (99, 0.0), (100, 0.0), (101, 0.0), (102, 0.0), (103, 0.0), (104, 0.0), (105, 0.0351954997735302), (106, 0.007866403928708477), (107, 0.0), (108, 0.01603040565389341), (109, 0.0), (110, 0.0), (111, 0.00930294529814707), (112, 0.0), (113, 0.021047957521291866), (114, 0.0), (115, 0.020310669832039094), (116, 0.0958311093545825), (117, 0.0), (118, 0.0), (119, 0.0), (120, 0.0), (121, 0.0), (122, 0.0), (123, 0.0), (124, 0.0), (125, 0.0), (126, 0.0), (127, 0.0), (128, 0.0), (129, 0.0), (130, 0.0), (131, 0.010387968229224368), (132, 0.0), (133, 0.0), (134, 0.0), (135, 0.0), (136, 0.0), (137, 0.033324469747108315), (138, 0.0), (139, 0.0), (140, 0.0), (141, 0.0), (142, 0.0), (143, 0.0), (144, 0.0), (145, 0.0), (146, 0.0), (147, 0.0), (148, 0.0), (149, 0.0), (150, 0.0), (151, 0.0), (152, 0.02356717727127306), (153, 0.0), (154, 0.022136829824064914), (155, 0.02241831992171299), (156, 0.023765012136705354), (157, 0.0), (158, 0.0), (159, 0.0), (160, 0.0), (161, 0.008976002403219056), (162, 0.0), (163, 0.0), (164, 0.0), (165, 0.0), (166, 0.0), (167, 0.0), (168, 0.0), (169, 0.0), (170, 0.0), (171, 0.0), (172, 0.0), (173, 0.02469951025814291), (174, 0.0), (175, 0.0), (176, 0.0), (177, 0.0), (178, 0.023594136977908655), (179, 0.022957358766159206), (180, 0.0), (181, 0.0), (182, 0.0), (183, 0.0), (184, 0.0), (185, 0.0), (186, 0.0), (187, 0.0), (188, 0.0), (189, 0.0), (190, 0.0), (191, 0.008980937639203967), (192, 0.023664374198396464), (193, 0.010154341623825962), (194, 0.0), (195, 0.01710512397559916), (196, 0.016590998408674607), (197, 0.0), (198, 0.05176151657680916), (199, 0.0), (200, 0.0), (201, 0.0), (202, 0.023381735783775164), (203, 0.0), (204, 0.010355979801396525), (205, 0.010406560795039663), (206, 0.0), (207, 0.0), (208, 0.0), (209, 0.0), (210, 0.0), (211, 0.0), (212, 0.0), (213, 0.022792147916556725), (214, 0.0), (215, 0.009521224664219606), (216, 0.0), (217, 0.0262620775591157), (218, 0.0), (219, 0.0), (220, 0.0), (221, 0.0), (222, 0.0), (223, 0.0), (224, 0.0), (225, 0.0), (226, 0.0), (227, 0.010626266750501418), (228, 0.0), (229, 0.0), (230, 0.0), (231, 0.0), (232, 0.0), (233, 0.0), (234, 0.0), (235, 0.0), (236, 0.02824955486911035), (237, 0.027553225769021594), (238, 0.0), (239, 0.0), (240, 0.009351967827973777), (241, 0.0), (242, 0.008777284520561377), (243, 0.007089065757519387), (244, 0.0), (245, 0.0), (246, 0.026194605652015666), (247, 0.0), (248, 0.0), (249, 0.02622980217801331), (250, 0.0), (251, 0.0), (252, 0.0), (253, 0.0), (254, 0.0), (255, 0.0), (256, 0.0), (257, 0.0), (258, 0.0), (259, 0.010040580506908165), (260, 0.0), (261, 0.0), (262, 0.0), (263, 0.0), (264, 0.0), (265, 0.0), (266, 0.02247012353545456), (267, 0.0), (268, 0.0), (269, 0.020651932771020842), (270, 0.01007661789077748), (271, 0.0), (272, 0.0), (273, 0.0), (274, 0.0), (275, 0.0), (276, 0.0), (277, 0.008650603205915533), (278, 0.0), (279, 0.0), (280, 0.0), (281, 0.0), (282, 0.0), (283, 0.0), (284, 0.0), (285, 0.0), (286, 0.0), (287, 0.0), (288, 0.00841239634450174), (289, 0.0), (290, 0.0), (291, 0.0), (292, 0.0), (293, 0.0), (294, 0.007885550936442911), (295, 0.0), (296, 0.0), (297, 0.030631257014036854), (298, 0.030581962365417607), (299, 0.029362008961990132), (300, 0.027775621008686316), (301, 0.03023811563438414), (302, 0.04531267549099699), (303, 0.0), (304, 0.02118484585618892), (305, 0.04684378316435266), (306, 0.009188174725280187), (307, 0.0), (308, 0.0), (309, 0.008109205922908164), (310, 0.0), (311, 0.0), (312, 0.0), (313, 0.0), (314, 0.008508692434415314), (315, 0.009702126902276606), (316, 0.0), (317, 0.008854002413789792), (318, 0.0), (319, 0.0), (320, 0.0), (321, 0.009814734746822516), (322, 0.009810562847592477), (323, 0.0), (324, 0.009145191153480071), (325, 0.009503477034680512), (326, 0.0), (327, 0.0), (328, 0.0), (329, 0.0), (330, 0.006983342828867065), (331, 0.0), (332, 0.0), (333, 0.00881925447787697), (334, 0.008715292493560588), (335, 0.0), (336, 0.0), (337, 0.0), (338, 0.00920911001400172), (339, 0.0), (340, 0.0), (341, 0.0), (342, 0.0), (343, 0.0), (344, 0.03051777291580007), (345, 0.027436876820610204), (346, 0.0), (347, 0.0), (348, 0.0), (349, 0.0), (350, 0.0), (351, 0.0), (352, 0.0), (353, 0.0), (354, 0.0), (355, 0.0), (356, 0.0), (357, 0.017797184092557414), (358, 0.0), (359, 0.0), (360, 0.00996930454998246), (361, 0.0), (362, 0.0), (363, 0.0), (364, 0.0), (365, 0.0), (366, 0.008222867575249633), (367, 0.0), (368, 0.0), (369, 0.0), (370, 0.0), (371, 0.0), (372, 0.0), (373, 0.0), (374, 0.023350807492992686), (375, 0.0), (376, 0.0), (377, 0.0), (378, 0.02301324439882253), (379, 0.0), (380, 0.02690356755067187), (381, 0.0), (382, 0.0), (383, 0.0), (384, 0.03539471977151896), (385, 0.010995228485537125), (386, 0.026285203376006865), (387, 0.0), (388, 0.0), (389, 0.0), (390, 0.0), (391, 0.0), (392, 0.023769261975124443), (393, 0.0), (394, 0.008298728278069234), (395, 0.0), (396, 0.0), (397, 0.0), (398, 0.0), (399, 0.16573614403436993), (400, 0.0), (401, 0.0), (402, 0.0), (403, 0.0), (404, 0.0), (405, 0.01042179441101342), (406, 0.0), (407, 0.0), (408, 0.025928366960573285), (409, 0.0), (410, 0.009015770158447676), (411, 0.0), (412, 0.0), (413, 0.0), (414, 0.020679716626311326), (415, 0.0), (416, 0.0), (417, 0.0), (418, 0.0), (419, 0.0), (420, 0.0), (421, 0.019331950565280583), (422, 0.0), (423, 0.0), (424, 0.03390113041872108), (425, 0.0), (426, 0.0), (427, 0.0), (428, 0.0), (429, 0.0), (430, 0.03686628868399051), (431, 0.0), (432, 0.0), (433, 0.008131568411079954), (434, 0.0), (435, 0.018295216996577893), (436, 0.0), (437, 0.0), (438, 0.0), (439, 0.009854373573444446), (440, 0.0), (441, 0.0), (442, 0.0), (443, 0.0), (444, 0.0), (445, 0.008756684413331987), (446, 0.0), (447, 0.01002107125492672), (448, 0.0), (449, 0.0), (450, 0.0), (451, 0.034725975106055657), (452, 0.0), (453, 0.018382099839528987), (454, 0.0), (455, 0.0), (456, 0.010564721251612662), (457, 0.0), (458, 0.0), (459, 0.0), (460, 0.0), (461, 0.0), (462, 0.0), (463, 0.03197515667274059), (464, 0.010086161608771148), (465, 0.0), (466, 0.009624910430756745), (467, 0.0), (468, 0.0), (469, 0.008251936791359158), (470, 0.0), (471, 0.0), (472, 0.010524738908517663), (473, 0.0), (474, 0.0), (475, 0.02157210137507134), (476, 0.0), (477, 0.0), (478, 0.0), (479, 0.0), (480, 0.0), (481, 0.0), (482, 0.0), (483, 0.0), (484, 0.0), (485, 0.010682134477948683), (486, 0.009438795823953452), (487, 0.0), (488, 0.0), (489, 0.0), (490, 0.0), (491, 0.0), (492, 0.009395982246001184), (493, 0.0), (494, 0.023864540471513138), (495, 0.020512192687408615), (496, 0.0), (497, 0.0), (498, 0.02267195547086879), (499, 0.0), (500, 0.0), (501, 0.009175740085780917), (502, 0.0), (503, 0.0), (504, 0.0), (505, 0.0), (506, 0.008131023214438999), (507, 0.0), (508, 0.0), (509, 0.02431419542630473), (510, 0.007942923232851427), (511, 0.009171758944727876), (512, 0.0), (513, 0.0), (514, 0.02661703807695047), (515, 0.0), (516, 0.0), (517, 0.0104065743939691), (518, 0.0), (519, 0.0), (520, 0.02794353273486532), (521, 0.0), (522, 0.03469526236292855), (523, 0.0), (524, 0.023505373242744716), (525, 0.0), (526, 0.0), (527, 0.0), (528, 0.010046787225526202), (529, 0.0), (530, 0.0), (531, 0.0), (532, 0.0), (533, 0.0), (534, 0.0), (535, 0.009707847339114692), (536, 0.0), (537, 0.0), (538, 0.0), (539, 0.0), (540, 0.025882569532203692), (541, 0.02170778585115638), (542, 0.007276913692075331), (543, 0.0), (544, 0.0), (545, 0.030970579033561284), (546, 0.04397649795483649), (547, 0.0), (548, 0.0), (549, 0.0), (550, 0.0), (551, 0.0), (552, 0.0), (553, 0.025552249689436923), (554, 0.0), (555, 0.0), (556, 0.0100049289291703), (557, 0.0), (558, 0.021864174166871128), (559, 0.02109875284362155), (560, 0.0), (561, 0.00747340462228347), (562, 0.042158607346221295), (563, 0.018286680973313166), (564, 0.0), (565, 0.02173134464519492), (566, 0.0), (567, 0.0), (568, 0.0), (569, 0.032579022046682275), (570, 0.0), (571, 0.0), (572, 0.0), (573, 0.0), (574, 0.0), (575, 0.0), (576, 0.0), (577, 0.009101423328730186), (578, 0.009613991579853884), (579, 0.0), (580, 0.0), (581, 0.0), (582, 0.0), (583, 0.009036852318197054), (584, 0.0), (585, 0.0), (586, 0.0), (587, 0.0), (588, 0.0), (589, 0.0), (590, 0.0), (591, 0.0), (592, 0.0), (593, 0.0), (594, 0.0), (595, 0.0), (596, 0.0), (597, 0.02150592004104095), (598, 0.0), (599, 0.0), (600, 0.0), (601, 0.0), (602, 0.0), (603, 0.0), (604, 0.0), (605, 0.0), (606, 0.0), (607, 0.0), (608, 0.0), (609, 0.008060711077397725), (610, 0.029148989732716707), (611, 0.02211854674983422), (612, 0.010803286193631051), (613, 0.0), (614, 0.0), (615, 0.0), (616, 0.0), (617, 0.0), (618, 0.0), (619, 0.0), (620, 0.0), (621, 0.027486598283959288), (622, 0.020585248588623414), (623, 0.0), (624, 0.0), (625, 0.021739138544590548), (626, 0.0), (627, 0.0), (628, 0.0), (629, 0.0), (630, 0.0), (631, 0.0), (632, 0.0), (633, 0.023999879381702657), (634, 0.0), (635, 0.0), (636, 0.0), (637, 0.010073443238738941), (638, 0.009105093020741532), (639, 0.050289462594402076), (640, 0.008716992009381289), (641, 0.0), (642, 0.07165054082320182), (643, 0.0), (644, 0.0), (645, 0.008370464145716225), (646, 0.0), (647, 0.0), (648, 0.0), (649, 0.0), (650, 0.0), (651, 0.0218621080443245), (652, 0.049824132604947155), (653, 0.0), (654, 0.0), (655, 0.009378012598953727), (656, 0.0337266544688716), (657, 0.02140415092237801), (658, 0.02097958385947567), (659, 0.009334454583143251), (660, 0.02590274120289234), (661, 0.028391473057802968), (662, 0.00966074113601782), (663, 0.0), (664, 0.0), (665, 0.03493341930482156), (666, 0.0), (667, 0.0), (668, 0.0), (669, 0.0), (670, 0.0), (671, 0.0), (672, 0.0), (673, 0.0), (674, 0.0), (675, 0.0), (676, 0.0), (677, 0.0), (678, 0.0), (679, 0.01122636224398732), (680, 0.025053417671607542), (681, 0.0), (682, 0.0), (683, 0.0), (684, 0.0), (685, 0.0), (686, 0.02680166678446115), (687, 0.03221068591233489), (688, 0.010882967788043135), (689, 0.0347612724478486), (690, 0.009603544799004073), (691, 0.0), (692, 0.0), (693, 0.0), (694, 0.0), (695, 0.0), (696, 0.010041380596942852), (697, 0.0), (698, 0.0), (699, 0.04582942598458395), (700, 0.0), (701, 0.0), (702, 0.009588311813525985), (703, 0.0), (704, 0.0), (705, 0.0), (706, 0.0), (707, 0.0), (708, 0.0), (709, 0.016569382637721956), (710, 0.00935118129485225), (711, 0.0), (712, 0.008636779166263335), (713, 0.009549045077817144), (714, 0.0), (715, 0.0), (716, 0.0), (717, 0.0), (718, 0.0), (719, 0.008315654936695801), (720, 0.0), (721, 0.0), (722, 0.0), (723, 0.024763158912767983), (724, 0.023962041664688825), (725, 0.0), (726, 0.016829649997232122), (727, 0.0), (728, 0.0), (729, 0.0), (730, 0.0), (731, 0.0), (732, 0.0), (733, 0.008674510296320452), (734, 0.0), (735, 0.0), (736, 0.0), (737, 0.0), (738, 0.016276504423347767), (739, 0.0), (740, 0.006881229607271096), (741, 0.02447267840927633), (742, 0.025763071839119873), (743, 0.010408035884197843), (744, 0.0), (745, 0.0), (746, 0.026086277961380046), (747, 0.02601836474557818), (748, 0.0), (749, 0.029069605746978634), (750, 0.0), (751, 0.0), (752, 0.04970681324450425), (753, 0.011289470349321555), (754, 0.0), (755, 0.0), (756, 0.022541148100305625), (757, 0.02052135957517736), (758, 0.04887594793797512), (759, 0.0), (760, 0.0), (761, 0.05037047828037904), (762, 0.0), (763, 0.0), (764, 0.0), (765, 0.0), (766, 0.0), (767, 0.00937463644874512), (768, 0.0), (769, 0.0), (770, 0.0), (771, 0.05791010391959387), (772, 0.0), (773, 0.0), (774, 0.0), (775, 0.0), (776, 0.0), (777, 0.0), (778, 0.0), (779, 0.0), (780, 0.0), (781, 0.020839855782199566), (782, 0.0), (783, 0.0), (784, 0.0), (785, 0.009879787248208018), (786, 0.008251527896496955), (787, 0.00626104383209182), (788, 0.0328236847666412), (789, 0.0), (790, 0.0), (791, 0.06265017095582398), (792, 0.03079929050774711), (793, 0.0), (794, 0.0), (795, 0.02787621077272367), (796, 0.0), (797, 0.010415901146924427), (798, 0.0), (799, 0.0), (800, 0.0), (801, 0.03076754943295313), (802, 0.010823407268838861), (803, 0.0), (804, 0.047861983806297685), (805, 0.0), (806, 0.0), (807, 0.10938308797677646), (808, 0.0), (809, 0.010210450361098033), (810, 0.009090386612502423), (811, 0.0), (812, 0.0), (813, 0.0), (814, 0.010002673378325702), (815, 0.0), (816, 0.022320606980622153), (817, 0.0), (818, 0.0), (819, 0.0), (820, 0.029580759533971185), (821, 0.0), (822, 0.009811584570979422), (823, 0.0), (824, 0.007016058539031395), (825, 0.0), (826, 0.0), (827, 0.030761176099515664), (828, 0.0), (829, 0.009255946076562754), (830, 0.0), (831, 0.01694662029115764), (832, 0.0), (833, 0.0), (834, 0.0), (835, 0.0), (836, 0.0), (837, 0.0), (838, 0.0), (839, 0.0), (840, 0.0), (841, 0.0), (842, 0.0), (843, 0.0), (844, 0.0), (845, 0.010219203321537432), (846, 0.009646063577656717), (847, 0.0), (848, 0.030978750465009273), (849, 0.0), (850, 0.0), (851, 0.0), (852, 0.0), (853, 0.052578748651905524), (854, 0.009653578114697843), (855, 0.0), (856, 0.0), (857, 0.0), (858, 0.0), (859, 0.03484247663520293), (860, 0.04121484174200801), (861, 0.0), (862, 0.0), (863, 0.0), (864, 0.0), (865, 0.010543861485177934), (866, 0.0), (867, 0.0), (868, 0.0), (869, 0.0), (870, 0.0), (871, 0.0), (872, 0.02544569271611594), (873, 0.0), (874, 0.0), (875, 0.0), (876, 0.0), (877, 0.0237483453105495), (878, 0.0), (879, 0.023640508080232304), (880, 0.0), (881, 0.0), (882, 0.0), (883, 0.0), (884, 0.0), (885, 0.0), (886, 0.0), (887, 0.0), (888, 0.0), (889, 0.0), (890, 0.0), (891, 0.010538941388743688), (892, 0.008854333853654498), (893, 0.0), (894, 0.0322588530983722), (895, 0.00921168106614498), (896, 0.010652053147680921), (897, 0.0), (898, 0.008930017212500939), (899, 0.0), (900, 0.0), (901, 0.0), (902, 0.0), (903, 0.0), (904, 0.0), (905, 0.0), (906, 0.0), (907, 0.0), (908, 0.010280772369242366), (909, 0.0), (910, 0.0), (911, 0.0), (912, 0.008844517289987957), (913, 0.0), (914, 0.0), (915, 0.0), (916, 0.0), (917, 0.0), (918, 0.010293658943195493), (919, 0.0), (920, 0.009195741602447202), (921, 0.024193030634929162), (922, 0.0), (923, 0.0), (924, 0.0), (925, 0.0), (926, 0.007879022643818137), (927, 0.0), (928, 0.0), (929, 0.007661140563224191), (930, 0.0), (931, 0.024605980889819492), (932, 0.0), (933, 0.0), (934, 0.0), (935, 0.02321662178764505), (936, 0.0), (937, 0.0), (938, 0.062313027908230505), (939, 0.03548326163317793), (940, 0.0), (941, 0.0), (942, 0.0), (943, 0.0), (944, 0.0), (945, 0.0), (946, 0.010117691178926053), (947, 0.0), (948, 0.0), (949, 0.0), (950, 0.0), (951, 0.0), (952, 0.0), (953, 0.06489581500234172), (954, 0.0), (955, 0.0), (956, 0.010600716081796397), (957, 0.0), (958, 0.0), (959, 0.0), (960, 0.0), (961, 0.0), (962, 0.0), (963, 0.0), (964, 0.0), (965, 0.024732569242782467), (966, 0.0), (967, 0.0), (968, 0.0), (969, 0.0), (970, 0.0), (971, 0.036121503661925486), (972, 0.0), (973, 0.0), (974, 0.025841577910763178), (975, 0.0), (976, 0.0), (977, 0.03774530463536109), (978, 0.0), (979, 0.0), (980, 0.024471032957910466), (981, 0.03204087489165236), (982, 0.0), (983, 0.0), (984, 0.033384387652764774), (985, 0.02590996116725798), (986, 0.0), (987, 0.010426886977715112), (988, 0.0), (989, 0.021819309208054336), (990, 0.0), (991, 0.0), (992, 0.0), (993, 0.0), (994, 0.0), (995, 0.0), (996, 0.0), (997, 0.0), (998, 0.0), (999, 0.0), (1000, 0.0), (1001, 0.0), (1002, 0.02445537918781335), (1003, 0.0), (1004, 0.026993456661849033), (1005, 0.0), (1006, 0.0), (1007, 0.026173476183222723), (1008, 0.0), (1009, 0.03042264653149137), (1010, 0.0), (1011, 0.0), (1012, 0.0), (1013, 0.0), (1014, 0.0), (1015, 0.02497523925384661), (1016, 0.0), (1017, 0.05112487218485988), (1018, 0.0), (1019, 0.0), (1020, 0.0), (1021, 0.0), (1022, 0.0), (1023, 0.0), (1024, 0.0), (1025, 0.02206788911735396), (1026, 0.00972356585660002), (1027, 0.0), (1028, 0.0), (1029, 0.0), (1030, 0.0), (1031, 0.0), (1032, 0.0), (1033, 0.0), (1034, 0.00942439691265517), (1035, 0.009919847341616295), (1036, 0.0), (1037, 0.0), (1038, 0.0), (1039, 0.0), (1040, 0.0), (1041, 0.009324378159883325), (1042, 0.008507926215931872), (1043, 0.0), (1044, 0.009697314112472714), (1045, 0.0), (1046, 0.0), (1047, 0.0), (1048, 0.0), (1049, 0.0), (1050, 0.0), (1051, 0.0), (1052, 0.0), (1053, 0.0), (1054, 0.0), (1055, 0.0), (1056, 0.0), (1057, 0.0), (1058, 0.0), (1059, 0.0), (1060, 0.0), (1061, 0.009326208944907662), (1062, 0.06901412434022475), (1063, 0.0), (1064, 0.0), (1065, 0.0), (1066, 0.0), (1067, 0.0), (1068, 0.0), (1069, 0.0), (1070, 0.0), (1071, 0.0), (1072, 0.0), (1073, 0.022789378487262202), (1074, 0.0), (1075, 0.0), (1076, 0.009272240781348898), (1077, 0.0), (1078, 0.0), (1079, 0.06695341132258703), (1080, 0.0), (1081, 0.0), (1082, 0.021478276277624636), (1083, 0.0), (1084, 0.009528693950334595), (1085, 0.0), (1086, 0.05854760163743794), (1087, 0.0), (1088, 0.0), (1089, 0.029601285718273425), (1090, 0.00863446426442389), (1091, 0.0), (1092, 0.0), (1093, 0.0), (1094, 0.0), (1095, 0.0), (1096, 0.0), (1097, 0.0), (1098, 0.023042058774269014), (1099, 0.0), (1100, 0.0), (1101, 0.0), (1102, 0.0), (1103, 0.02845270025163509), (1104, 0.0), (1105, 0.0), (1106, 0.0), (1107, 0.027109845264520316), (1108, 0.0), (1109, 0.0), (1110, 0.030220974380839996), (1111, 0.0), (1112, 0.0), (1113, 0.0), (1114, 0.0), (1115, 0.0), (1116, 0.010397751132585497), (1117, 0.0), (1118, 0.009694078593851487), (1119, 0.011000843145302135), (1120, 0.0), (1121, 0.0), (1122, 0.05975768379693605), (1123, 0.0), (1124, 0.0), (1125, 0.0), (1126, 0.0), (1127, 0.0), (1128, 0.0), (1129, 0.0), (1130, 0.0358735837231953), (1131, 0.0), (1132, 0.02306655534534013), (1133, 0.0), (1134, 0.0), (1135, 0.0), (1136, 0.042854870169732606), (1137, 0.008081338625755018), (1138, 0.03514326640356451), (1139, 0.0), (1140, 0.0), (1141, 0.0), (1142, 0.0), (1143, 0.0), (1144, 0.0), (1145, 0.0), (1146, 0.0), (1147, 0.0), (1148, 0.03326244729481877), (1149, 0.0), (1150, 0.0), (1151, 0.0), (1152, 0.022409057301998655), (1153, 0.0), (1154, 0.0), (1155, 0.0), (1156, 0.0), (1157, 0.055919599211555), (1158, 0.0), (1159, 0.0), (1160, 0.0), (1161, 0.0), (1162, 0.0), (1163, 0.0), (1164, 0.0), (1165, 0.0), (1166, 0.0), (1167, 0.0), (1168, 0.0), (1169, 0.0), (1170, 0.0), (1171, 0.0), (1172, 0.0), (1173, 0.02533320710336904), (1174, 0.0), (1175, 0.03570186442330306), (1176, 0.0), (1177, 0.0), (1178, 0.0), (1179, 0.0), (1180, 0.009123158483676954), (1181, 0.0), (1182, 0.0), (1183, 0.0), (1184, 0.0), (1185, 0.0), (1186, 0.008874092964838291), (1187, 0.0), (1188, 0.0), (1189, 0.0), (1190, 0.0), (1191, 0.00996253835158682), (1192, 0.0), (1193, 0.0), (1194, 0.0), (1195, 0.0), (1196, 0.0), (1197, 0.009155052955387934), (1198, 0.029573300313646612), (1199, 0.0), (1200, 0.0), (1201, 0.0), (1202, 0.0), (1203, 0.028258766892990932), (1204, 0.0), (1205, 0.0), (1206, 0.0), (1207, 0.03121307166712224), (1208, 0.0), (1209, 0.0), (1210, 0.0), (1211, 0.023428268137387943), (1212, 0.0), (1213, 0.0), (1214, 0.0), (1215, 0.0), (1216, 0.0), (1217, 0.02559600605008034), (1218, 0.0), (1219, 0.009031845491964889), (1220, 0.0), (1221, 0.016817286366354923), (1222, 0.0), (1223, 0.010181816620003397), (1224, 0.0), (1225, 0.010596127975745748), (1226, 0.0), (1227, 0.024755491933068457), (1228, 0.0), (1229, 0.010456704302022774), (1230, 0.02316199476490193), (1231, 0.0), (1232, 0.030731041592720523), (1233, 0.01009810360403121), (1234, 0.0), (1235, 0.0), (1236, 0.0), (1237, 0.0), (1238, 0.023821715235762236), (1239, 0.0), (1240, 0.0), (1241, 0.0), (1242, 0.0), (1243, 0.060345343308310165), (1244, 0.0), (1245, 0.0), (1246, 0.0), (1247, 0.0), (1248, 0.0), (1249, 0.04227080881281325), (1250, 0.05306335455971933), (1251, 0.0), (1252, 0.0), (1253, 0.0), (1254, 0.0), (1255, 0.03536962794831287), (1256, 0.03545742398298907), (1257, 0.009795079838842835), (1258, 0.0), (1259, 0.0), (1260, 0.0), (1261, 0.0), (1262, 0.0), (1263, 0.0), (1264, 0.0), (1265, 0.0), (1266, 0.0), (1267, 0.0), (1268, 0.0), (1269, 0.0), (1270, 0.009159222738997736), (1271, 0.0), (1272, 0.029459292581276098), (1273, 0.026643136801896755), (1274, 0.0), (1275, 0.0), (1276, 0.0), (1277, 0.0), (1278, 0.0), (1279, 0.046143666159459834), (1280, 0.0), (1281, 0.0), (1282, 0.0), (1283, 0.0), (1284, 0.009680439122566695), (1285, 0.0), (1286, 0.0), (1287, 0.0), (1288, 0.0), (1289, 0.0), (1290, 0.06814521494313472), (1291, 0.028188598967592866), (1292, 0.024001891171591266), (1293, 0.0), (1294, 0.025831046339850387), (1295, 0.0), (1296, 0.008307143275330059), (1297, 0.023650524057702377), (1298, 0.0), (1299, 0.0), (1300, 0.028529709328104953), (1301, 0.0), (1302, 0.0), (1303, 0.0), (1304, 0.009826180083254182), (1305, 0.0), (1306, 0.02932898320399699), (1307, 0.0), (1308, 0.009275203881987408), (1309, 0.00857568168115143), (1310, 0.0), (1311, 0.0), (1312, 0.03167426927929158), (1313, 0.0), (1314, 0.0), (1315, 0.0), (1316, 0.0), (1317, 0.008389815082093834), (1318, 0.033191560275631804), (1319, 0.0), (1320, 0.0), (1321, 0.025293464523767108), (1322, 0.0), (1323, 0.0), (1324, 0.0), (1325, 0.0), (1326, 0.0), (1327, 0.0), (1328, 0.0), (1329, 0.0), (1330, 0.009977542533874104), (1331, 0.0), (1332, 0.0), (1333, 0.0), (1334, 0.0), (1335, 0.0362064742976505), (1336, 0.0), (1337, 0.0), (1338, 0.0), (1339, 0.023211426250507084), (1340, 0.0), (1341, 0.0), (1342, 0.020247425130097862), (1343, 0.0), (1344, 0.0704242950371921), (1345, 0.0), (1346, 0.0), (1347, 0.0), (1348, 0.0), (1349, 0.0), (1350, 0.0), (1351, 0.007300950896614687), (1352, 0.0), (1353, 0.036073890173320175), (1354, 0.018197155653785102), (1355, 0.0), (1356, 0.0), (1357, 0.009315343614756947), (1358, 0.0), (1359, 0.0), (1360, 0.0), (1361, 0.0), (1362, 0.04094120637691779), (1363, 0.0), (1364, 0.0), (1365, 0.008555675585781854), (1366, 0.0), (1367, 0.0), (1368, 0.0), (1369, 0.0), (1370, 0.0), (1371, 0.0), (1372, 0.0), (1373, 0.0), (1374, 0.0), (1375, 0.0), (1376, 0.0), (1377, 0.0), (1378, 0.0), (1379, 0.036730841689802875), (1380, 0.0), (1381, 0.0), (1382, 0.010473235652033126), (1383, 0.0), (1384, 0.009023533168616352), (1385, 0.0), (1386, 0.0), (1387, 0.00881513756574638), (1388, 0.0), (1389, 0.0), (1390, 0.03204111003899126), (1391, 0.0), (1392, 0.0), (1393, 0.058273335143505606), (1394, 0.0), (1395, 0.0), (1396, 0.0), (1397, 0.0), (1398, 0.0), (1399, 0.0), (1400, 0.0), (1401, 0.0), (1402, 0.01026479764850823), (1403, 0.0), (1404, 0.0), (1405, 0.008821723475949183), (1406, 0.0), (1407, 0.02334063780422019), (1408, 0.0), (1409, 0.0), (1410, 0.0), (1411, 0.010112452613102249), (1412, 0.009354164123292836), (1413, 0.0), (1414, 0.0), (1415, 0.0), (1416, 0.009562625501961044), (1417, 0.0), (1418, 0.0), (1419, 0.02769418252460951), (1420, 0.0), (1421, 0.009751256004237001), (1422, 0.029694527524113768), (1423, 0.0), (1424, 0.0), (1425, 0.009646465681235995), (1426, 0.0), (1427, 0.0), (1428, 0.018773242874448228), (1429, 0.0), (1430, 0.0), (1431, 0.009725456197480655), (1432, 0.0), (1433, 0.020801584076261058), (1434, 0.0), (1435, 0.05914500860797334), (1436, 0.02447838431978781), (1437, 0.0), (1438, 0.0), (1439, 0.0), (1440, 0.0), (1441, 0.03234734642424504), (1442, 0.0), (1443, 0.02464774760762198), (1444, 0.0), (1445, 0.0), (1446, 0.0), (1447, 0.0), (1448, 0.0), (1449, 0.0), (1450, 0.0), (1451, 0.0), (1452, 0.0), (1453, 0.0), (1454, 0.03192020013975798), (1455, 0.0), (1456, 0.009085657444423557), (1457, 0.00948895328558199), (1458, 0.0), (1459, 0.010005085760446354), (1460, 0.0), (1461, 0.010097290776392348), (1462, 0.0), (1463, 0.010513259049920134), (1464, 0.02189613275419326), (1465, 0.0), (1466, 0.0), (1467, 0.0), (1468, 0.022312858265725204), (1469, 0.0), (1470, 0.0), (1471, 0.0), (1472, 0.00983574097962677), (1473, 0.0), (1474, 0.0390061739693735), (1475, 0.0), (1476, 0.03982160055113104), (1477, 0.0), (1478, 0.0), (1479, 0.02947874237857017), (1480, 0.009085665385676981), (1481, 0.026277173930936024), (1482, 0.009231721339373817), (1483, 0.0), (1484, 0.0), (1485, 0.0), (1486, 0.0), (1487, 0.021045447194212724), (1488, 0.0), (1489, 0.03708313480840699), (1490, 0.09811998054810742), (1491, 0.0), (1492, 0.008664722333004094), (1493, 0.0), (1494, 0.027782433560788192), (1495, 0.0), (1496, 0.0), (1497, 0.0), (1498, 0.0), (1499, 0.03980495862541873), (1500, 0.029447515514977058), (1501, 0.0), (1502, 0.0), (1503, 0.0), (1504, 0.0), (1505, 0.0), (1506, 0.006822351441711041), (1507, 0.0), (1508, 0.0), (1509, 0.01679403287149078), (1510, 0.028109217520629035), (1511, 0.0), (1512, 0.0), (1513, 0.0), (1514, 0.0), (1515, 0.0), (1516, 0.03153911840299087), (1517, 0.08832679039705812), (1518, 0.01072755792445237), (1519, 0.0), (1520, 0.0), (1521, 0.0), (1522, 0.0), (1523, 0.008422946086147647), (1524, 0.01746677639582609), (1525, 0.0), (1526, 0.0), (1527, 0.0), (1528, 0.04686506136899555), (1529, 0.0), (1530, 0.0), (1531, 0.0), (1532, 0.0), (1533, 0.0), (1534, 0.010211238562598576), (1535, 0.0), (1536, 0.0), (1537, 0.010667844626375877), (1538, 0.0), (1539, 0.0), (1540, 0.0), (1541, 0.0), (1542, 0.03054258053362195), (1543, 0.009101590905333329), (1544, 0.0), (1545, 0.023085501879053283), (1546, 0.017844403486838877), (1547, 0.0), (1548, 0.0), (1549, 0.0), (1550, 0.021716163649070332), (1551, 0.0), (1552, 0.0), (1553, 0.0), (1554, 0.010791795020389431), (1555, 0.04455201821128287), (1556, 0.0), (1557, 0.01009246142388105), (1558, 0.0), (1559, 0.02596100448564486), (1560, 0.0), (1561, 0.009809112992683154), (1562, 0.0), (1563, 0.0), (1564, 0.0), (1565, 0.0), (1566, 0.0), (1567, 0.0), (1568, 0.02763437844779582), (1569, 0.0), (1570, 0.0), (1571, 0.03147232670480164), (1572, 0.0), (1573, 0.0), (1574, 0.0), (1575, 0.0), (1576, 0.0), (1577, 0.0), (1578, 0.0), (1579, 0.0), (1580, 0.0), (1581, 0.025515878974305885), (1582, 0.0), (1583, 0.0), (1584, 0.02063883784968098), (1585, 0.0), (1586, 0.0), (1587, 0.03564935809951338), (1588, 0.0), (1589, 0.009971331185619424), (1590, 0.0), (1591, 0.0), (1592, 0.01916743214400034), (1593, 0.0), (1594, 0.0), (1595, 0.0), (1596, 0.0), (1597, 0.009632711710135002), (1598, 0.0), (1599, 0.0), (1600, 0.0), (1601, 0.0), (1602, 0.0), (1603, 0.0), (1604, 0.0), (1605, 0.026910032644861543), (1606, 0.0), (1607, 0.0), (1608, 0.0), (1609, 0.0), (1610, 0.009624091162810535), (1611, 0.0), (1612, 0.0), (1613, 0.0), (1614, 0.024613898083253583), (1615, 0.0), (1616, 0.0), (1617, 0.0), (1618, 0.030735102902356523), (1619, 0.0), (1620, 0.0), (1621, 0.0), (1622, 0.0), (1623, 0.0), (1624, 0.0), (1625, 0.0), (1626, 0.022982144447162383), (1627, 0.0), (1628, 0.0), (1629, 0.0), (1630, 0.0), (1631, 0.0), (1632, 0.0), (1633, 0.0), (1634, 0.031966430786037045), (1635, 0.0), (1636, 0.0), (1637, 0.0), (1638, 0.0), (1639, 0.008526496735166223), (1640, 0.0), (1641, 0.0), (1642, 0.0), (1643, 0.0), (1644, 0.0), (1645, 0.023129428972411242), (1646, 0.10641086990364358), (1647, 0.0), (1648, 0.019657204132129402), (1649, 0.00930186165106783), (1650, 0.0), (1651, 0.0), (1652, 0.0), (1653, 0.0), (1654, 0.03556938847591183), (1655, 0.0), (1656, 0.0), (1657, 0.05619260300024337), (1658, 0.0), (1659, 0.0), (1660, 0.0), (1661, 0.0), (1662, 0.0), (1663, 0.0), (1664, 0.0), (1665, 0.0), (1666, 0.0), (1667, 0.0), (1668, 0.0), (1669, 0.0), (1670, 0.0), (1671, 0.0), (1672, 0.0), (1673, 0.03244645686521653), (1674, 0.0), (1675, 0.0), (1676, 0.0), (1677, 0.008085654493724411), (1678, 0.009983840379280915), (1679, 0.0), (1680, 0.0), (1681, 0.0), (1682, 0.03659335330640284), (1683, 0.0), (1684, 0.0), (1685, 0.0), (1686, 0.0), (1687, 0.0), (1688, 0.0), (1689, 0.0), (1690, 0.023055439269322662), (1691, 0.023037859042821584), (1692, 0.0), (1693, 0.0), (1694, 0.0), (1695, 0.015815891569832402), (1696, 0.0), (1697, 0.0), (1698, 0.0328148690761131), (1699, 0.0), (1700, 0.0), (1701, 0.0), (1702, 0.0), (1703, 0.0), (1704, 0.0), (1705, 0.0), (1706, 0.009841190023935511), (1707, 0.0), (1708, 0.0), (1709, 0.0), (1710, 0.0), (1711, 0.0), (1712, 0.0), (1713, 0.0), (1714, 0.009207916251390223), (1715, 0.0), (1716, 0.0), (1717, 0.0), (1718, 0.0), (1719, 0.0), (1720, 0.0), (1721, 0.0), (1722, 0.0), (1723, 0.0), (1724, 0.0), (1725, 0.0), (1726, 0.0), (1727, 0.0), (1728, 0.0), (1729, 0.0), (1730, 0.0), (1731, 0.0), (1732, 0.0), (1733, 0.0), (1734, 0.0), (1735, 0.0), (1736, 0.0), (1737, 0.010516680747977488), (1738, 0.0), (1739, 0.009147229848824392), (1740, 0.0), (1741, 0.0), (1742, 0.0), (1743, 0.0), (1744, 0.009460200254361187), (1745, 0.008798085851648664), (1746, 0.0), (1747, 0.0), (1748, 0.0), (1749, 0.0), (1750, 0.0), (1751, 0.0), (1752, 0.0), (1753, 0.0), (1754, 0.0), (1755, 0.0), (1756, 0.0), (1757, 0.03518471668029557), (1758, 0.0), (1759, 0.030127561258632383), (1760, 0.0), (1761, 0.0), (1762, 0.0), (1763, 0.0), (1764, 0.008885534805469922), (1765, 0.02559961169631196), (1766, 0.0), (1767, 0.01932487101371265), (1768, 0.009951705906529206), (1769, 0.0), (1770, 0.0), (1771, 0.028460673471030984), (1772, 0.0), (1773, 0.0), (1774, 0.0), (1775, 0.0), (1776, 0.0), (1777, 0.020422037571707668), (1778, 0.0), (1779, 0.0), (1780, 0.019838682346294736), (1781, 0.04286627439794873), (1782, 0.02318234009475609), (1783, 0.009933699027644889), (1784, 0.0), (1785, 0.0), (1786, 0.0), (1787, 0.034805599245201865), (1788, 0.0), (1789, 0.02778562952079762), (1790, 0.0), (1791, 0.0), (1792, 0.0), (1793, 0.02302078301986905), (1794, 0.0), (1795, 0.02310106802775051), (1796, 0.0), (1797, 0.0), (1798, 0.0), (1799, 0.0), (1800, 0.0), (1801, 0.0), (1802, 0.0), (1803, 0.0), (1804, 0.0), (1805, 0.0), (1806, 0.0), (1807, 0.0), (1808, 0.0), (1809, 0.0), (1810, 0.0), (1811, 0.0), (1812, 0.0), (1813, 0.0), (1814, 0.020904496787518125), (1815, 0.0), (1816, 0.0), (1817, 0.041293291358490095), (1818, 0.009337226517671512), (1819, 0.0), (1820, 0.0), (1821, 0.0), (1822, 0.0), (1823, 0.026189250757517712), (1824, 0.009357723394112312), (1825, 0.0), (1826, 0.0), (1827, 0.009126346060254134), (1828, 0.0), (1829, 0.027881545614907736), (1830, 0.0), (1831, 0.0), (1832, 0.0), (1833, 0.027201898830524783), (1834, 0.0), (1835, 0.0), (1836, 0.0), (1837, 0.0), (1838, 0.0), (1839, 0.0), (1840, 0.01835010410268859), (1841, 0.0), (1842, 0.12478915793464948), (1843, 0.0), (1844, 0.0), (1845, 0.008342828993836525), (1846, 0.009793825611435058), (1847, 0.0), (1848, 0.0), (1849, 0.0), (1850, 0.008746780651730648), (1851, 0.0), (1852, 0.0), (1853, 0.0), (1854, 0.0), (1855, 0.0), (1856, 0.0), (1857, 0.009856310860382017), (1858, 0.0), (1859, 0.0), (1860, 0.0), (1861, 0.01951197375854853), (1862, 0.0), (1863, 0.0), (1864, 0.0), (1865, 0.0), (1866, 0.0), (1867, 0.034931895800488486), (1868, 0.0), (1869, 0.0), (1870, 0.0), (1871, 0.0), (1872, 0.0), (1873, 0.022598145666032767), (1874, 0.0), (1875, 0.0), (1876, 0.0), (1877, 0.0), (1878, 0.009505638636147168), (1879, 0.0), (1880, 0.0), (1881, 0.0), (1882, 0.0), (1883, 0.0), (1884, 0.0), (1885, 0.0), (1886, 0.0), (1887, 0.0), (1888, 0.0), (1889, 0.0), (1890, 0.028128739466351815), (1891, 0.009790994824768693), (1892, 0.0), (1893, 0.025729804981101605), (1894, 0.0), (1895, 0.03185832643185848), (1896, 0.0), (1897, 0.0), (1898, 0.0), (1899, 0.00926677128409941), (1900, 0.0), (1901, 0.0), (1902, 0.010355162545419775), (1903, 0.0), (1904, 0.0), (1905, 0.03162976101191958), (1906, 0.0), (1907, 0.0), (1908, 0.0), (1909, 0.0), (1910, 0.0), (1911, 0.0), (1912, 0.0), (1913, 0.009652460781819514), (1914, 0.0), (1915, 0.0400454985409001), (1916, 0.0), (1917, 0.0), (1918, 0.010506447934087882), (1919, 0.006900664685433673), (1920, 0.0), (1921, 0.0), (1922, 0.0), (1923, 0.010896264675718059), (1924, 0.0), (1925, 0.017141619324590327), (1926, 0.0), (1927, 0.0), (1928, 0.0), (1929, 0.0), (1930, 0.010378658275529386), (1931, 0.0), (1932, 0.010596273940003448), (1933, 0.0), (1934, 0.0), (1935, 0.023679457951198954), (1936, 0.0), (1937, 0.022192123305446492), (1938, 0.0), (1939, 0.0), (1940, 0.011555862454639156), (1941, 0.0), (1942, 0.0), (1943, 0.0), (1944, 0.0), (1945, 0.0), (1946, 0.0), (1947, 0.0), (1948, 0.0), (1949, 0.0), (1950, 0.008338100018530923), (1951, 0.1471524821869127), (1952, 0.03280293569417359), (1953, 0.0), (1954, 0.008706146993634534), (1955, 0.0), (1956, 0.0), (1957, 0.0), (1958, 0.019951076630066854), (1959, 0.0), (1960, 0.0), (1961, 0.0), (1962, 0.0), (1963, 0.008392264506717114), (1964, 0.05220006628321603), (1965, 0.0), (1966, 0.0), (1967, 0.0), (1968, 0.011118779597553922), (1969, 0.0), (1970, 0.0), (1971, 0.008868549872427313), (1972, 0.0), (1973, 0.025953159289361746), (1974, 0.0), (1975, 0.0), (1976, 0.0), (1977, 0.0), (1978, 0.008762700435720838), (1979, 0.009314146134197353), (1980, 0.0), (1981, 0.01674106439413363), (1982, 0.0), (1983, 0.0), (1984, 0.0), (1985, 0.0), (1986, 0.0), (1987, 0.009033264956871082), (1988, 0.0), (1989, 0.0), (1990, 0.0), (1991, 0.0), (1992, 0.009389615157264249), (1993, 0.0), (1994, 0.0), (1995, 0.0), (1996, 0.0), (1997, 0.0), (1998, 0.022849381541949845), (1999, 0.0), (2000, 0.0), (2001, 0.0), (2002, 0.0), (2003, 0.0), (2004, 0.0), (2005, 0.009190711521156802), (2006, 0.0), (2007, 0.008961926081974162), (2008, 0.0), (2009, 0.05723906824455291), (2010, 0.0), (2011, 0.0), (2012, 0.0), (2013, 0.00797384877699649), (2014, 0.02182514036945589), (2015, 0.0), (2016, 0.0), (2017, 0.0), (2018, 0.0), (2019, 0.025215394348555298), (2020, 0.0), (2021, 0.0), (2022, 0.0666151954133212), (2023, 0.0), (2024, 0.0), (2025, 0.008458970758687352), (2026, 0.0), (2027, 0.0), (2028, 0.0), (2029, 0.0), (2030, 0.0), (2031, 0.0), (2032, 0.0), (2033, 0.02142308740544181), (2034, 0.027667895908528167), (2035, 0.016926907756630014), (2036, 0.0), (2037, 0.0), (2038, 0.0), (2039, 0.018835665714142812), (2040, 0.0), (2041, 0.0), (2042, 0.0), (2043, 0.009111053088731013), (2044, 0.0), (2045, 0.0), (2046, 0.0), (2047, 0.008601694924239003), (2048, 0.0), (2049, 0.0), (2050, 0.0), (2051, 0.0), (2052, 0.0), (2053, 0.0), (2054, 0.011604887824041107), (2055, 0.0), (2056, 0.0), (2057, 0.0), (2058, 0.0), (2059, 0.0), (2060, 0.0), (2061, 0.0), (2062, 0.0), (2063, 0.0), (2064, 0.0), (2065, 0.0), (2066, 0.0), (2067, 0.0), (2068, 0.0), (2069, 0.0), (2070, 0.03403498903322099), (2071, 0.0), (2072, 0.0), (2073, 0.02261817447406642), (2074, 0.03162114832430977), (2075, 0.0), (2076, 0.0), (2077, 0.0), (2078, 0.008051241506999214), (2079, 0.011160084352661812), (2080, 0.0), (2081, 0.0), (2082, 0.0), (2083, 0.0), (2084, 0.0), (2085, 0.02395211999613742), (2086, 0.02394898531236285), (2087, 0.0), (2088, 0.0), (2089, 0.0), (2090, 0.03137471403263932), (2091, 0.0), (2092, 0.0), (2093, 0.009374818881401093), (2094, 0.0), (2095, 0.0), (2096, 0.0), (2097, 0.026373704074526966), (2098, 0.0), (2099, 0.0), (2100, 0.009447571575578365), (2101, 0.0), (2102, 0.0), (2103, 0.0), (2104, 0.0), (2105, 0.0), (2106, 0.0), (2107, 0.0), (2108, 0.0), (2109, 0.0), (2110, 0.0), (2111, 0.029266616733792473), (2112, 0.01069887300607472), (2113, 0.0), (2114, 0.008491690125394233), (2115, 0.0), (2116, 0.0), (2117, 0.0), (2118, 0.006327907547827867), (2119, 0.0), (2120, 0.00994242902458716), (2121, 0.0), (2122, 0.0), (2123, 0.048657324508847535), (2124, 0.0), (2125, 0.0), (2126, 0.0), (2127, 0.0), (2128, 0.0), (2129, 0.00913274529823133), (2130, 0.010153221794332012), (2131, 0.00969940966410523), (2132, 0.00844075143888279), (2133, 0.0), (2134, 0.0), (2135, 0.00940874378327234), (2136, 0.0), (2137, 0.0), (2138, 0.0), (2139, 0.0), (2140, 0.10595981197436502), (2141, 0.0), (2142, 0.0), (2143, 0.009370913249436738), (2144, 0.0), (2145, 0.0), (2146, 0.0), (2147, 0.010551537532897438), (2148, 0.0), (2149, 0.0), (2150, 0.0), (2151, 0.027273671819813546), (2152, 0.0), (2153, 0.0), (2154, 0.0), (2155, 0.0), (2156, 0.0), (2157, 0.03036452958133862), (2158, 0.0), (2159, 0.0), (2160, 0.0), (2161, 0.022803363704098786), (2162, 0.031057583284382417), (2163, 0.009123107891347218), (2164, 0.0), (2165, 0.0), (2166, 0.0), (2167, 0.0), (2168, 0.0), (2169, 0.0), (2170, 0.0), (2171, 0.0), (2172, 0.0), (2173, 0.0), (2174, 0.0), (2175, 0.0), (2176, 0.0), (2177, 0.0), (2178, 0.009787875906401365), (2179, 0.0), (2180, 0.0), (2181, 0.0), (2182, 0.0), (2183, 0.0), (2184, 0.0), (2185, 0.045113259340246695), (2186, 0.0), (2187, 0.051838297855793955), (2188, 0.1373720507383682), (2189, 0.0), (2190, 0.025848654296161233), (2191, 0.0), (2192, 0.0), (2193, 0.0), (2194, 0.0), (2195, 0.021990480032369593), (2196, 0.06654470490730874), (2197, 0.0), (2198, 0.0), (2199, 0.0), (2200, 0.0), (2201, 0.0), (2202, 0.0), (2203, 0.009130840870436223), (2204, 0.025802281463883327), (2205, 0.009270110006835317), (2206, 0.0), (2207, 0.024635024283740363), (2208, 0.010417873669596471), (2209, 0.0), (2210, 0.0), (2211, 0.0), (2212, 0.0), (2213, 0.0), (2214, 0.0), (2215, 0.0), (2216, 0.01946532069513146), (2217, 0.0), (2218, 0.0), (2219, 0.0), (2220, 0.0), (2221, 0.0), (2222, 0.0), (2223, 0.039068526104421276), (2224, 0.0), (2225, 0.0), (2226, 0.0), (2227, 0.0), (2228, 0.0), (2229, 0.0), (2230, 0.0), (2231, 0.0), (2232, 0.0), (2233, 0.0), (2234, 0.0), (2235, 0.0), (2236, 0.0), (2237, 0.0), (2238, 0.0), (2239, 0.009810506012132996), (2240, 0.008920723845117634), (2241, 0.0), (2242, 0.0), (2243, 0.0), (2244, 0.0), (2245, 0.009505774298068245), (2246, 0.0), (2247, 0.0), (2248, 0.0), (2249, 0.0), (2250, 0.009759685352125605), (2251, 0.0), (2252, 0.0), (2253, 0.0), (2254, 0.0), (2255, 0.0), (2256, 0.0), (2257, 0.0), (2258, 0.0), (2259, 0.0), (2260, 0.0), (2261, 0.0), (2262, 0.0), (2263, 0.0), (2264, 0.00903848742732343), (2265, 0.0), (2266, 0.027266245898122283), (2267, 0.0), (2268, 0.0), (2269, 0.03903104184027611), (2270, 0.025653487139747647), (2271, 0.009596874741474401), (2272, 0.0), (2273, 0.011502439460352712), (2274, 0.029207018877992742), (2275, 0.013307938289188434), (2276, 0.0), (2277, 0.0), (2278, 0.0), (2279, 0.01001878490901584), (2280, 0.0), (2281, 0.013008665679058428), (2282, 0.0), (2283, 0.0), (2284, 0.0), (2285, 0.0), (2286, 0.0), (2287, 0.0183877242032255), (2288, 0.0), (2289, 0.0), (2290, 0.02742145736638014), (2291, 0.0), (2292, 0.0), (2293, 0.0), (2294, 0.0), (2295, 0.0), (2296, 0.0), (2297, 0.0), (2298, 0.0), (2299, 0.0), (2300, 0.0), (2301, 0.0), (2302, 0.0), (2303, 0.025312037351079585), (2304, 0.0), (2305, 0.0), (2306, 0.0), (2307, 0.0), (2308, 0.0), (2309, 0.0), (2310, 0.0), (2311, 0.0), (2312, 0.0), (2313, 0.0), (2314, 0.0), (2315, 0.009096550606026385), (2316, 0.0), (2317, 0.009761169071215433), (2318, 0.0), (2319, 0.0), (2320, 0.0), (2321, 0.0), (2322, 0.009601770471147847), (2323, 0.008699554597550311), (2324, 0.0), (2325, 0.050946971413051954), (2326, 0.008404986235853925), (2327, 0.009398792013087241), (2328, 0.0), (2329, 0.0), (2330, 0.010353345017134686), (2331, 0.008587355717886354), (2332, 0.0), (2333, 0.0), (2334, 0.010548667325133267), (2335, 0.0), (2336, 0.0), (2337, 0.0), (2338, 0.0), (2339, 0.0), (2340, 0.0), (2341, 0.0), (2342, 0.028665363692416356), (2343, 0.0), (2344, 0.0), (2345, 0.0), (2346, 0.0), (2347, 0.0), (2348, 0.0), (2349, 0.04117540615271732), (2350, 0.0), (2351, 0.0), (2352, 0.008814210850718332), (2353, 0.0), (2354, 0.0), (2355, 0.0), (2356, 0.0), (2357, 0.0410050270544207), (2358, 0.0), (2359, 0.019257416503224344), (2360, 0.0), (2361, 0.0), (2362, 0.0), (2363, 0.0), (2364, 0.0), (2365, 0.0), (2366, 0.0), (2367, 0.0), (2368, 0.0), (2369, 0.0), (2370, 0.0), (2371, 0.0), (2372, 0.05549346943309023), (2373, 0.0), (2374, 0.030117284824996756), (2375, 0.038186732024448694), (2376, 0.0), (2377, 0.05411609641310313), (2378, 0.0), (2379, 0.0), (2380, 0.0), (2381, 0.0), (2382, 0.0), (2383, 0.0), (2384, 0.0), (2385, 0.030339996676632286), (2386, 0.0), (2387, 0.0), (2388, 0.0), (2389, 0.0), (2390, 0.0), (2391, 0.0107585313927923), (2392, 0.0), (2393, 0.01023702673449122), (2394, 0.0), (2395, 0.0), (2396, 0.010084965231206375), (2397, 0.03918489241933551), (2398, 0.0), (2399, 0.0), (2400, 0.011135177863046786), (2401, 0.0), (2402, 0.00961079753182171), (2403, 0.0), (2404, 0.0), (2405, 0.0), (2406, 0.011939128160576002), (2407, 0.0), (2408, 0.0), (2409, 0.0), (2410, 0.011188607792037664), (2411, 0.0), (2412, 0.0), (2413, 0.0), (2414, 0.0), (2415, 0.0), (2416, 0.0), (2417, 0.0), (2418, 0.0), (2419, 0.0), (2420, 0.0), (2421, 0.0359274621501044), (2422, 0.0), (2423, 0.0), (2424, 0.0), (2425, 0.0), (2426, 0.0), (2427, 0.03523207342554019), (2428, 0.0), (2429, 0.0), (2430, 0.0), (2431, 0.036869358999387036), (2432, 0.0), (2433, 0.026528227873117826), (2434, 0.0), (2435, 0.0), (2436, 0.0), (2437, 0.0), (2438, 0.0), (2439, 0.0), (2440, 0.0), (2441, 0.0), (2442, 0.0), (2443, 0.015278401525972379), (2444, 0.0), (2445, 0.08011697298404315), (2446, 0.024470693904085506), (2447, 0.017156893903113802), (2448, 0.0), (2449, 0.010213258138600472), (2450, 0.0), (2451, 0.0), (2452, 0.0), (2453, 0.0), (2454, 0.0), (2455, 0.0), (2456, 0.0), (2457, 0.030214906249485453), (2458, 0.0), (2459, 0.033982796992733634), (2460, 0.034609331825189105), (2461, 0.009540096790221135), (2462, 0.0), (2463, 0.0), (2464, 0.11982431038272985), (2465, 0.0), (2466, 0.0), (2467, 0.0), (2468, 0.04743864841435814), (2469, 0.0), (2470, 0.0), (2471, 0.0), (2472, 0.0), (2473, 0.021616157735645555), (2474, 0.0), (2475, 0.0), (2476, 0.0), (2477, 0.0), (2478, 0.0), (2479, 0.0), (2480, 0.029409487963261597), (2481, 0.025455653136735975), (2482, 0.0), (2483, 0.0), (2484, 0.0), (2485, 0.0), (2486, 0.0), (2487, 0.010446227158254728), (2488, 0.011922719253308936), (2489, 0.0), (2490, 0.0), (2491, 0.0), (2492, 0.0), (2493, 0.04399864911489251), (2494, 0.038448062195894465), (2495, 0.0), (2496, 0.0), (2497, 0.0), (2498, 0.0), (2499, 0.0), (2500, 0.0), (2501, 0.0), (2502, 0.008985592298513997), (2503, 0.0), (2504, 0.0), (2505, 0.0), (2506, 0.0), (2507, 0.0), (2508, 0.0), (2509, 0.019695082511273825), (2510, 0.0), (2511, 0.01023790825640235), (2512, 0.019220092670679968), (2513, 0.0), (2514, 0.0), (2515, 0.0), (2516, 0.0), (2517, 0.0), (2518, 0.0), (2519, 0.029521179645252613), (2520, 0.0), (2521, 0.0), (2522, 0.0), (2523, 0.030685139838423057), (2524, 0.0), (2525, 0.0), (2526, 0.0), (2527, 0.0), (2528, 0.0), (2529, 0.0), (2530, 0.0), (2531, 0.010434089981773599), (2532, 0.0), (2533, 0.0), (2534, 0.011114311006536898), (2535, 0.0), (2536, 0.0), (2537, 0.0), (2538, 0.0), (2539, 0.030278746918795972), (2540, 0.0), (2541, 0.008619532346830624), (2542, 0.0), (2543, 0.0), (2544, 0.0), (2545, 0.0), (2546, 0.0), (2547, 0.0), (2548, 0.0), (2549, 0.0), (2550, 0.0), (2551, 0.0), (2552, 0.02733558292047666), (2553, 0.0), (2554, 0.023392636599875238), (2555, 0.0), (2556, 0.0), (2557, 0.0), (2558, 0.0), (2559, 0.0), (2560, 0.0), (2561, 0.0), (2562, 0.0), (2563, 0.0), (2564, 0.0), (2565, 0.0), (2566, 0.0), (2567, 0.0), (2568, 0.0), (2569, 0.0), (2570, 0.02651007926112889), (2571, 0.009693252918825406), (2572, 0.03004363673321504), (2573, 0.0), (2574, 0.027924986822355023), (2575, 0.0), (2576, 0.0), (2577, 0.0), (2578, 0.021551912521424667), (2579, 0.0), (2580, 0.00885314057217985), (2581, 0.0), (2582, 0.0), (2583, 0.0), (2584, 0.009173412607593709), (2585, 0.0), (2586, 0.0), (2587, 0.022643528695345874), (2588, 0.023811496376581587), (2589, 0.0), (2590, 0.0), (2591, 0.0), (2592, 0.0), (2593, 0.0), (2594, 0.0), (2595, 0.0), (2596, 0.0), (2597, 0.0), (2598, 0.0), (2599, 0.0), (2600, 0.0), (2601, 0.0), (2602, 0.0), (2603, 0.008528261521284913), (2604, 0.0), (2605, 0.0), (2606, 0.024171499700034016), (2607, 0.0), (2608, 0.0), (2609, 0.03725508077111647), (2610, 0.0), (2611, 0.0), (2612, 0.009759383537000645), (2613, 0.0), (2614, 0.0), (2615, 0.0), (2616, 0.0), (2617, 0.03179099791627939), (2618, 0.0), (2619, 0.032578893348130404), (2620, 0.0), (2621, 0.023319373633208733), (2622, 0.016842552212332447), (2623, 0.0), (2624, 0.0), (2625, 0.0), (2626, 0.0), (2627, 0.0), (2628, 0.0), (2629, 0.0), (2630, 0.0), (2631, 0.0), (2632, 0.0), (2633, 0.0), (2634, 0.0), (2635, 0.027540809642810696), (2636, 0.02435954416438834), (2637, 0.0), (2638, 0.0), (2639, 0.0), (2640, 0.0), (2641, 0.0), (2642, 0.028296619659798843), (2643, 0.0), (2644, 0.0), (2645, 0.031083467261221704), (2646, 0.018177098393145286), (2647, 0.0), (2648, 0.0), (2649, 0.04880390813298949), (2650, 0.01032469446746392), (2651, 0.0), (2652, 0.0), (2653, 0.0), (2654, 0.0), (2655, 0.0), (2656, 0.0), (2657, 0.0), (2658, 0.0), (2659, 0.06585709771789619), (2660, 0.036608127743286874), (2661, 0.01034422071771354), (2662, 0.0), (2663, 0.02508606802058208), (2664, 0.0), (2665, 0.0), (2666, 0.0), (2667, 0.04065455494829701), (2668, 0.0), (2669, 0.0), (2670, 0.0), (2671, 0.007641821583710554), (2672, 0.03381819996961454), (2673, 0.03187644363078991), (2674, 0.0), (2675, 0.010673512685987305), (2676, 0.0), (2677, 0.022271539494303914), (2678, 0.0), (2679, 0.026080161282617347), (2680, 0.0), (2681, 0.028903197301452164), (2682, 0.0), (2683, 0.0), (2684, 0.0), (2685, 0.0), (2686, 0.0), (2687, 0.0), (2688, 0.026275773912379074), (2689, 0.0), (2690, 0.0), (2691, 0.0), (2692, 0.0), (2693, 0.0), (2694, 0.0), (2695, 0.0), (2696, 0.0), (2697, 0.024207097536607707), (2698, 0.0), (2699, 0.0606204201916153), (2700, 0.0), (2701, 0.0), (2702, 0.0), (2703, 0.0), (2704, 0.0), (2705, 0.0), (2706, 0.010012763075237314), (2707, 0.0), (2708, 0.0), (2709, 0.0), (2710, 0.03961349380555437), (2711, 0.018838564500180347), (2712, 0.0), (2713, 0.0), (2714, 0.0), (2715, 0.0), (2716, 0.0), (2717, 0.0), (2718, 0.02208745035470762), (2719, 0.0), (2720, 0.011309453791090385), (2721, 0.0), (2722, 0.0), (2723, 0.0), (2724, 0.0), (2725, 0.0), (2726, 0.0), (2727, 0.0), (2728, 0.009489744875690544), (2729, 0.0), (2730, 0.0), (2731, 0.0), (2732, 0.0), (2733, 0.0), (2734, 0.00802897538904598), (2735, 0.0), (2736, 0.04540522921187051), (2737, 0.0), (2738, 0.0), (2739, 0.030753412783958163), (2740, 0.03360904117743218), (2741, 0.0), (2742, 0.022067470214367797), (2743, 0.0), (2744, 0.0), (2745, 0.0), (2746, 0.0), (2747, 0.0), (2748, 0.0), (2749, 0.008869319672299654), (2750, 0.0), (2751, 0.0), (2752, 0.0), (2753, 0.0), (2754, 0.0), (2755, 0.0), (2756, 0.042852537411304556), (2757, 0.0), (2758, 0.0), (2759, 0.0), (2760, 0.015546721103051164), (2761, 0.02159927345162396), (2762, 0.02088845016034231), (2763, 0.0), (2764, 0.0), (2765, 0.0), (2766, 0.0), (2767, 0.0), (2768, 0.0), (2769, 0.0), (2770, 0.020523504465225162), (2771, 0.0), (2772, 0.028542567715465466), (2773, 0.0), (2774, 0.0), (2775, 0.047807545517095), (2776, 0.0), (2777, 0.0378109606822052), (2778, 0.0), (2779, 0.0), (2780, 0.0), (2781, 0.04490335775004142), (2782, 0.0), (2783, 0.0), (2784, 0.0), (2785, 0.0), (2786, 0.0), (2787, 0.0), (2788, 0.022959905827707995), (2789, 0.018972049137976565), (2790, 0.010500348555447936), (2791, 0.0), (2792, 0.0), (2793, 0.03581117980489266), (2794, 0.0), (2795, 0.0), (2796, 0.0), (2797, 0.0), (2798, 0.010432760333743251), (2799, 0.0), (2800, 0.0), (2801, 0.0), (2802, 0.0), (2803, 0.0), (2804, 0.0), (2805, 0.0), (2806, 0.0), (2807, 0.0), (2808, 0.039469969880034796), (2809, 0.0), (2810, 0.0), (2811, 0.0), (2812, 0.0), (2813, 0.022712237936432976), (2814, 0.0), (2815, 0.0), (2816, 0.0), (2817, 0.03760523393597244), (2818, 0.0), (2819, 0.0), (2820, 0.0), (2821, 0.0), (2822, 0.008681891372059459), (2823, 0.0), (2824, 0.028664179250090183), (2825, 0.02356490154631148), (2826, 0.0), (2827, 0.0), (2828, 0.0), (2829, 0.0), (2830, 0.03871531370186929), (2831, 0.02515173146542189), (2832, 0.0), (2833, 0.045493685534627876), (2834, 0.0), (2835, 0.0), (2836, 0.0), (2837, 0.0), (2838, 0.0), (2839, 0.0), (2840, 0.02506704165893069), (2841, 0.041364643951508864), (2842, 0.008552950816683478), (2843, 0.0), (2844, 0.0), (2845, 0.009006969176397246), (2846, 0.0), (2847, 0.0), (2848, 0.0), (2849, 0.0), (2850, 0.0), (2851, 1.0), (2852, 0.0), (2853, 0.02757663806473792), (2854, 0.01092833409356245), (2855, 0.0), (2856, 0.0), (2857, 0.011737587511100033), (2858, 0.0), (2859, 0.0), (2860, 0.0), (2861, 0.0), (2862, 0.0), (2863, 0.0), (2864, 0.0), (2865, 0.0), (2866, 0.0), (2867, 0.0), (2868, 0.0), (2869, 0.03303301361249989), (2870, 0.0), (2871, 0.0), (2872, 0.0), (2873, 0.0791557589305913), (2874, 0.0), (2875, 0.0), (2876, 0.02192343743830226), (2877, 0.016888042660987923), (2878, 0.0), (2879, 0.0), (2880, 0.0), (2881, 0.0), (2882, 0.0), (2883, 0.0), (2884, 0.03724435174546601), (2885, 0.0), (2886, 0.0), (2887, 0.024221597871929762), (2888, 0.0), (2889, 0.06410344648128431), (2890, 0.0), (2891, 0.0), (2892, 0.009461012365645153), (2893, 0.0), (2894, 0.0), (2895, 0.0), (2896, 0.0), (2897, 0.021895156189912664), (2898, 0.0), (2899, 0.021076674917466818), (2900, 0.0), (2901, 0.0), (2902, 0.0), (2903, 0.0), (2904, 0.0), (2905, 0.0), (2906, 0.0), (2907, 0.04649333279052651), (2908, 0.018044883316578355), (2909, 0.0), (2910, 0.0), (2911, 0.0), (2912, 0.0), (2913, 0.0), (2914, 0.0), (2915, 0.0), (2916, 0.0), (2917, 0.0), (2918, 0.0), (2919, 0.0), (2920, 0.0), (2921, 0.011052147870246252), (2922, 0.0), (2923, 0.0), (2924, 0.0), (2925, 0.05498356567964722), (2926, 0.0), (2927, 0.0), (2928, 0.0), (2929, 0.029209496266949776), (2930, 0.0), (2931, 0.018096861104478272), (2932, 0.0), (2933, 0.008771999203268753), (2934, 0.0), (2935, 0.0), (2936, 0.0), (2937, 0.0), (2938, 0.0), (2939, 0.0), (2940, 0.0), (2941, 0.0), (2942, 0.0), (2943, 0.0), (2944, 0.0), (2945, 0.0), (2946, 0.0), (2947, 0.0), (2948, 0.0), (2949, 0.0), (2950, 0.0), (2951, 0.0), (2952, 0.03974266543482778), (2953, 0.0), (2954, 0.0), (2955, 0.0), (2956, 0.0), (2957, 0.0), (2958, 0.06077744114307531), (2959, 0.03087145240788087), (2960, 0.0), (2961, 0.0), (2962, 0.021137371026245525), (2963, 0.010538319840399737), (2964, 0.0), (2965, 0.06958540419810852), (2966, 0.0), (2967, 0.0), (2968, 0.0), (2969, 0.0), (2970, 0.0), (2971, 0.0), (2972, 0.0), (2973, 0.0), (2974, 0.0), (2975, 0.008757529839611021), (2976, 0.0), (2977, 0.0), (2978, 0.0), (2979, 0.0), (2980, 0.0), (2981, 0.01742815050381469), (2982, 0.011212985443039936), (2983, 0.0), (2984, 0.0), (2985, 0.008376906145524114), (2986, 0.0), (2987, 0.0), (2988, 0.02082436054505307), (2989, 0.0), (2990, 0.0), (2991, 0.0), (2992, 0.0), (2993, 0.0), (2994, 0.0), (2995, 0.0), (2996, 0.0), (2997, 0.0), (2998, 0.0), (2999, 0.0), (3000, 0.04875310690132627), (3001, 0.011062753312183815), (3002, 0.0), (3003, 0.0), (3004, 0.0), (3005, 0.0), (3006, 0.032467257306472014), (3007, 0.0), (3008, 0.0), (3009, 0.0), (3010, 0.0), (3011, 0.009625458918270083), (3012, 0.0), (3013, 0.0), (3014, 0.0), (3015, 0.0), (3016, 0.0), (3017, 0.05826953594485858), (3018, 0.010098586104607165), (3019, 0.0), (3020, 0.0), (3021, 0.022500921102734606), (3022, 0.0), (3023, 0.023081816471709506), (3024, 0.0), (3025, 0.0), (3026, 0.0), (3027, 0.09279517139053964), (3028, 0.027597199351608523), (3029, 0.0), (3030, 0.0), (3031, 0.04236629418976887), (3032, 0.0), (3033, 0.08302646884355983), (3034, 0.0), (3035, 0.0), (3036, 0.0), (3037, 0.0), (3038, 0.0), (3039, 0.0), (3040, 0.0), (3041, 0.0), (3042, 0.0), (3043, 0.0), (3044, 0.0), (3045, 0.0), (3046, 0.0967492872179308), (3047, 0.0), (3048, 0.0), (3049, 0.0), (3050, 0.0), (3051, 0.0), (3052, 0.0), (3053, 0.0), (3054, 0.0), (3055, 0.0), (3056, 0.03881160377621136), (3057, 0.0), (3058, 0.0), (3059, 0.0), (3060, 0.04808471399358355), (3061, 0.0), (3062, 0.0), (3063, 0.017775130439637774), (3064, 0.0), (3065, 0.0), (3066, 0.0), (3067, 0.03008780260415829), (3068, 0.0), (3069, 0.0), (3070, 0.0), (3071, 0.11211549171039321), (3072, 0.0), (3073, 0.025605054818606348), (3074, 0.0), (3075, 0.0), (3076, 0.0), (3077, 0.02588224282132106), (3078, 0.0), (3079, 0.0), (3080, 0.027876605702503346), (3081, 0.0), (3082, 0.008873812609174013), (3083, 0.03396672300631962), (3084, 0.0), (3085, 0.0), (3086, 0.010489356952312593), (3087, 0.0), (3088, 0.0), (3089, 0.0), (3090, 0.009868510937543486), (3091, 0.0), (3092, 0.0), (3093, 0.0), (3094, 0.03463694363517222), (3095, 0.0), (3096, 0.0), (3097, 0.0), (3098, 0.02462851270333493), (3099, 0.009118144425055161), (3100, 0.0), (3101, 0.0), (3102, 0.0), (3103, 0.0), (3104, 0.0), (3105, 0.0), (3106, 0.0), (3107, 0.0), (3108, 0.0), (3109, 0.011083798617512595), (3110, 0.02439726307840005), (3111, 0.02236665720632348), (3112, 0.0), (3113, 0.0), (3114, 0.0), (3115, 0.0), (3116, 0.0), (3117, 0.041671504331486496), (3118, 0.0), (3119, 0.0), (3120, 0.0), (3121, 0.009649732265151895), (3122, 0.0), (3123, 0.0), (3124, 0.029783040309379307), (3125, 0.0), (3126, 0.0), (3127, 0.0), (3128, 0.0), (3129, 0.0), (3130, 0.0), (3131, 0.0), (3132, 0.03842769135298647), (3133, 0.06393281765124985), (3134, 0.03714150721077072), (3135, 0.0), (3136, 0.0), (3137, 0.0), (3138, 0.0), (3139, 0.0), (3140, 0.0), (3141, 0.0), (3142, 0.013643568400253818), (3143, 0.0), (3144, 0.007836623810975085), (3145, 0.0), (3146, 0.0), (3147, 0.009256639980126713), (3148, 0.0), (3149, 0.03570448070751301), (3150, 0.0), (3151, 0.0), (3152, 0.0), (3153, 0.010301324854607514), (3154, 0.0), (3155, 0.023021441967322764), (3156, 0.0), (3157, 0.0), (3158, 0.0), (3159, 0.0), (3160, 0.0), (3161, 0.0), (3162, 0.0), (3163, 0.03174969818982951), (3164, 0.0), (3165, 0.0), (3166, 0.0), (3167, 0.03353834484628335), (3168, 0.0), (3169, 0.0), (3170, 0.0), (3171, 0.0), (3172, 0.0), (3173, 0.0), (3174, 0.0), (3175, 0.0), (3176, 0.0), (3177, 0.0), (3178, 0.0), (3179, 0.0), (3180, 0.0), (3181, 0.0), (3182, 0.02612388235977738), (3183, 0.0), (3184, 0.0), (3185, 0.0), (3186, 0.0), (3187, 0.0), (3188, 0.010015098384855778), (3189, 0.04240633220108705), (3190, 0.0), (3191, 0.0389418746052726), (3192, 0.0), (3193, 0.0), (3194, 0.0), (3195, 0.0), (3196, 0.0), (3197, 0.0), (3198, 0.0), (3199, 0.007910231329153998), (3200, 0.0), (3201, 0.0), (3202, 0.0), (3203, 0.0), (3204, 0.0), (3205, 0.0), (3206, 0.0), (3207, 0.0), (3208, 0.010527844115948684), (3209, 0.01029546723751542), (3210, 0.0), (3211, 0.0), (3212, 0.0), (3213, 0.01890243154606859), (3214, 0.023294516933221023), (3215, 0.017262219415265852), (3216, 0.0), (3217, 0.0), (3218, 0.0), (3219, 0.01298014305379965), (3220, 0.0), (3221, 0.0), (3222, 0.0), (3223, 0.0), (3224, 0.0), (3225, 0.02843086196186), (3226, 0.0), (3227, 0.0), (3228, 0.0), (3229, 0.0), (3230, 0.0), (3231, 0.0), (3232, 0.009420040073831754), (3233, 0.0), (3234, 0.0), (3235, 0.0), (3236, 0.0), (3237, 0.00985188892401375), (3238, 0.0), (3239, 0.0), (3240, 0.045655255847047396), (3241, 0.02492349863969445), (3242, 0.010379336405017404), (3243, 0.0), (3244, 0.009109816460413107), (3245, 0.0), (3246, 0.009427853544410272), (3247, 0.009033827115457187), (3248, 0.0), (3249, 0.0), (3250, 0.0), (3251, 0.0), (3252, 0.0), (3253, 0.0), (3254, 0.00867135841624166), (3255, 0.0), (3256, 0.0), (3257, 0.0), (3258, 0.0), (3259, 0.010579783455046671), (3260, 0.009732913504741333), (3261, 0.0), (3262, 0.0), (3263, 0.0), (3264, 0.0), (3265, 0.0), (3266, 0.0), (3267, 0.0), (3268, 0.0), (3269, 0.03453080759092954), (3270, 0.022532327751317964), (3271, 0.0), (3272, 0.010534947933635519), (3273, 0.0), (3274, 0.0), (3275, 0.0), (3276, 0.0), (3277, 0.0), (3278, 0.0), (3279, 0.0), (3280, 0.0), (3281, 0.0), (3282, 0.0), (3283, 0.0), (3284, 0.0), (3285, 0.0), (3286, 0.0), (3287, 0.0), (3288, 0.0), (3289, 0.03807091429888663), (3290, 0.0), (3291, 0.0), (3292, 0.0), (3293, 0.0), (3294, 0.0), (3295, 0.0), (3296, 0.0), (3297, 0.0), (3298, 0.0), (3299, 0.0), (3300, 0.009456766776781936), (3301, 0.0), (3302, 0.0), (3303, 0.02039320094867699), (3304, 0.02320516947832489), (3305, 0.0), (3306, 0.0), (3307, 0.0), (3308, 0.0), (3309, 0.0), (3310, 0.0), (3311, 0.0), (3312, 0.02540722407372191), (3313, 0.0), (3314, 0.0), (3315, 0.009775919003442485), (3316, 0.0), (3317, 0.0), (3318, 0.009042164141858607), (3319, 0.0), (3320, 0.0), (3321, 0.010096334741821058), (3322, 0.0), (3323, 0.0), (3324, 0.0), (3325, 0.0), (3326, 0.0), (3327, 0.008903655474746263), (3328, 0.0), (3329, 0.0), (3330, 0.010051214135059027), (3331, 0.0), (3332, 0.0), (3333, 0.0), (3334, 0.03048105568660326), (3335, 0.0), (3336, 0.0), (3337, 0.0), (3338, 0.0), (3339, 0.0), (3340, 0.0), (3341, 0.0), (3342, 0.009297101012547208), (3343, 0.0), (3344, 0.018971711246042244), (3345, 0.0), (3346, 0.0), (3347, 0.0), (3348, 0.010073053563527804), (3349, 0.0), (3350, 0.0), (3351, 0.0), (3352, 0.0), (3353, 0.0), (3354, 0.0), (3355, 0.0), (3356, 0.026229548823142677), (3357, 0.0), (3358, 0.0), (3359, 0.0), (3360, 0.0), (3361, 0.0), (3362, 0.0), (3363, 0.0), (3364, 0.0), (3365, 0.0), (3366, 0.0), (3367, 0.0), (3368, 0.0), (3369, 0.0), (3370, 0.009348430050766523), (3371, 0.0), (3372, 0.0), (3373, 0.0), (3374, 0.0), (3375, 0.0), (3376, 0.0), (3377, 0.0), (3378, 0.0), (3379, 0.0), (3380, 0.0), (3381, 0.0), (3382, 0.0), (3383, 0.0), (3384, 0.0), (3385, 0.0), (3386, 0.0), (3387, 0.024479932371171055), (3388, 0.01036371894875017), (3389, 0.0), (3390, 0.009685003898232401), (3391, 0.0), (3392, 0.02051941635505203), (3393, 0.0), (3394, 0.0), (3395, 0.0), (3396, 0.0), (3397, 0.0), (3398, 0.0), (3399, 0.0), (3400, 0.0), (3401, 0.0), (3402, 0.0), (3403, 0.0), (3404, 0.0), (3405, 0.0), (3406, 0.0), (3407, 0.0), (3408, 0.0), (3409, 0.0), (3410, 0.0), (3411, 0.0), (3412, 0.0), (3413, 0.0), (3414, 0.0), (3415, 0.0), (3416, 0.02396525526271873), (3417, 0.0), (3418, 0.022867450287122913), (3419, 0.0), (3420, 0.0), (3421, 0.007200467731084137), (3422, 0.025984056193004035), (3423, 0.0), (3424, 0.0), (3425, 0.0), (3426, 0.0), (3427, 0.009995718471651842), (3428, 0.0), (3429, 0.0), (3430, 0.0), (3431, 0.0), (3432, 0.0), (3433, 0.0), (3434, 0.0), (3435, 0.0), (3436, 0.0), (3437, 0.0), (3438, 0.03134048790637694), (3439, 0.0), (3440, 0.0), (3441, 0.0), (3442, 0.0), (3443, 0.0), (3444, 0.0), (3445, 0.0), (3446, 0.0), (3447, 0.0), (3448, 0.0), (3449, 0.0), (3450, 0.0), (3451, 0.0), (3452, 0.0), (3453, 0.0), (3454, 0.0), (3455, 0.0), (3456, 0.024450681511072506), (3457, 0.0), (3458, 0.02732032422836059), (3459, 0.0), (3460, 0.0), (3461, 0.0), (3462, 0.0), (3463, 0.0), (3464, 0.0), (3465, 0.0), (3466, 0.0), (3467, 0.0), (3468, 0.0), (3469, 0.0), (3470, 0.0), (3471, 0.0), (3472, 0.0), (3473, 0.0), (3474, 0.02462282714187984), (3475, 0.0), (3476, 0.0), (3477, 0.036850834787357484), (3478, 0.0), (3479, 0.0), (3480, 0.0), (3481, 0.0), (3482, 0.0), (3483, 0.024749768497800972), (3484, 0.008947647734501865), (3485, 0.0), (3486, 0.0), (3487, 0.0), (3488, 0.0), (3489, 0.0), (3490, 0.0), (3491, 0.0), (3492, 0.03545313668522654), (3493, 0.0), (3494, 0.0), (3495, 0.0), (3496, 0.0), (3497, 0.01130572431069207), (3498, 0.026570101643472416), (3499, 0.0), (3500, 0.0), (3501, 0.0), (3502, 0.0), (3503, 0.025778267908768308), (3504, 0.0), (3505, 0.0), (3506, 0.011268731807162875), (3507, 0.0), (3508, 0.0), (3509, 0.019703378088670103), (3510, 0.028885930738308908), (3511, 0.0), (3512, 0.0), (3513, 0.0), (3514, 0.0), (3515, 0.0), (3516, 0.010269043445642924), (3517, 0.0), (3518, 0.0), (3519, 0.0), (3520, 0.0), (3521, 0.0), (3522, 0.0), (3523, 0.0), (3524, 0.027547346556896654), (3525, 0.009073414210976726), (3526, 0.0), (3527, 0.0), (3528, 0.0), (3529, 0.0), (3530, 0.0), (3531, 0.028755612155359416), (3532, 0.0), (3533, 0.0), (3534, 0.0), (3535, 0.0), (3536, 0.0), (3537, 0.0), (3538, 0.0), (3539, 0.0281493730911259), (3540, 0.0), (3541, 0.0), (3542, 0.0), (3543, 0.0), (3544, 0.0), (3545, 0.0), (3546, 0.017012005257455866), (3547, 0.0), (3548, 0.0), (3549, 0.0), (3550, 0.0), (3551, 0.0), (3552, 0.0), (3553, 0.02316183089259872), (3554, 0.0), (3555, 0.0), (3556, 0.0), (3557, 0.0), (3558, 0.0), (3559, 0.0), (3560, 0.0), (3561, 0.0), (3562, 0.0), (3563, 0.04409283949606595), (3564, 0.010209707228901058), (3565, 0.0), (3566, 0.0), (3567, 0.0), (3568, 0.023966893539565534), (3569, 0.0), (3570, 0.02957048694433791), (3571, 0.0), (3572, 0.0), (3573, 0.0), (3574, 0.018733544557952293), (3575, 0.02519555086453804), (3576, 0.0), (3577, 0.0), (3578, 0.0), (3579, 0.009046120545172506), (3580, 0.0), (3581, 0.0), (3582, 0.028299950178477768), (3583, 0.0), (3584, 0.0), (3585, 0.0), (3586, 0.0), (3587, 0.038613610290327255), (3588, 0.0), (3589, 0.0), (3590, 0.0), (3591, 0.0), (3592, 0.0), (3593, 0.0), (3594, 0.03291240769273241), (3595, 0.0), (3596, 0.010413472835680273), (3597, 0.0), (3598, 0.0), (3599, 0.0), (3600, 0.0), (3601, 0.0), (3602, 0.0), (3603, 0.0), (3604, 0.0), (3605, 0.0), (3606, 0.0), (3607, 0.0432484331821352), (3608, 0.0), (3609, 0.0), (3610, 0.011688015610156857), (3611, 0.025085038803182233), (3612, 0.0), (3613, 0.0), (3614, 0.0), (3615, 0.0), (3616, 0.0), (3617, 0.0), (3618, 0.0), (3619, 0.0), (3620, 0.0), (3621, 0.0), (3622, 0.0), (3623, 0.0), (3624, 0.0), (3625, 0.0), (3626, 0.035436528589634315), (3627, 0.0), (3628, 0.0), (3629, 0.0), (3630, 0.0), (3631, 0.0), (3632, 0.0), (3633, 0.0), (3634, 0.0), (3635, 0.0), (3636, 0.0), (3637, 0.0), (3638, 0.0), (3639, 0.0), (3640, 0.0), (3641, 0.0), (3642, 0.010350937585614723), (3643, 0.0), (3644, 0.0), (3645, 0.0), (3646, 0.009553170959557359), (3647, 0.0), (3648, 0.0), (3649, 0.0), (3650, 0.0), (3651, 0.0), (3652, 0.0), (3653, 0.0), (3654, 0.0), (3655, 0.009012802785943288), (3656, 0.046108545472537406), (3657, 0.0), (3658, 0.008455069302541357), (3659, 0.0), (3660, 0.021465447421434167), (3661, 0.0), (3662, 0.030137479778618248), (3663, 0.0), (3664, 0.0), (3665, 0.0), (3666, 0.030205605892336125), (3667, 0.007646444761984346), (3668, 0.0), (3669, 0.0), (3670, 0.029690103784113783), (3671, 0.0), (3672, 0.0), (3673, 0.0), (3674, 0.019392703190233018), (3675, 0.0), (3676, 0.0), (3677, 0.0), (3678, 0.0), (3679, 0.0), (3680, 0.0), (3681, 0.0), (3682, 0.0), (3683, 0.023239040300931702), (3684, 0.049718528496612624), (3685, 0.05716093548191885), (3686, 0.0), (3687, 0.0), (3688, 0.0), (3689, 0.0), (3690, 0.0), (3691, 0.0), (3692, 0.0), (3693, 0.0), (3694, 0.0), (3695, 0.0), (3696, 0.0), (3697, 0.0), (3698, 0.0), (3699, 0.0), (3700, 0.028707821736404685), (3701, 0.0), (3702, 0.0), (3703, 0.0), (3704, 0.0), (3705, 0.026832197211959338), (3706, 0.0), (3707, 0.0), (3708, 0.0), (3709, 0.0), (3710, 0.0), (3711, 0.0), (3712, 0.022846286655225086), (3713, 0.0), (3714, 0.0), (3715, 0.040327308110980814), (3716, 0.0), (3717, 0.0), (3718, 0.009233681095759581), (3719, 0.0), (3720, 0.0), (3721, 0.0), (3722, 0.02474668808300479), (3723, 0.0), (3724, 0.0), (3725, 0.033815755689459465), (3726, 0.0), (3727, 0.06649261781730736), (3728, 0.0), (3729, 0.0), (3730, 0.0), (3731, 0.0), (3732, 0.009483235722658951), (3733, 0.0), (3734, 0.0), (3735, 0.0), (3736, 0.02378902412347203), (3737, 0.0), (3738, 0.0), (3739, 0.009820186754892763), (3740, 0.0), (3741, 0.0), (3742, 0.0), (3743, 0.0), (3744, 0.0), (3745, 0.0), (3746, 0.0), (3747, 0.02494764930057294), (3748, 0.0), (3749, 0.0), (3750, 0.0073297130214812975), (3751, 0.04052963230727136), (3752, 0.0), (3753, 0.0), (3754, 0.0), (3755, 0.0), (3756, 0.0), (3757, 0.0), (3758, 0.0), (3759, 0.0), (3760, 0.0), (3761, 0.0), (3762, 0.0), (3763, 0.0), (3764, 0.0), (3765, 0.0), (3766, 0.0), (3767, 0.0), (3768, 0.0), (3769, 0.022882481240550357), (3770, 0.0), (3771, 0.0), (3772, 0.0), (3773, 0.0), (3774, 0.010844556791951369), (3775, 0.0), (3776, 0.0), (3777, 0.0), (3778, 0.0), (3779, 0.0), (3780, 0.010802099217786371), (3781, 0.0), (3782, 0.0), (3783, 0.0), (3784, 0.0), (3785, 0.04068093499447109), (3786, 0.0), (3787, 0.0), (3788, 0.0), (3789, 0.0), (3790, 0.03898942157108501), (3791, 0.0), (3792, 0.010078753487119247), (3793, 0.0), (3794, 0.0), (3795, 0.0), (3796, 0.0), (3797, 0.024921807940583976), (3798, 0.0), (3799, 0.0), (3800, 0.0), (3801, 0.0), (3802, 0.0), (3803, 0.0), (3804, 0.0), (3805, 0.0), (3806, 0.0), (3807, 0.010062026970365848), (3808, 0.0), (3809, 0.0), (3810, 0.0), (3811, 0.0), (3812, 0.04009806931495663), (3813, 0.010912273200498602), (3814, 0.0), (3815, 0.0), (3816, 0.0), (3817, 0.0), (3818, 0.0), (3819, 0.009645353391568218), (3820, 0.13285643055331683), (3821, 0.0), (3822, 0.0), (3823, 0.0), (3824, 0.0), (3825, 0.0), (3826, 0.0), (3827, 0.0), (3828, 0.029933041939304097), (3829, 0.0), (3830, 0.010443558928490703), (3831, 0.0), (3832, 0.0), (3833, 0.0), (3834, 0.0), (3835, 0.0), (3836, 0.0), (3837, 0.0), (3838, 0.0), (3839, 0.0), (3840, 0.0), (3841, 0.0), (3842, 0.0), (3843, 0.0), (3844, 0.0), (3845, 0.0), (3846, 0.0), (3847, 0.0), (3848, 0.0), (3849, 0.010302881219422792), (3850, 0.0), (3851, 0.0), (3852, 0.0), (3853, 0.0), (3854, 0.0), (3855, 0.008419240447743885), (3856, 0.0), (3857, 0.0), (3858, 0.0), (3859, 0.0), (3860, 0.0), (3861, 0.0), (3862, 0.0), (3863, 0.0), (3864, 0.0), (3865, 0.0), (3866, 0.0), (3867, 0.0), (3868, 0.01945940699941914), (3869, 0.0), (3870, 0.0), (3871, 0.0), (3872, 0.0), (3873, 0.0), (3874, 0.0), (3875, 0.0), (3876, 0.00986001970646368), (3877, 0.039321569015263715), (3878, 0.0), (3879, 0.0), (3880, 0.0), (3881, 0.0), (3882, 0.0), (3883, 0.0), (3884, 0.0), (3885, 0.0), (3886, 0.0), (3887, 0.0), (3888, 0.0), (3889, 0.0), (3890, 0.02524047780282337), (3891, 0.0), (3892, 0.0), (3893, 0.025083695573031722), (3894, 0.0), (3895, 0.0), (3896, 0.0), (3897, 0.0), (3898, 0.0), (3899, 0.04247118021062638), (3900, 0.0), (3901, 0.0), (3902, 0.0), (3903, 0.0), (3904, 0.025980441036504515), (3905, 0.0), (3906, 0.0), (3907, 0.0), (3908, 0.0), (3909, 0.0), (3910, 0.0), (3911, 0.0), (3912, 0.009687434759741431), (3913, 0.0), (3914, 0.0), (3915, 0.0), (3916, 0.0), (3917, 0.0), (3918, 0.0), (3919, 0.0), (3920, 0.0), (3921, 0.0), (3922, 0.0), (3923, 0.0), (3924, 0.0), (3925, 0.0), (3926, 0.009915660192992044), (3927, 0.0), (3928, 0.0), (3929, 0.0), (3930, 0.0), (3931, 0.0), (3932, 0.0), (3933, 0.0), (3934, 0.0), (3935, 0.0), (3936, 0.0), (3937, 0.0), (3938, 0.0), (3939, 0.0), (3940, 0.0), (3941, 0.0), (3942, 0.0), (3943, 0.0), (3944, 0.0), (3945, 0.0), (3946, 0.0), (3947, 0.0), (3948, 0.0), (3949, 0.0), (3950, 0.0), (3951, 0.0), (3952, 0.0), (3953, 0.028214543353374314), (3954, 0.0), (3955, 0.0), (3956, 0.0), (3957, 0.0), (3958, 0.0), (3959, 0.0), (3960, 0.0), (3961, 0.0), (3962, 0.0), (3963, 0.0), (3964, 0.0), (3965, 0.02258954389863014), (3966, 0.009832866438699602), (3967, 0.0), (3968, 0.0), (3969, 0.023527386364121165), (3970, 0.0), (3971, 0.0), (3972, 0.0), (3973, 0.0), (3974, 0.009410849594635168), (3975, 0.0), (3976, 0.0), (3977, 0.0), (3978, 0.0), (3979, 0.0), (3980, 0.0), (3981, 0.0), (3982, 0.026957027175784198), (3983, 0.007696165696548924), (3984, 0.0), (3985, 0.009524472488156563), (3986, 0.0), (3987, 0.0), (3988, 0.0), (3989, 0.02499593037638803), (3990, 0.04042407282909836), (3991, 0.0), (3992, 0.0), (3993, 0.009250818354234714), (3994, 0.02199619282360636), (3995, 0.0), (3996, 0.0), (3997, 0.0), (3998, 0.0), (3999, 0.0), (4000, 0.0), (4001, 0.0), (4002, 0.0), (4003, 0.0), (4004, 0.0), (4005, 0.0), (4006, 0.0), (4007, 0.039792377279138626), (4008, 0.0), (4009, 0.0), (4010, 0.0), (4011, 0.00962118545834275), (4012, 0.0), (4013, 0.0), (4014, 0.0), (4015, 0.0192097024892651), (4016, 0.0), (4017, 0.0), (4018, 0.0), (4019, 0.0), (4020, 0.0), (4021, 0.0), (4022, 0.0), (4023, 0.0), (4024, 0.0), (4025, 0.02471221179375929), (4026, 0.0), (4027, 0.0), (4028, 0.0), (4029, 0.0), (4030, 0.0), (4031, 0.0), (4032, 0.0), (4033, 0.01045509057721551), (4034, 0.0), (4035, 0.009656479521499565), (4036, 0.0), (4037, 0.0), (4038, 0.0), (4039, 0.0), (4040, 0.04541871895008186), (4041, 0.0), (4042, 0.0), (4043, 0.0), (4044, 0.0), (4045, 0.0388395101874969), (4046, 0.0), (4047, 0.0), (4048, 0.0), (4049, 0.0), (4050, 0.0), (4051, 0.0), (4052, 0.0), (4053, 0.0), (4054, 0.0), (4055, 0.0), (4056, 0.0), (4057, 0.0), (4058, 0.0), (4059, 0.009710901579663691), (4060, 0.0), (4061, 0.0), (4062, 0.0), (4063, 0.0), (4064, 0.0), (4065, 0.0), (4066, 0.0), (4067, 0.0), (4068, 0.0), (4069, 0.0), (4070, 0.0), (4071, 0.0), (4072, 0.0), (4073, 0.009914522668004255), (4074, 0.06983480148999903), (4075, 0.0), (4076, 0.0), (4077, 0.0), (4078, 0.03146109628471159), (4079, 0.0), (4080, 0.0), (4081, 0.0), (4082, 0.0), (4083, 0.0), (4084, 0.0), (4085, 0.0), (4086, 0.01137296901424861), (4087, 0.0), (4088, 0.0), (4089, 0.040617491789878064), (4090, 0.038005287745328964), (4091, 0.0), (4092, 0.0), (4093, 0.0), (4094, 0.0), (4095, 0.0), (4096, 0.0), (4097, 0.010752247219051698), (4098, 0.0), (4099, 0.0), (4100, 0.0), (4101, 0.026717937546060156), (4102, 0.0), (4103, 0.0), (4104, 0.0), (4105, 0.0), (4106, 0.0), (4107, 0.0), (4108, 0.0), (4109, 0.008975131364397634), (4110, 0.00949739202806871), (4111, 0.0), (4112, 0.0), (4113, 0.0), (4114, 0.008591034930028819), (4115, 0.0), (4116, 0.0), (4117, 0.0), (4118, 0.0), (4119, 0.0), (4120, 0.0), (4121, 0.0), (4122, 0.07272949514765395), (4123, 0.0), (4124, 0.0), (4125, 0.0), (4126, 0.0), (4127, 0.0), (4128, 0.010637302117931834), (4129, 0.0), (4130, 0.0), (4131, 0.0), (4132, 0.0), (4133, 0.0), (4134, 0.0), (4135, 0.0), (4136, 0.0), (4137, 0.009803259717454296), (4138, 0.0), (4139, 0.0), (4140, 0.0), (4141, 0.0), (4142, 0.0), (4143, 0.0), (4144, 0.0), (4145, 0.0), (4146, 0.0), (4147, 0.0), (4148, 0.0), (4149, 0.0), (4150, 0.0), (4151, 0.0), (4152, 0.00957611772836841), (4153, 0.0), (4154, 0.0), (4155, 0.009334996532166722), (4156, 0.0), (4157, 0.0), (4158, 0.0), (4159, 0.009687406416520815), (4160, 0.0), (4161, 0.0), (4162, 0.03416049834511732), (4163, 0.0), (4164, 0.020469133606158495), (4165, 0.0), (4166, 0.0), (4167, 0.0), (4168, 0.0), (4169, 0.021005204859594808), (4170, 0.0), (4171, 0.0071341252191680585), (4172, 0.0), (4173, 0.010587494322988403), (4174, 0.009303515527216782), (4175, 0.0), (4176, 0.027249582386491195), (4177, 0.0), (4178, 0.0), (4179, 0.0), (4180, 0.0), (4181, 0.0), (4182, 0.0), (4183, 0.0), (4184, 0.0), (4185, 0.0), (4186, 0.009200497713142247), (4187, 0.010909146919422437), (4188, 0.0), (4189, 0.02197483529515091), (4190, 0.0), (4191, 0.0), (4192, 0.0), (4193, 0.0), (4194, 0.029553015291316882), (4195, 0.0), (4196, 0.0), (4197, 0.034502058919839575), (4198, 0.0), (4199, 0.05058736690297627), (4200, 0.0), (4201, 0.0), (4202, 0.0), (4203, 0.0), (4204, 0.0), (4205, 0.0), (4206, 0.0), (4207, 0.011092724266720264), (4208, 0.0), (4209, 0.0), (4210, 0.02958676174926707), (4211, 0.0), (4212, 0.0), (4213, 0.0), (4214, 0.0), (4215, 0.0), (4216, 0.0), (4217, 0.0), (4218, 0.009986459173202476), (4219, 0.0), (4220, 0.0), (4221, 0.0), (4222, 0.0), (4223, 0.0), (4224, 0.0), (4225, 0.0), (4226, 0.0), (4227, 0.0), (4228, 0.0), (4229, 0.0), (4230, 0.0), (4231, 0.0), (4232, 0.0), (4233, 0.0), (4234, 0.0), (4235, 0.0), (4236, 0.0), (4237, 0.0), (4238, 0.0), (4239, 0.0), (4240, 0.03828742799532111), (4241, 0.0), (4242, 0.0), (4243, 0.0), (4244, 0.0), (4245, 0.0), (4246, 0.0), (4247, 0.008827251810622402), (4248, 0.0), (4249, 0.0), (4250, 0.0), (4251, 0.0), (4252, 0.08283251318177035), (4253, 0.0), (4254, 0.0), (4255, 0.0), (4256, 0.0), (4257, 0.0), (4258, 0.0), (4259, 0.0), (4260, 0.0), (4261, 0.0), (4262, 0.020878798710336686), (4263, 0.0), (4264, 0.0), (4265, 0.0), (4266, 0.0), (4267, 0.0), (4268, 0.022481383804601573), (4269, 0.02754638630992496), (4270, 0.0), (4271, 0.013954424993553885), (4272, 0.0), (4273, 0.0), (4274, 0.00941348937789456), (4275, 0.0), (4276, 0.0), (4277, 0.030160874252503328), (4278, 0.0), (4279, 0.0), (4280, 0.0), (4281, 0.0), (4282, 0.0), (4283, 0.0), (4284, 0.0), (4285, 0.0), (4286, 0.03989082242489979), (4287, 0.03325823223409029), (4288, 0.0), (4289, 0.0), (4290, 0.02041561207906779), (4291, 0.0), (4292, 0.0), (4293, 0.0), (4294, 0.0), (4295, 0.0), (4296, 0.0), (4297, 0.0), (4298, 0.0), (4299, 0.0), (4300, 0.0), (4301, 0.0), (4302, 0.0), (4303, 0.02972538945097645), (4304, 0.028749820706092468), (4305, 0.0), (4306, 0.0), (4307, 0.0), (4308, 0.0), (4309, 0.0), (4310, 0.009811879128208367), (4311, 0.0), (4312, 0.0), (4313, 0.0), (4314, 0.0), (4315, 0.0), (4316, 0.0), (4317, 0.036612568833522624), (4318, 0.038666994838599235), (4319, 0.07942102402629854), (4320, 0.0), (4321, 0.009366650509120902), (4322, 0.0), (4323, 0.0), (4324, 0.0), (4325, 0.021091692176641474), (4326, 0.0), (4327, 0.0), (4328, 0.0), (4329, 0.034935021589440965), (4330, 0.0), (4331, 0.0), (4332, 0.0), (4333, 0.011598195380293434), (4334, 0.0), (4335, 0.0), (4336, 0.0), (4337, 0.0), (4338, 0.0), (4339, 0.0), (4340, 0.0), (4341, 0.03243564252071809), (4342, 0.0), (4343, 0.0), (4344, 0.025022065591937377), (4345, 0.029067082561098342), (4346, 0.0), (4347, 0.0), (4348, 0.0), (4349, 0.0), (4350, 0.0), (4351, 0.0), (4352, 0.0), (4353, 0.03299734410603094), (4354, 0.0), (4355, 0.0), (4356, 0.009593779666439747), (4357, 0.0), (4358, 0.0), (4359, 0.025305417154526007), (4360, 0.0), (4361, 0.0), (4362, 0.0), (4363, 0.033347669576126074), (4364, 0.0), (4365, 0.0), (4366, 0.008969733058566179), (4367, 0.0), (4368, 0.0), (4369, 0.0), (4370, 0.0), (4371, 0.029188708599132383), (4372, 0.0), (4373, 0.0), (4374, 0.035134195943330074), (4375, 0.0), (4376, 0.0), (4377, 0.0), (4378, 0.0), (4379, 0.0), (4380, 0.0), (4381, 0.0), (4382, 0.0), (4383, 0.0), (4384, 0.0), (4385, 0.0), (4386, 0.0), (4387, 0.0), (4388, 0.058187329219499595), (4389, 0.0), (4390, 0.0), (4391, 0.0), (4392, 0.0), (4393, 0.0), (4394, 0.0), (4395, 0.0), (4396, 0.0), (4397, 0.0), (4398, 0.0), (4399, 0.018841234867413164), (4400, 0.0), (4401, 0.0), (4402, 0.0), (4403, 0.0), (4404, 0.0), (4405, 0.0), (4406, 0.0), (4407, 0.012867875009433004), (4408, 0.0), (4409, 0.0), (4410, 0.0), (4411, 0.019684719340268733), (4412, 0.035398295368975013), (4413, 0.0), (4414, 0.0), (4415, 0.0), (4416, 0.028940167673532424), (4417, 0.0), (4418, 0.0), (4419, 0.0), (4420, 0.0), (4421, 0.031626532481854396), (4422, 0.0), (4423, 0.0), (4424, 0.0), (4425, 0.0), (4426, 0.0), (4427, 0.010447323529745405), (4428, 0.0), (4429, 0.0), (4430, 0.0), (4431, 0.031207143136362695), (4432, 0.0), (4433, 0.0), (4434, 0.05771062267977146), (4435, 0.0), (4436, 0.0), (4437, 0.009212836973261605), (4438, 0.00973855575585152), (4439, 0.0), (4440, 0.0), (4441, 0.0), (4442, 0.0), (4443, 0.0), (4444, 0.0), (4445, 0.015268885570024041), (4446, 0.0), (4447, 0.0), (4448, 0.0), (4449, 0.0), (4450, 0.0), (4451, 0.0), (4452, 0.0), (4453, 0.0), (4454, 0.02456475511889077), (4455, 0.0), (4456, 0.0), (4457, 0.0), (4458, 0.0), (4459, 0.0), (4460, 0.011186899110937745), (4461, 0.0), (4462, 0.0), (4463, 0.0), (4464, 0.0), (4465, 0.0), (4466, 0.0), (4467, 0.0), (4468, 0.008895490456850409), (4469, 0.0), (4470, 0.025337464486215596), (4471, 0.0), (4472, 0.009456021222123556), (4473, 0.00927063897067916), (4474, 0.0), (4475, 0.0), (4476, 0.0), (4477, 0.0), (4478, 0.0), (4479, 0.0), (4480, 0.0), (4481, 0.0), (4482, 0.0), (4483, 0.0), (4484, 0.0), (4485, 0.0), (4486, 0.0), (4487, 0.0), (4488, 0.025516581528381512), (4489, 0.0), (4490, 0.0), (4491, 0.0), (4492, 0.0), (4493, 0.0), (4494, 0.0), (4495, 0.0), (4496, 0.0), (4497, 0.02146360791346253), (4498, 0.01900430706005686), (4499, 0.0), (4500, 0.0), (4501, 0.0), (4502, 0.0), (4503, 0.0395677742089526), (4504, 0.0), (4505, 0.0), (4506, 0.0), (4507, 0.0), (4508, 0.0), (4509, 0.0), (4510, 0.0), (4511, 0.0), (4512, 0.0), (4513, 0.020678411963830683), (4514, 0.0), (4515, 0.010809634783772368), (4516, 0.0), (4517, 0.0), (4518, 0.0), (4519, 0.020175221241795802), (4520, 0.0), (4521, 0.0), (4522, 0.0), (4523, 0.0), (4524, 0.0), (4525, 0.027940628169857335), (4526, 0.0), (4527, 0.0), (4528, 0.0), (4529, 0.04764926067161585), (4530, 0.0), (4531, 0.0), (4532, 0.0), (4533, 0.0), (4534, 0.0), (4535, 0.0), (4536, 0.026171160980138056), (4537, 0.0), (4538, 0.0322865593946062), (4539, 0.0), (4540, 0.0), (4541, 0.03928549932650076), (4542, 0.009567185571174515), (4543, 0.0), (4544, 0.0), (4545, 0.026228610491630975), (4546, 0.0), (4547, 0.0), (4548, 0.0), (4549, 0.0), (4550, 0.0), (4551, 0.0), (4552, 0.0), (4553, 0.0), (4554, 0.0), (4555, 0.0), (4556, 0.0), (4557, 0.0), (4558, 0.023478668302655097), (4559, 0.0), (4560, 0.0), (4561, 0.0), (4562, 0.0), (4563, 0.0), (4564, 0.0), (4565, 0.0), (4566, 0.0), (4567, 0.0), (4568, 0.0), (4569, 0.030569570348205184), (4570, 0.0), (4571, 0.0), (4572, 0.0), (4573, 0.0), (4574, 0.010474047731737194), (4575, 0.0), (4576, 0.0), (4577, 0.0), (4578, 0.0), (4579, 0.0), (4580, 0.0), (4581, 0.0), (4582, 0.0), (4583, 0.0), (4584, 0.0), (4585, 0.0), (4586, 0.0), (4587, 0.019696453900799816), (4588, 0.0), (4589, 0.0), (4590, 0.008754589967438277), (4591, 0.0), (4592, 0.0), (4593, 0.0), (4594, 0.0), (4595, 0.0), (4596, 0.0), (4597, 0.0), (4598, 0.008209616362125265), (4599, 0.0), (4600, 0.009610903439001405), (4601, 0.0), (4602, 0.0), (4603, 0.0), (4604, 0.0), (4605, 0.0), (4606, 0.0), (4607, 0.0), (4608, 0.0), (4609, 0.0), (4610, 0.0), (4611, 0.0), (4612, 0.0), (4613, 0.0), (4614, 0.0), (4615, 0.0), (4616, 0.0), (4617, 0.0), (4618, 0.0), (4619, 0.0), (4620, 0.0), (4621, 0.0), (4622, 0.0), (4623, 0.0), (4624, 0.0), (4625, 0.0), (4626, 0.0), (4627, 0.0), (4628, 0.0), (4629, 0.0), (4630, 0.0), (4631, 0.0), (4632, 0.0), (4633, 0.0), (4634, 0.0), (4635, 0.0), (4636, 0.0), (4637, 0.0), (4638, 0.023942707192455254), (4639, 0.010554105819471093), (4640, 0.0), (4641, 0.0), (4642, 0.0), (4643, 0.025763047486015163), (4644, 0.0), (4645, 0.0), (4646, 0.0), (4647, 0.019939560478677912), (4648, 0.0), (4649, 0.0), (4650, 0.027149458153508305), (4651, 0.0), (4652, 0.0), (4653, 0.0), (4654, 0.0), (4655, 0.0), (4656, 0.0), (4657, 0.0), (4658, 0.027730040481087417), (4659, 0.06715840316900944), (4660, 0.0), (4661, 0.0), (4662, 0.0), (4663, 0.0), (4664, 0.0), (4665, 0.0), (4666, 0.0), (4667, 0.0), (4668, 0.0), (4669, 0.0), (4670, 0.0), (4671, 0.0), (4672, 0.0), (4673, 0.0), (4674, 0.0), (4675, 0.0), (4676, 0.0), (4677, 0.0), (4678, 0.0), (4679, 0.009259880630077872), (4680, 0.0), (4681, 0.0), (4682, 0.0), (4683, 0.0), (4684, 0.01013469680554428), (4685, 0.0), (4686, 0.0), (4687, 0.0), (4688, 0.06532199589444782), (4689, 0.0), (4690, 0.0), (4691, 0.0), (4692, 0.0), (4693, 0.0), (4694, 0.0), (4695, 0.0), (4696, 0.0), (4697, 0.0), (4698, 0.0), (4699, 0.030449325769165276), (4700, 0.0), (4701, 0.0), (4702, 0.0), (4703, 0.0), (4704, 0.0), (4705, 0.0371600072096178), (4706, 0.0), (4707, 0.0), (4708, 0.010036270317225073), (4709, 0.0), (4710, 0.0), (4711, 0.0), (4712, 0.0), (4713, 0.0), (4714, 0.0), (4715, 0.0), (4716, 0.0), (4717, 0.0), (4718, 0.0), (4719, 0.045156586694546356), (4720, 0.0), (4721, 0.0), (4722, 0.0), (4723, 0.0), (4724, 0.0), (4725, 0.013532283783802439), (4726, 0.0), (4727, 0.0), (4728, 0.0), (4729, 0.0), (4730, 0.0), (4731, 0.0), (4732, 0.0), (4733, 0.0), (4734, 0.0), (4735, 0.0), (4736, 0.0), (4737, 0.0), (4738, 0.0), (4739, 0.020680115939362663), (4740, 0.0), (4741, 0.0), (4742, 0.027396214231346413), (4743, 0.0), (4744, 0.0), (4745, 0.0), (4746, 0.0), (4747, 0.0), (4748, 0.0), (4749, 0.0), (4750, 0.0), (4751, 0.0), (4752, 0.007123178585588764), (4753, 0.028450635648294642), (4754, 0.0), (4755, 0.0), (4756, 0.020436575051702086), (4757, 0.010672671035607463), (4758, 0.0), (4759, 0.0)]\n"
          ]
        }
      ]
    },
    {
      "cell_type": "code",
      "source": [
        "len(Recommendation_Score)"
      ],
      "metadata": {
        "colab": {
          "base_uri": "https://localhost:8080/"
        },
        "id": "zh0lezC6wHgE",
        "outputId": "bf743ba8-9eec-4508-f781-986c6373cef7"
      },
      "execution_count": 51,
      "outputs": [
        {
          "output_type": "execute_result",
          "data": {
            "text/plain": [
              "4760"
            ]
          },
          "metadata": {},
          "execution_count": 51
        }
      ]
    },
    {
      "cell_type": "markdown",
      "source": [
        "### **Get All Movies Sort Based on Recommendation Score With Respect to Favourite Movie**"
      ],
      "metadata": {
        "id": "TISVd4NU6fyZ"
      }
    },
    {
      "cell_type": "code",
      "source": [
        "# Sorting Movies Based on Their Similarity Score\n",
        "\n",
        "Sorted_Similar_Movie = sorted(Recommendation_Score, key = lambda x:x[1], reverse = True )\n",
        "print(Sorted_Similar_Movie)"
      ],
      "metadata": {
        "colab": {
          "base_uri": "https://localhost:8080/"
        },
        "id": "0PuiGzTtwVg9",
        "outputId": "9a2c5740-184f-4b00-b90a-bd4e5db8e485"
      },
      "execution_count": 52,
      "outputs": [
        {
          "output_type": "stream",
          "name": "stdout",
          "text": [
            "[(2851, 1.0), (399, 0.16573614403436993), (1951, 0.1471524821869127), (2188, 0.1373720507383682), (3820, 0.13285643055331683), (1842, 0.12478915793464948), (2464, 0.11982431038272985), (3071, 0.11211549171039321), (807, 0.10938308797677646), (1646, 0.10641086990364358), (2140, 0.10595981197436502), (1490, 0.09811998054810742), (3046, 0.0967492872179308), (116, 0.0958311093545825), (3027, 0.09279517139053964), (1517, 0.08832679039705812), (3033, 0.08302646884355983), (4252, 0.08283251318177035), (2445, 0.08011697298404315), (4319, 0.07942102402629854), (2873, 0.0791557589305913), (4122, 0.07272949514765395), (642, 0.07165054082320182), (1344, 0.0704242950371921), (4074, 0.06983480148999903), (2965, 0.06958540419810852), (1062, 0.06901412434022475), (1290, 0.06814521494313472), (4659, 0.06715840316900944), (1079, 0.06695341132258703), (2022, 0.0666151954133212), (2196, 0.06654470490730874), (3727, 0.06649261781730736), (2659, 0.06585709771789619), (4688, 0.06532199589444782), (953, 0.06489581500234172), (2889, 0.06410344648128431), (3133, 0.06393281765124985), (791, 0.06265017095582398), (938, 0.062313027908230505), (2958, 0.06077744114307531), (2699, 0.0606204201916153), (1243, 0.060345343308310165), (1122, 0.05975768379693605), (1435, 0.05914500860797334), (1086, 0.05854760163743794), (1393, 0.058273335143505606), (3017, 0.05826953594485858), (4388, 0.058187329219499595), (771, 0.05791010391959387), (4434, 0.05771062267977146), (2009, 0.05723906824455291), (3685, 0.05716093548191885), (1657, 0.05619260300024337), (1157, 0.055919599211555), (2372, 0.05549346943309023), (2925, 0.05498356567964722), (2377, 0.05411609641310313), (19, 0.05307311392449669), (1250, 0.05306335455971933), (853, 0.052578748651905524), (1964, 0.05220006628321603), (2187, 0.051838297855793955), (198, 0.05176151657680916), (1017, 0.05112487218485988), (2325, 0.050946971413051954), (4199, 0.05058736690297627), (761, 0.05037047828037904), (639, 0.050289462594402076), (652, 0.049824132604947155), (3684, 0.049718528496612624), (752, 0.04970681324450425), (758, 0.04887594793797512), (2649, 0.04880390813298949), (3000, 0.04875310690132627), (2123, 0.048657324508847535), (3060, 0.04808471399358355), (804, 0.047861983806297685), (2775, 0.047807545517095), (4529, 0.04764926067161585), (2468, 0.04743864841435814), (1528, 0.04686506136899555), (305, 0.04684378316435266), (2907, 0.04649333279052651), (1279, 0.046143666159459834), (3656, 0.046108545472537406), (699, 0.04582942598458395), (3240, 0.045655255847047396), (2833, 0.045493685534627876), (4040, 0.04541871895008186), (2736, 0.04540522921187051), (302, 0.04531267549099699), (4719, 0.045156586694546356), (2185, 0.045113259340246695), (2781, 0.04490335775004142), (1555, 0.04455201821128287), (3563, 0.04409283949606595), (2493, 0.04399864911489251), (546, 0.04397649795483649), (3607, 0.0432484331821352), (1781, 0.04286627439794873), (1136, 0.042854870169732606), (2756, 0.042852537411304556), (3899, 0.04247118021062638), (3189, 0.04240633220108705), (3031, 0.04236629418976887), (1249, 0.04227080881281325), (562, 0.042158607346221295), (3117, 0.041671504331486496), (2841, 0.041364643951508864), (1817, 0.041293291358490095), (860, 0.04121484174200801), (2349, 0.04117540615271732), (2357, 0.0410050270544207), (1362, 0.04094120637691779), (3785, 0.04068093499447109), (2667, 0.04065455494829701), (4089, 0.040617491789878064), (3751, 0.04052963230727136), (3990, 0.04042407282909836), (3715, 0.040327308110980814), (3812, 0.04009806931495663), (1915, 0.0400454985409001), (4286, 0.03989082242489979), (1476, 0.03982160055113104), (1499, 0.03980495862541873), (4007, 0.039792377279138626), (2952, 0.03974266543482778), (2710, 0.03961349380555437), (4503, 0.0395677742089526), (2808, 0.039469969880034796), (3877, 0.039321569015263715), (4541, 0.03928549932650076), (2397, 0.03918489241933551), (2223, 0.039068526104421276), (2269, 0.03903104184027611), (1474, 0.0390061739693735), (3790, 0.03898942157108501), (3191, 0.0389418746052726), (4045, 0.0388395101874969), (3056, 0.03881160377621136), (2830, 0.03871531370186929), (4318, 0.038666994838599235), (3587, 0.038613610290327255), (2494, 0.038448062195894465), (3132, 0.03842769135298647), (4240, 0.03828742799532111), (2375, 0.038186732024448694), (3289, 0.03807091429888663), (4090, 0.038005287745328964), (2777, 0.0378109606822052), (977, 0.03774530463536109), (2817, 0.03760523393597244), (2609, 0.03725508077111647), (2884, 0.03724435174546601), (4705, 0.0371600072096178), (3134, 0.03714150721077072), (1489, 0.03708313480840699), (2431, 0.036869358999387036), (430, 0.03686628868399051), (3477, 0.036850834787357484), (1379, 0.036730841689802875), (4317, 0.036612568833522624), (2660, 0.036608127743286874), (1682, 0.03659335330640284), (95, 0.03645067166660523), (1335, 0.0362064742976505), (971, 0.036121503661925486), (1353, 0.036073890173320175), (2421, 0.0359274621501044), (93, 0.03587680362837696), (1130, 0.0358735837231953), (2793, 0.03581117980489266), (3149, 0.03570448070751301), (1175, 0.03570186442330306), (1587, 0.03564935809951338), (90, 0.035609902973714275), (1654, 0.03556938847591183), (939, 0.03548326163317793), (1256, 0.03545742398298907), (3492, 0.03545313668522654), (3626, 0.035436528589634315), (4412, 0.035398295368975013), (384, 0.03539471977151896), (1255, 0.03536962794831287), (2427, 0.03523207342554019), (105, 0.0351954997735302), (1757, 0.03518471668029557), (45, 0.03517122307657383), (1138, 0.03514326640356451), (4374, 0.035134195943330074), (4329, 0.034935021589440965), (665, 0.03493341930482156), (1867, 0.034931895800488486), (859, 0.03484247663520293), (1787, 0.034805599245201865), (689, 0.0347612724478486), (451, 0.034725975106055657), (522, 0.03469526236292855), (3094, 0.03463694363517222), (2460, 0.034609331825189105), (3269, 0.03453080759092954), (4197, 0.034502058919839575), (4162, 0.03416049834511732), (2070, 0.03403498903322099), (2459, 0.033982796992733634), (3083, 0.03396672300631962), (424, 0.03390113041872108), (2672, 0.03381819996961454), (3725, 0.033815755689459465), (656, 0.0337266544688716), (2740, 0.03360904117743218), (3167, 0.03353834484628335), (984, 0.033384387652764774), (4363, 0.033347669576126074), (137, 0.033324469747108315), (1148, 0.03326244729481877), (4287, 0.03325823223409029), (1318, 0.033191560275631804), (2869, 0.03303301361249989), (4353, 0.03299734410603094), (94, 0.03294130980727945), (3594, 0.03291240769273241), (788, 0.0328236847666412), (1698, 0.0328148690761131), (1952, 0.03280293569417359), (569, 0.032579022046682275), (2619, 0.032578893348130404), (3006, 0.032467257306472014), (1673, 0.03244645686521653), (4341, 0.03243564252071809), (1441, 0.03234734642424504), (4538, 0.0322865593946062), (894, 0.0322588530983722), (687, 0.03221068591233489), (1390, 0.03204111003899126), (981, 0.03204087489165236), (463, 0.03197515667274059), (1634, 0.031966430786037045), (1454, 0.03192020013975798), (2673, 0.03187644363078991), (1895, 0.03185832643185848), (2617, 0.03179099791627939), (3163, 0.03174969818982951), (1312, 0.03167426927929158), (1905, 0.03162976101191958), (4421, 0.031626532481854396), (2074, 0.03162114832430977), (1516, 0.03153911840299087), (1571, 0.03147232670480164), (4078, 0.03146109628471159), (2090, 0.03137471403263932), (3438, 0.03134048790637694), (1207, 0.03121307166712224), (4431, 0.031207143136362695), (64, 0.031132108150206204), (2645, 0.031083467261221704), (2162, 0.031057583284382417), (848, 0.030978750465009273), (545, 0.030970579033561284), (2959, 0.03087145240788087), (34, 0.030836897425786165), (52, 0.030819687846908368), (792, 0.03079929050774711), (801, 0.03076754943295313), (827, 0.030761176099515664), (2739, 0.030753412783958163), (1618, 0.030735102902356523), (1232, 0.030731041592720523), (2523, 0.030685139838423057), (297, 0.030631257014036854), (298, 0.030581962365417607), (4569, 0.030569570348205184), (1542, 0.03054258053362195), (344, 0.03051777291580007), (3334, 0.03048105568660326), (4699, 0.030449325769165276), (1009, 0.03042264653149137), (2157, 0.03036452958133862), (2385, 0.030339996676632286), (2539, 0.030278746918795972), (301, 0.03023811563438414), (1110, 0.030220974380839996), (2457, 0.030214906249485453), (3666, 0.030205605892336125), (4277, 0.030160874252503328), (3662, 0.030137479778618248), (75, 0.030129575681879094), (1759, 0.030127561258632383), (2374, 0.030117284824996756), (3067, 0.03008780260415829), (2572, 0.03004363673321504), (3828, 0.029933041939304097), (3124, 0.029783040309379307), (4303, 0.02972538945097645), (1422, 0.029694527524113768), (3670, 0.029690103784113783), (1089, 0.029601285718273425), (4210, 0.02958676174926707), (820, 0.029580759533971185), (1198, 0.029573300313646612), (3570, 0.02957048694433791), (4194, 0.029553015291316882), (2519, 0.029521179645252613), (1479, 0.02947874237857017), (1272, 0.029459292581276098), (1500, 0.029447515514977058), (2480, 0.029409487963261597), (299, 0.029362008961990132), (1306, 0.02932898320399699), (2111, 0.029266616733792473), (2929, 0.029209496266949776), (2274, 0.029207018877992742), (4371, 0.029188708599132383), (610, 0.029148989732716707), (749, 0.029069605746978634), (4345, 0.029067082561098342), (4416, 0.028940167673532424), (2681, 0.028903197301452164), (3510, 0.028885930738308908), (3531, 0.028755612155359416), (4304, 0.028749820706092468), (3700, 0.028707821736404685), (2342, 0.028665363692416356), (2824, 0.028664179250090183), (2772, 0.028542567715465466), (1300, 0.028529709328104953), (1771, 0.028460673471030984), (1103, 0.02845270025163509), (4753, 0.028450635648294642), (3225, 0.02843086196186), (661, 0.028391473057802968), (3582, 0.028299950178477768), (2642, 0.028296619659798843), (1203, 0.028258766892990932), (236, 0.02824955486911035), (3953, 0.028214543353374314), (1291, 0.028188598967592866), (3539, 0.0281493730911259), (1890, 0.028128739466351815), (1510, 0.028109217520629035), (520, 0.02794353273486532), (4525, 0.027940628169857335), (2574, 0.027924986822355023), (1829, 0.027881545614907736), (3080, 0.027876605702503346), (795, 0.02787621077272367), (1789, 0.02778562952079762), (1494, 0.027782433560788192), (300, 0.027775621008686316), (4658, 0.027730040481087417), (1419, 0.02769418252460951), (2034, 0.027667895908528167), (1568, 0.02763437844779582), (3028, 0.027597199351608523), (2853, 0.02757663806473792), (237, 0.027553225769021594), (3524, 0.027547346556896654), (4269, 0.02754638630992496), (2635, 0.027540809642810696), (621, 0.027486598283959288), (345, 0.027436876820610204), (2290, 0.02742145736638014), (4742, 0.027396214231346413), (2552, 0.02733558292047666), (3458, 0.02732032422836059), (69, 0.027303643725806508), (2151, 0.027273671819813546), (2266, 0.027266245898122283), (4176, 0.027249582386491195), (1833, 0.027201898830524783), (4650, 0.027149458153508305), (1107, 0.027109845264520316), (1004, 0.026993456661849033), (3982, 0.026957027175784198), (1605, 0.026910032644861543), (380, 0.02690356755067187), (3705, 0.026832197211959338), (686, 0.02680166678446115), (4101, 0.026717937546060156), (1273, 0.026643136801896755), (514, 0.02661703807695047), (3498, 0.026570101643472416), (2433, 0.026528227873117826), (2570, 0.02651007926112889), (2097, 0.026373704074526966), (386, 0.026285203376006865), (1481, 0.026277173930936024), (2688, 0.026275773912379074), (217, 0.0262620775591157), (249, 0.02622980217801331), (3356, 0.026229548823142677), (4545, 0.026228610491630975), (246, 0.026194605652015666), (1823, 0.026189250757517712), (1007, 0.026173476183222723), (4536, 0.026171160980138056), (3182, 0.02612388235977738), (746, 0.026086277961380046), (2679, 0.026080161282617347), (747, 0.02601836474557818), (3422, 0.025984056193004035), (3904, 0.025980441036504515), (1559, 0.02596100448564486), (1973, 0.025953159289361746), (408, 0.025928366960573285), (985, 0.02590996116725798), (660, 0.02590274120289234), (540, 0.025882569532203692), (3077, 0.02588224282132106), (2190, 0.025848654296161233), (974, 0.025841577910763178), (1294, 0.025831046339850387), (2204, 0.025802281463883327), (3503, 0.025778267908768308), (742, 0.025763071839119873), (4643, 0.025763047486015163), (1893, 0.025729804981101605), (2270, 0.025653487139747647), (3073, 0.025605054818606348), (1765, 0.02559961169631196), (1217, 0.02559600605008034), (553, 0.025552249689436923), (4488, 0.025516581528381512), (1581, 0.025515878974305885), (2481, 0.025455653136735975), (872, 0.02544569271611594), (3312, 0.02540722407372191), (4470, 0.025337464486215596), (1173, 0.02533320710336904), (2303, 0.025312037351079585), (4359, 0.025305417154526007), (1321, 0.025293464523767108), (3890, 0.02524047780282337), (2019, 0.025215394348555298), (3575, 0.02519555086453804), (2831, 0.02515173146542189), (2663, 0.02508606802058208), (3611, 0.025085038803182233), (3893, 0.025083695573031722), (2840, 0.02506704165893069), (680, 0.025053417671607542), (4344, 0.025022065591937377), (3989, 0.02499593037638803), (1015, 0.02497523925384661), (3747, 0.02494764930057294), (3241, 0.02492349863969445), (3797, 0.024921807940583976), (723, 0.024763158912767983), (1227, 0.024755491933068457), (3483, 0.024749768497800972), (3722, 0.02474668808300479), (965, 0.024732569242782467), (4025, 0.02471221179375929), (173, 0.02469951025814291), (1443, 0.02464774760762198), (2207, 0.024635024283740363), (3098, 0.02462851270333493), (3474, 0.02462282714187984), (1614, 0.024613898083253583), (931, 0.024605980889819492), (4454, 0.02456475511889077), (3387, 0.024479932371171055), (1436, 0.02447838431978781), (741, 0.02447267840927633), (980, 0.024471032957910466), (2446, 0.024470693904085506), (1002, 0.02445537918781335), (3456, 0.024450681511072506), (3110, 0.02439726307840005), (2636, 0.02435954416438834), (509, 0.02431419542630473), (2887, 0.024221597871929762), (2697, 0.024207097536607707), (921, 0.024193030634929162), (2606, 0.024171499700034016), (1292, 0.024001891171591266), (633, 0.023999879381702657), (3568, 0.023966893539565534), (3416, 0.02396525526271873), (724, 0.023962041664688825), (2085, 0.02395211999613742), (2086, 0.02394898531236285), (4638, 0.023942707192455254), (494, 0.023864540471513138), (1238, 0.023821715235762236), (2588, 0.023811496376581587), (3736, 0.02378902412347203), (392, 0.023769261975124443), (156, 0.023765012136705354), (877, 0.0237483453105495), (1935, 0.023679457951198954), (192, 0.023664374198396464), (1297, 0.023650524057702377), (879, 0.023640508080232304), (178, 0.023594136977908655), (152, 0.02356717727127306), (2825, 0.02356490154631148), (14, 0.023549459076817582), (3969, 0.023527386364121165), (524, 0.023505373242744716), (65, 0.02349308502024747), (4558, 0.023478668302655097), (1211, 0.023428268137387943), (2554, 0.023392636599875238), (202, 0.023381735783775164), (374, 0.023350807492992686), (1407, 0.02334063780422019), (2621, 0.023319373633208733), (3214, 0.023294516933221023), (3683, 0.023239040300931702), (935, 0.02321662178764505), (1339, 0.023211426250507084), (3304, 0.02320516947832489), (1782, 0.02318234009475609), (1230, 0.02316199476490193), (3553, 0.02316183089259872), (1645, 0.023129428972411242), (1795, 0.02310106802775051), (1545, 0.023085501879053283), (3023, 0.023081816471709506), (1132, 0.02306655534534013), (1690, 0.023055439269322662), (1098, 0.023042058774269014), (1691, 0.023037859042821584), (3155, 0.023021441967322764), (1793, 0.02302078301986905), (378, 0.02301324439882253), (1626, 0.022982144447162383), (2788, 0.022959905827707995), (179, 0.022957358766159206), (3769, 0.022882481240550357), (3418, 0.022867450287122913), (1998, 0.022849381541949845), (3712, 0.022846286655225086), (2161, 0.022803363704098786), (213, 0.022792147916556725), (1073, 0.022789378487262202), (2813, 0.022712237936432976), (498, 0.02267195547086879), (2587, 0.022643528695345874), (2073, 0.02261817447406642), (1873, 0.022598145666032767), (3965, 0.02258954389863014), (756, 0.022541148100305625), (3270, 0.022532327751317964), (18, 0.022508172359469596), (3021, 0.022500921102734606), (4268, 0.022481383804601573), (266, 0.02247012353545456), (155, 0.02241831992171299), (1152, 0.022409057301998655), (3111, 0.02236665720632348), (816, 0.022320606980622153), (30, 0.02231827820526264), (1468, 0.022312858265725204), (2677, 0.022271539494303914), (1937, 0.022192123305446492), (154, 0.022136829824064914), (611, 0.02211854674983422), (2718, 0.02208745035470762), (1025, 0.02206788911735396), (2742, 0.022067470214367797), (3994, 0.02199619282360636), (2195, 0.021990480032369593), (4189, 0.02197483529515091), (2876, 0.02192343743830226), (1464, 0.02189613275419326), (2897, 0.021895156189912664), (558, 0.021864174166871128), (651, 0.0218621080443245), (2014, 0.02182514036945589), (989, 0.021819309208054336), (67, 0.021798815070512092), (625, 0.021739138544590548), (565, 0.02173134464519492), (1550, 0.021716163649070332), (541, 0.02170778585115638), (2473, 0.021616157735645555), (2761, 0.02159927345162396), (475, 0.02157210137507134), (80, 0.021556829132640523), (2578, 0.021551912521424667), (597, 0.02150592004104095), (1082, 0.021478276277624636), (3660, 0.021465447421434167), (4497, 0.02146360791346253), (2033, 0.02142308740544181), (657, 0.02140415092237801), (304, 0.02118484585618892), (2962, 0.021137371026245525), (559, 0.02109875284362155), (4325, 0.021091692176641474), (2899, 0.021076674917466818), (113, 0.021047957521291866), (1487, 0.021045447194212724), (4169, 0.021005204859594808), (658, 0.02097958385947567), (1814, 0.020904496787518125), (2762, 0.02088845016034231), (4262, 0.020878798710336686), (781, 0.020839855782199566), (2988, 0.02082436054505307), (1433, 0.020801584076261058), (4739, 0.020680115939362663), (414, 0.020679716626311326), (4513, 0.020678411963830683), (269, 0.020651932771020842), (1584, 0.02063883784968098), (622, 0.020585248588623414), (2770, 0.020523504465225162), (757, 0.02052135957517736), (3392, 0.02051941635505203), (495, 0.020512192687408615), (4164, 0.020469133606158495), (78, 0.02043836150997057), (4756, 0.020436575051702086), (1777, 0.020422037571707668), (4290, 0.02041561207906779), (3303, 0.02039320094867699), (115, 0.020310669832039094), (1342, 0.020247425130097862), (82, 0.02020070133284756), (4519, 0.020175221241795802), (1958, 0.019951076630066854), (4647, 0.019939560478677912), (1780, 0.019838682346294736), (3509, 0.019703378088670103), (4587, 0.019696453900799816), (2509, 0.019695082511273825), (4411, 0.019684719340268733), (1648, 0.019657204132129402), (1861, 0.01951197375854853), (2216, 0.01946532069513146), (3868, 0.01945940699941914), (2, 0.019413788436976224), (3674, 0.019392703190233018), (421, 0.019331950565280583), (1767, 0.01932487101371265), (2359, 0.019257416503224344), (2512, 0.019220092670679968), (4015, 0.0192097024892651), (1592, 0.01916743214400034), (4498, 0.01900430706005686), (2789, 0.018972049137976565), (3344, 0.018971711246042244), (3213, 0.01890243154606859), (4399, 0.018841234867413164), (2711, 0.018838564500180347), (2039, 0.018835665714142812), (1428, 0.018773242874448228), (3574, 0.018733544557952293), (2287, 0.0183877242032255), (453, 0.018382099839528987), (1840, 0.01835010410268859), (435, 0.018295216996577893), (563, 0.018286680973313166), (1354, 0.018197155653785102), (2646, 0.018177098393145286), (2931, 0.018096861104478272), (2908, 0.018044883316578355), (1546, 0.017844403486838877), (357, 0.017797184092557414), (3063, 0.017775130439637774), (1524, 0.01746677639582609), (2981, 0.01742815050381469), (3215, 0.017262219415265852), (2447, 0.017156893903113802), (1925, 0.017141619324590327), (195, 0.01710512397559916), (3546, 0.017012005257455866), (831, 0.01694662029115764), (2035, 0.016926907756630014), (2877, 0.016888042660987923), (2622, 0.016842552212332447), (726, 0.016829649997232122), (1221, 0.016817286366354923), (1509, 0.01679403287149078), (1981, 0.01674106439413363), (196, 0.016590998408674607), (709, 0.016569382637721956), (738, 0.016276504423347767), (108, 0.01603040565389341), (1695, 0.015815891569832402), (2760, 0.015546721103051164), (2443, 0.015278401525972379), (4445, 0.015268885570024041), (4271, 0.013954424993553885), (3142, 0.013643568400253818), (4725, 0.013532283783802439), (2275, 0.013307938289188434), (2281, 0.013008665679058428), (3219, 0.01298014305379965), (4407, 0.012867875009433004), (2406, 0.011939128160576002), (2488, 0.011922719253308936), (2857, 0.011737587511100033), (3610, 0.011688015610156857), (2054, 0.011604887824041107), (4333, 0.011598195380293434), (1940, 0.011555862454639156), (2273, 0.011502439460352712), (4086, 0.01137296901424861), (2720, 0.011309453791090385), (3497, 0.01130572431069207), (753, 0.011289470349321555), (3506, 0.011268731807162875), (679, 0.01122636224398732), (2982, 0.011212985443039936), (2410, 0.011188607792037664), (4460, 0.011186899110937745), (2079, 0.011160084352661812), (2400, 0.011135177863046786), (1968, 0.011118779597553922), (2534, 0.011114311006536898), (4207, 0.011092724266720264), (3109, 0.011083798617512595), (3001, 0.011062753312183815), (2921, 0.011052147870246252), (1119, 0.011000843145302135), (385, 0.010995228485537125), (2854, 0.01092833409356245), (3813, 0.010912273200498602), (4187, 0.010909146919422437), (1923, 0.010896264675718059), (688, 0.010882967788043135), (3774, 0.010844556791951369), (802, 0.010823407268838861), (4515, 0.010809634783772368), (612, 0.010803286193631051), (3780, 0.010802099217786371), (1554, 0.010791795020389431), (2391, 0.0107585313927923), (4097, 0.010752247219051698), (1518, 0.01072755792445237), (2112, 0.01069887300607472), (485, 0.010682134477948683), (2675, 0.010673512685987305), (4757, 0.010672671035607463), (1537, 0.010667844626375877), (896, 0.010652053147680921), (4128, 0.010637302117931834), (227, 0.010626266750501418), (956, 0.010600716081796397), (1932, 0.010596273940003448), (1225, 0.010596127975745748), (4173, 0.010587494322988403), (3259, 0.010579783455046671), (456, 0.010564721251612662), (4639, 0.010554105819471093), (2147, 0.010551537532897438), (2334, 0.010548667325133267), (865, 0.010543861485177934), (891, 0.010538941388743688), (2963, 0.010538319840399737), (3272, 0.010534947933635519), (3208, 0.010527844115948684), (472, 0.010524738908517663), (1737, 0.010516680747977488), (1463, 0.010513259049920134), (1918, 0.010506447934087882), (2790, 0.010500348555447936), (3086, 0.010489356952312593), (4574, 0.010474047731737194), (1382, 0.010473235652033126), (1229, 0.010456704302022774), (4033, 0.01045509057721551), (4427, 0.010447323529745405), (2487, 0.010446227158254728), (3830, 0.010443558928490703), (2531, 0.010434089981773599), (2798, 0.010432760333743251), (987, 0.010426886977715112), (405, 0.01042179441101342), (2208, 0.010417873669596471), (797, 0.010415901146924427), (3596, 0.010413472835680273), (743, 0.010408035884197843), (517, 0.0104065743939691), (205, 0.010406560795039663), (1116, 0.010397751132585497), (131, 0.010387968229224368), (3242, 0.010379336405017404), (1930, 0.010378658275529386), (66, 0.01037035033820926), (11, 0.010369040917535327), (3388, 0.01036371894875017), (204, 0.010355979801396525), (1902, 0.010355162545419775), (2330, 0.010353345017134686), (3642, 0.010350937585614723), (2661, 0.01034422071771354), (2650, 0.01032469446746392), (3849, 0.010302881219422792), (3153, 0.010301324854607514), (3209, 0.01029546723751542), (918, 0.010293658943195493), (908, 0.010280772369242366), (3516, 0.010269043445642924), (1402, 0.01026479764850823), (2511, 0.01023790825640235), (2393, 0.01023702673449122), (845, 0.010219203321537432), (2449, 0.010213258138600472), (1534, 0.010211238562598576), (809, 0.010210450361098033), (3564, 0.010209707228901058), (1223, 0.010181816620003397), (193, 0.010154341623825962), (2130, 0.010153221794332012), (4684, 0.01013469680554428), (946, 0.010117691178926053), (1411, 0.010112452613102249), (3018, 0.010098586104607165), (1233, 0.01009810360403121), (1461, 0.010097290776392348), (3321, 0.010096334741821058), (1557, 0.01009246142388105), (464, 0.010086161608771148), (2396, 0.010084965231206375), (3792, 0.010078753487119247), (270, 0.01007661789077748), (54, 0.010076510483635462), (637, 0.010073443238738941), (3348, 0.010073053563527804), (3807, 0.010062026970365848), (3330, 0.010051214135059027), (528, 0.010046787225526202), (696, 0.010041380596942852), (259, 0.010040580506908165), (4708, 0.010036270317225073), (447, 0.01002107125492672), (2279, 0.01001878490901584), (3188, 0.010015098384855778), (2706, 0.010012763075237314), (1459, 0.010005085760446354), (556, 0.0100049289291703), (814, 0.010002673378325702), (3427, 0.009995718471651842), (4218, 0.009986459173202476), (1678, 0.009983840379280915), (1330, 0.009977542533874104), (1589, 0.009971331185619424), (360, 0.00996930454998246), (1191, 0.00996253835158682), (5, 0.009954246689121385), (1768, 0.009951705906529206), (2120, 0.00994242902458716), (42, 0.009936100153531061), (1783, 0.009933699027644889), (1035, 0.009919847341616295), (3926, 0.009915660192992044), (4073, 0.009914522668004255), (785, 0.009879787248208018), (3090, 0.009868510937543486), (3876, 0.00986001970646368), (1857, 0.009856310860382017), (439, 0.009854373573444446), (3237, 0.00985188892401375), (1706, 0.009841190023935511), (1472, 0.00983574097962677), (3966, 0.009832866438699602), (1304, 0.009826180083254182), (3739, 0.009820186754892763), (321, 0.009814734746822516), (4310, 0.009811879128208367), (822, 0.009811584570979422), (322, 0.009810562847592477), (2239, 0.009810506012132996), (1561, 0.009809112992683154), (4137, 0.009803259717454296), (1257, 0.009795079838842835), (1846, 0.009793825611435058), (1891, 0.009790994824768693), (2178, 0.009787875906401365), (3315, 0.009775919003442485), (2317, 0.009761169071215433), (2250, 0.009759685352125605), (2612, 0.009759383537000645), (1421, 0.009751256004237001), (4438, 0.00973855575585152), (3260, 0.009732913504741333), (1431, 0.009725456197480655), (1026, 0.00972356585660002), (4059, 0.009710901579663691), (535, 0.009707847339114692), (315, 0.009702126902276606), (2131, 0.00969940966410523), (1044, 0.009697314112472714), (1118, 0.009694078593851487), (2571, 0.009693252918825406), (3912, 0.009687434759741431), (4159, 0.009687406416520815), (3390, 0.009685003898232401), (1284, 0.009680439122566695), (662, 0.00966074113601782), (4035, 0.009656479521499565), (854, 0.009653578114697843), (1913, 0.009652460781819514), (3121, 0.009649732265151895), (1425, 0.009646465681235995), (846, 0.009646063577656717), (3819, 0.009645353391568218), (49, 0.00963651074237291), (1597, 0.009632711710135002), (3011, 0.009625458918270083), (466, 0.009624910430756745), (1610, 0.009624091162810535), (4011, 0.00962118545834275), (578, 0.009613991579853884), (4600, 0.009610903439001405), (2402, 0.00961079753182171), (690, 0.009603544799004073), (2322, 0.009601770471147847), (2271, 0.009596874741474401), (4356, 0.009593779666439747), (702, 0.009588311813525985), (4152, 0.00957611772836841), (4542, 0.009567185571174515), (1416, 0.009562625501961044), (3646, 0.009553170959557359), (713, 0.009549045077817144), (2461, 0.009540096790221135), (1084, 0.009528693950334595), (3985, 0.009524472488156563), (215, 0.009521224664219606), (2245, 0.009505774298068245), (1878, 0.009505638636147168), (325, 0.009503477034680512), (4110, 0.00949739202806871), (2728, 0.009489744875690544), (1457, 0.00948895328558199), (3732, 0.009483235722658951), (2892, 0.009461012365645153), (1744, 0.009460200254361187), (3300, 0.009456766776781936), (4472, 0.009456021222123556), (2100, 0.009447571575578365), (486, 0.009438795823953452), (3246, 0.009427853544410272), (1034, 0.00942439691265517), (3232, 0.009420040073831754), (4274, 0.00941348937789456), (3974, 0.009410849594635168), (2135, 0.00940874378327234), (2327, 0.009398792013087241), (492, 0.009395982246001184), (9, 0.009395386107967125), (1992, 0.009389615157264249), (655, 0.009378012598953727), (2093, 0.009374818881401093), (767, 0.00937463644874512), (2143, 0.009370913249436738), (4321, 0.009366650509120902), (1824, 0.009357723394112312), (1412, 0.009354164123292836), (240, 0.009351967827973777), (710, 0.00935118129485225), (3370, 0.009348430050766523), (1818, 0.009337226517671512), (4155, 0.009334996532166722), (659, 0.009334454583143251), (1061, 0.009326208944907662), (1041, 0.009324378159883325), (1357, 0.009315343614756947), (1979, 0.009314146134197353), (4174, 0.009303515527216782), (111, 0.00930294529814707), (1649, 0.00930186165106783), (3342, 0.009297101012547208), (1308, 0.009275203881987408), (1076, 0.009272240781348898), (4473, 0.00927063897067916), (2205, 0.009270110006835317), (1899, 0.00926677128409941), (4679, 0.009259880630077872), (3147, 0.009256639980126713), (829, 0.009255946076562754), (3993, 0.009250818354234714), (3718, 0.009233681095759581), (1482, 0.009231721339373817), (4437, 0.009212836973261605), (895, 0.00921168106614498), (338, 0.00920911001400172), (1714, 0.009207916251390223), (4186, 0.009200497713142247), (920, 0.009195741602447202), (2005, 0.009190711521156802), (306, 0.009188174725280187), (501, 0.009175740085780917), (2584, 0.009173412607593709), (511, 0.009171758944727876), (1270, 0.009159222738997736), (1197, 0.009155052955387934), (1739, 0.009147229848824392), (324, 0.009145191153480071), (2129, 0.00913274529823133), (2203, 0.009130840870436223), (1827, 0.009126346060254134), (1180, 0.009123158483676954), (2163, 0.009123107891347218), (3099, 0.009118144425055161), (2043, 0.009111053088731013), (3244, 0.009109816460413107), (638, 0.009105093020741532), (1543, 0.009101590905333329), (577, 0.009101423328730186), (2315, 0.009096550606026385), (810, 0.009090386612502423), (1480, 0.009085665385676981), (1456, 0.009085657444423557), (3525, 0.009073414210976726), (3579, 0.009046120545172506), (3318, 0.009042164141858607), (2264, 0.00903848742732343), (583, 0.009036852318197054), (3247, 0.009033827115457187), (1987, 0.009033264956871082), (1219, 0.009031845491964889), (1384, 0.009023533168616352), (410, 0.009015770158447676), (3655, 0.009012802785943288), (2845, 0.009006969176397246), (2502, 0.008985592298513997), (191, 0.008980937639203967), (161, 0.008976002403219056), (4109, 0.008975131364397634), (4366, 0.008969733058566179), (2007, 0.008961926081974162), (3484, 0.008947647734501865), (898, 0.008930017212500939), (2240, 0.008920723845117634), (3327, 0.008903655474746263), (4468, 0.008895490456850409), (1764, 0.008885534805469922), (1186, 0.008874092964838291), (3082, 0.008873812609174013), (2749, 0.008869319672299654), (1971, 0.008868549872427313), (892, 0.008854333853654498), (317, 0.008854002413789792), (2580, 0.00885314057217985), (912, 0.008844517289987957), (4247, 0.008827251810622402), (1405, 0.008821723475949183), (333, 0.00881925447787697), (1387, 0.00881513756574638), (2352, 0.008814210850718332), (1745, 0.008798085851648664), (242, 0.008777284520561377), (2933, 0.008771999203268753), (1978, 0.008762700435720838), (2975, 0.008757529839611021), (445, 0.008756684413331987), (4590, 0.008754589967438277), (1850, 0.008746780651730648), (640, 0.008716992009381289), (334, 0.008715292493560588), (1954, 0.008706146993634534), (2323, 0.008699554597550311), (2822, 0.008681891372059459), (733, 0.008674510296320452), (3254, 0.00867135841624166), (1492, 0.008664722333004094), (277, 0.008650603205915533), (712, 0.008636779166263335), (1090, 0.00863446426442389), (2541, 0.008619532346830624), (2047, 0.008601694924239003), (4114, 0.008591034930028819), (2331, 0.008587355717886354), (1309, 0.00857568168115143), (58, 0.00856450045841661), (1365, 0.008555675585781854), (2842, 0.008552950816683478), (2603, 0.008528261521284913), (1639, 0.008526496735166223), (76, 0.008518416414502848), (314, 0.008508692434415314), (1042, 0.008507926215931872), (2114, 0.008491690125394233), (2025, 0.008458970758687352), (3658, 0.008455069302541357), (2132, 0.00844075143888279), (1523, 0.008422946086147647), (3855, 0.008419240447743885), (288, 0.00841239634450174), (2326, 0.008404986235853925), (1963, 0.008392264506717114), (1317, 0.008389815082093834), (2985, 0.008376906145524114), (645, 0.008370464145716225), (25, 0.008367005273192599), (1845, 0.008342828993836525), (1950, 0.008338100018530923), (719, 0.008315654936695801), (1296, 0.008307143275330059), (394, 0.008298728278069234), (469, 0.008251936791359158), (786, 0.008251527896496955), (366, 0.008222867575249633), (4598, 0.008209616362125265), (433, 0.008131568411079954), (506, 0.008131023214438999), (309, 0.008109205922908164), (1677, 0.008085654493724411), (1137, 0.008081338625755018), (609, 0.008060711077397725), (2078, 0.008051241506999214), (2734, 0.00802897538904598), (2013, 0.00797384877699649), (510, 0.007942923232851427), (3199, 0.007910231329153998), (294, 0.007885550936442911), (926, 0.007879022643818137), (106, 0.007866403928708477), (3144, 0.007836623810975085), (3983, 0.007696165696548924), (929, 0.007661140563224191), (3667, 0.007646444761984346), (2671, 0.007641821583710554), (561, 0.00747340462228347), (3750, 0.0073297130214812975), (1351, 0.007300950896614687), (542, 0.007276913692075331), (3421, 0.007200467731084137), (4171, 0.0071341252191680585), (4752, 0.007123178585588764), (243, 0.007089065757519387), (824, 0.007016058539031395), (330, 0.006983342828867065), (1919, 0.006900664685433673), (740, 0.006881229607271096), (1506, 0.006822351441711041), (2118, 0.006327907547827867), (787, 0.00626104383209182), (0, 0.0), (1, 0.0), (3, 0.0), (4, 0.0), (6, 0.0), (7, 0.0), (8, 0.0), (10, 0.0), (12, 0.0), (13, 0.0), (15, 0.0), (16, 0.0), (17, 0.0), (20, 0.0), (21, 0.0), (22, 0.0), (23, 0.0), (24, 0.0), (26, 0.0), (27, 0.0), (28, 0.0), (29, 0.0), (31, 0.0), (32, 0.0), (33, 0.0), (35, 0.0), (36, 0.0), (37, 0.0), (38, 0.0), (39, 0.0), (40, 0.0), (41, 0.0), (43, 0.0), (44, 0.0), (46, 0.0), (47, 0.0), (48, 0.0), (50, 0.0), (51, 0.0), (53, 0.0), (55, 0.0), (56, 0.0), (57, 0.0), (59, 0.0), (60, 0.0), (61, 0.0), (62, 0.0), (63, 0.0), (68, 0.0), (70, 0.0), (71, 0.0), (72, 0.0), (73, 0.0), (74, 0.0), (77, 0.0), (79, 0.0), (81, 0.0), (83, 0.0), (84, 0.0), (85, 0.0), (86, 0.0), (87, 0.0), (88, 0.0), (89, 0.0), (91, 0.0), (92, 0.0), (96, 0.0), (97, 0.0), (98, 0.0), (99, 0.0), (100, 0.0), (101, 0.0), (102, 0.0), (103, 0.0), (104, 0.0), (107, 0.0), (109, 0.0), (110, 0.0), (112, 0.0), (114, 0.0), (117, 0.0), (118, 0.0), (119, 0.0), (120, 0.0), (121, 0.0), (122, 0.0), (123, 0.0), (124, 0.0), (125, 0.0), (126, 0.0), (127, 0.0), (128, 0.0), (129, 0.0), (130, 0.0), (132, 0.0), (133, 0.0), (134, 0.0), (135, 0.0), (136, 0.0), (138, 0.0), (139, 0.0), (140, 0.0), (141, 0.0), (142, 0.0), (143, 0.0), (144, 0.0), (145, 0.0), (146, 0.0), (147, 0.0), (148, 0.0), (149, 0.0), (150, 0.0), (151, 0.0), (153, 0.0), (157, 0.0), (158, 0.0), (159, 0.0), (160, 0.0), (162, 0.0), (163, 0.0), (164, 0.0), (165, 0.0), (166, 0.0), (167, 0.0), (168, 0.0), (169, 0.0), (170, 0.0), (171, 0.0), (172, 0.0), (174, 0.0), (175, 0.0), (176, 0.0), (177, 0.0), (180, 0.0), (181, 0.0), (182, 0.0), (183, 0.0), (184, 0.0), (185, 0.0), (186, 0.0), (187, 0.0), (188, 0.0), (189, 0.0), (190, 0.0), (194, 0.0), (197, 0.0), (199, 0.0), (200, 0.0), (201, 0.0), (203, 0.0), (206, 0.0), (207, 0.0), (208, 0.0), (209, 0.0), (210, 0.0), (211, 0.0), (212, 0.0), (214, 0.0), (216, 0.0), (218, 0.0), (219, 0.0), (220, 0.0), (221, 0.0), (222, 0.0), (223, 0.0), (224, 0.0), (225, 0.0), (226, 0.0), (228, 0.0), (229, 0.0), (230, 0.0), (231, 0.0), (232, 0.0), (233, 0.0), (234, 0.0), (235, 0.0), (238, 0.0), (239, 0.0), (241, 0.0), (244, 0.0), (245, 0.0), (247, 0.0), (248, 0.0), (250, 0.0), (251, 0.0), (252, 0.0), (253, 0.0), (254, 0.0), (255, 0.0), (256, 0.0), (257, 0.0), (258, 0.0), (260, 0.0), (261, 0.0), (262, 0.0), (263, 0.0), (264, 0.0), (265, 0.0), (267, 0.0), (268, 0.0), (271, 0.0), (272, 0.0), (273, 0.0), (274, 0.0), (275, 0.0), (276, 0.0), (278, 0.0), (279, 0.0), (280, 0.0), (281, 0.0), (282, 0.0), (283, 0.0), (284, 0.0), (285, 0.0), (286, 0.0), (287, 0.0), (289, 0.0), (290, 0.0), (291, 0.0), (292, 0.0), (293, 0.0), (295, 0.0), (296, 0.0), (303, 0.0), (307, 0.0), (308, 0.0), (310, 0.0), (311, 0.0), (312, 0.0), (313, 0.0), (316, 0.0), (318, 0.0), (319, 0.0), (320, 0.0), (323, 0.0), (326, 0.0), (327, 0.0), (328, 0.0), (329, 0.0), (331, 0.0), (332, 0.0), (335, 0.0), (336, 0.0), (337, 0.0), (339, 0.0), (340, 0.0), (341, 0.0), (342, 0.0), (343, 0.0), (346, 0.0), (347, 0.0), (348, 0.0), (349, 0.0), (350, 0.0), (351, 0.0), (352, 0.0), (353, 0.0), (354, 0.0), (355, 0.0), (356, 0.0), (358, 0.0), (359, 0.0), (361, 0.0), (362, 0.0), (363, 0.0), (364, 0.0), (365, 0.0), (367, 0.0), (368, 0.0), (369, 0.0), (370, 0.0), (371, 0.0), (372, 0.0), (373, 0.0), (375, 0.0), (376, 0.0), (377, 0.0), (379, 0.0), (381, 0.0), (382, 0.0), (383, 0.0), (387, 0.0), (388, 0.0), (389, 0.0), (390, 0.0), (391, 0.0), (393, 0.0), (395, 0.0), (396, 0.0), (397, 0.0), (398, 0.0), (400, 0.0), (401, 0.0), (402, 0.0), (403, 0.0), (404, 0.0), (406, 0.0), (407, 0.0), (409, 0.0), (411, 0.0), (412, 0.0), (413, 0.0), (415, 0.0), (416, 0.0), (417, 0.0), (418, 0.0), (419, 0.0), (420, 0.0), (422, 0.0), (423, 0.0), (425, 0.0), (426, 0.0), (427, 0.0), (428, 0.0), (429, 0.0), (431, 0.0), (432, 0.0), (434, 0.0), (436, 0.0), (437, 0.0), (438, 0.0), (440, 0.0), (441, 0.0), (442, 0.0), (443, 0.0), (444, 0.0), (446, 0.0), (448, 0.0), (449, 0.0), (450, 0.0), (452, 0.0), (454, 0.0), (455, 0.0), (457, 0.0), (458, 0.0), (459, 0.0), (460, 0.0), (461, 0.0), (462, 0.0), (465, 0.0), (467, 0.0), (468, 0.0), (470, 0.0), (471, 0.0), (473, 0.0), (474, 0.0), (476, 0.0), (477, 0.0), (478, 0.0), (479, 0.0), (480, 0.0), (481, 0.0), (482, 0.0), (483, 0.0), (484, 0.0), (487, 0.0), (488, 0.0), (489, 0.0), (490, 0.0), (491, 0.0), (493, 0.0), (496, 0.0), (497, 0.0), (499, 0.0), (500, 0.0), (502, 0.0), (503, 0.0), (504, 0.0), (505, 0.0), (507, 0.0), (508, 0.0), (512, 0.0), (513, 0.0), (515, 0.0), (516, 0.0), (518, 0.0), (519, 0.0), (521, 0.0), (523, 0.0), (525, 0.0), (526, 0.0), (527, 0.0), (529, 0.0), (530, 0.0), (531, 0.0), (532, 0.0), (533, 0.0), (534, 0.0), (536, 0.0), (537, 0.0), (538, 0.0), (539, 0.0), (543, 0.0), (544, 0.0), (547, 0.0), (548, 0.0), (549, 0.0), (550, 0.0), (551, 0.0), (552, 0.0), (554, 0.0), (555, 0.0), (557, 0.0), (560, 0.0), (564, 0.0), (566, 0.0), (567, 0.0), (568, 0.0), (570, 0.0), (571, 0.0), (572, 0.0), (573, 0.0), (574, 0.0), (575, 0.0), (576, 0.0), (579, 0.0), (580, 0.0), (581, 0.0), (582, 0.0), (584, 0.0), (585, 0.0), (586, 0.0), (587, 0.0), (588, 0.0), (589, 0.0), (590, 0.0), (591, 0.0), (592, 0.0), (593, 0.0), (594, 0.0), (595, 0.0), (596, 0.0), (598, 0.0), (599, 0.0), (600, 0.0), (601, 0.0), (602, 0.0), (603, 0.0), (604, 0.0), (605, 0.0), (606, 0.0), (607, 0.0), (608, 0.0), (613, 0.0), (614, 0.0), (615, 0.0), (616, 0.0), (617, 0.0), (618, 0.0), (619, 0.0), (620, 0.0), (623, 0.0), (624, 0.0), (626, 0.0), (627, 0.0), (628, 0.0), (629, 0.0), (630, 0.0), (631, 0.0), (632, 0.0), (634, 0.0), (635, 0.0), (636, 0.0), (641, 0.0), (643, 0.0), (644, 0.0), (646, 0.0), (647, 0.0), (648, 0.0), (649, 0.0), (650, 0.0), (653, 0.0), (654, 0.0), (663, 0.0), (664, 0.0), (666, 0.0), (667, 0.0), (668, 0.0), (669, 0.0), (670, 0.0), (671, 0.0), (672, 0.0), (673, 0.0), (674, 0.0), (675, 0.0), (676, 0.0), (677, 0.0), (678, 0.0), (681, 0.0), (682, 0.0), (683, 0.0), (684, 0.0), (685, 0.0), (691, 0.0), (692, 0.0), (693, 0.0), (694, 0.0), (695, 0.0), (697, 0.0), (698, 0.0), (700, 0.0), (701, 0.0), (703, 0.0), (704, 0.0), (705, 0.0), (706, 0.0), (707, 0.0), (708, 0.0), (711, 0.0), (714, 0.0), (715, 0.0), (716, 0.0), (717, 0.0), (718, 0.0), (720, 0.0), (721, 0.0), (722, 0.0), (725, 0.0), (727, 0.0), (728, 0.0), (729, 0.0), (730, 0.0), (731, 0.0), (732, 0.0), (734, 0.0), (735, 0.0), (736, 0.0), (737, 0.0), (739, 0.0), (744, 0.0), (745, 0.0), (748, 0.0), (750, 0.0), (751, 0.0), (754, 0.0), (755, 0.0), (759, 0.0), (760, 0.0), (762, 0.0), (763, 0.0), (764, 0.0), (765, 0.0), (766, 0.0), (768, 0.0), (769, 0.0), (770, 0.0), (772, 0.0), (773, 0.0), (774, 0.0), (775, 0.0), (776, 0.0), (777, 0.0), (778, 0.0), (779, 0.0), (780, 0.0), (782, 0.0), (783, 0.0), (784, 0.0), (789, 0.0), (790, 0.0), (793, 0.0), (794, 0.0), (796, 0.0), (798, 0.0), (799, 0.0), (800, 0.0), (803, 0.0), (805, 0.0), (806, 0.0), (808, 0.0), (811, 0.0), (812, 0.0), (813, 0.0), (815, 0.0), (817, 0.0), (818, 0.0), (819, 0.0), (821, 0.0), (823, 0.0), (825, 0.0), (826, 0.0), (828, 0.0), (830, 0.0), (832, 0.0), (833, 0.0), (834, 0.0), (835, 0.0), (836, 0.0), (837, 0.0), (838, 0.0), (839, 0.0), (840, 0.0), (841, 0.0), (842, 0.0), (843, 0.0), (844, 0.0), (847, 0.0), (849, 0.0), (850, 0.0), (851, 0.0), (852, 0.0), (855, 0.0), (856, 0.0), (857, 0.0), (858, 0.0), (861, 0.0), (862, 0.0), (863, 0.0), (864, 0.0), (866, 0.0), (867, 0.0), (868, 0.0), (869, 0.0), (870, 0.0), (871, 0.0), (873, 0.0), (874, 0.0), (875, 0.0), (876, 0.0), (878, 0.0), (880, 0.0), (881, 0.0), (882, 0.0), (883, 0.0), (884, 0.0), (885, 0.0), (886, 0.0), (887, 0.0), (888, 0.0), (889, 0.0), (890, 0.0), (893, 0.0), (897, 0.0), (899, 0.0), (900, 0.0), (901, 0.0), (902, 0.0), (903, 0.0), (904, 0.0), (905, 0.0), (906, 0.0), (907, 0.0), (909, 0.0), (910, 0.0), (911, 0.0), (913, 0.0), (914, 0.0), (915, 0.0), (916, 0.0), (917, 0.0), (919, 0.0), (922, 0.0), (923, 0.0), (924, 0.0), (925, 0.0), (927, 0.0), (928, 0.0), (930, 0.0), (932, 0.0), (933, 0.0), (934, 0.0), (936, 0.0), (937, 0.0), (940, 0.0), (941, 0.0), (942, 0.0), (943, 0.0), (944, 0.0), (945, 0.0), (947, 0.0), (948, 0.0), (949, 0.0), (950, 0.0), (951, 0.0), (952, 0.0), (954, 0.0), (955, 0.0), (957, 0.0), (958, 0.0), (959, 0.0), (960, 0.0), (961, 0.0), (962, 0.0), (963, 0.0), (964, 0.0), (966, 0.0), (967, 0.0), (968, 0.0), (969, 0.0), (970, 0.0), (972, 0.0), (973, 0.0), (975, 0.0), (976, 0.0), (978, 0.0), (979, 0.0), (982, 0.0), (983, 0.0), (986, 0.0), (988, 0.0), (990, 0.0), (991, 0.0), (992, 0.0), (993, 0.0), (994, 0.0), (995, 0.0), (996, 0.0), (997, 0.0), (998, 0.0), (999, 0.0), (1000, 0.0), (1001, 0.0), (1003, 0.0), (1005, 0.0), (1006, 0.0), (1008, 0.0), (1010, 0.0), (1011, 0.0), (1012, 0.0), (1013, 0.0), (1014, 0.0), (1016, 0.0), (1018, 0.0), (1019, 0.0), (1020, 0.0), (1021, 0.0), (1022, 0.0), (1023, 0.0), (1024, 0.0), (1027, 0.0), (1028, 0.0), (1029, 0.0), (1030, 0.0), (1031, 0.0), (1032, 0.0), (1033, 0.0), (1036, 0.0), (1037, 0.0), (1038, 0.0), (1039, 0.0), (1040, 0.0), (1043, 0.0), (1045, 0.0), (1046, 0.0), (1047, 0.0), (1048, 0.0), (1049, 0.0), (1050, 0.0), (1051, 0.0), (1052, 0.0), (1053, 0.0), (1054, 0.0), (1055, 0.0), (1056, 0.0), (1057, 0.0), (1058, 0.0), (1059, 0.0), (1060, 0.0), (1063, 0.0), (1064, 0.0), (1065, 0.0), (1066, 0.0), (1067, 0.0), (1068, 0.0), (1069, 0.0), (1070, 0.0), (1071, 0.0), (1072, 0.0), (1074, 0.0), (1075, 0.0), (1077, 0.0), (1078, 0.0), (1080, 0.0), (1081, 0.0), (1083, 0.0), (1085, 0.0), (1087, 0.0), (1088, 0.0), (1091, 0.0), (1092, 0.0), (1093, 0.0), (1094, 0.0), (1095, 0.0), (1096, 0.0), (1097, 0.0), (1099, 0.0), (1100, 0.0), (1101, 0.0), (1102, 0.0), (1104, 0.0), (1105, 0.0), (1106, 0.0), (1108, 0.0), (1109, 0.0), (1111, 0.0), (1112, 0.0), (1113, 0.0), (1114, 0.0), (1115, 0.0), (1117, 0.0), (1120, 0.0), (1121, 0.0), (1123, 0.0), (1124, 0.0), (1125, 0.0), (1126, 0.0), (1127, 0.0), (1128, 0.0), (1129, 0.0), (1131, 0.0), (1133, 0.0), (1134, 0.0), (1135, 0.0), (1139, 0.0), (1140, 0.0), (1141, 0.0), (1142, 0.0), (1143, 0.0), (1144, 0.0), (1145, 0.0), (1146, 0.0), (1147, 0.0), (1149, 0.0), (1150, 0.0), (1151, 0.0), (1153, 0.0), (1154, 0.0), (1155, 0.0), (1156, 0.0), (1158, 0.0), (1159, 0.0), (1160, 0.0), (1161, 0.0), (1162, 0.0), (1163, 0.0), (1164, 0.0), (1165, 0.0), (1166, 0.0), (1167, 0.0), (1168, 0.0), (1169, 0.0), (1170, 0.0), (1171, 0.0), (1172, 0.0), (1174, 0.0), (1176, 0.0), (1177, 0.0), (1178, 0.0), (1179, 0.0), (1181, 0.0), (1182, 0.0), (1183, 0.0), (1184, 0.0), (1185, 0.0), (1187, 0.0), (1188, 0.0), (1189, 0.0), (1190, 0.0), (1192, 0.0), (1193, 0.0), (1194, 0.0), (1195, 0.0), (1196, 0.0), (1199, 0.0), (1200, 0.0), (1201, 0.0), (1202, 0.0), (1204, 0.0), (1205, 0.0), (1206, 0.0), (1208, 0.0), (1209, 0.0), (1210, 0.0), (1212, 0.0), (1213, 0.0), (1214, 0.0), (1215, 0.0), (1216, 0.0), (1218, 0.0), (1220, 0.0), (1222, 0.0), (1224, 0.0), (1226, 0.0), (1228, 0.0), (1231, 0.0), (1234, 0.0), (1235, 0.0), (1236, 0.0), (1237, 0.0), (1239, 0.0), (1240, 0.0), (1241, 0.0), (1242, 0.0), (1244, 0.0), (1245, 0.0), (1246, 0.0), (1247, 0.0), (1248, 0.0), (1251, 0.0), (1252, 0.0), (1253, 0.0), (1254, 0.0), (1258, 0.0), (1259, 0.0), (1260, 0.0), (1261, 0.0), (1262, 0.0), (1263, 0.0), (1264, 0.0), (1265, 0.0), (1266, 0.0), (1267, 0.0), (1268, 0.0), (1269, 0.0), (1271, 0.0), (1274, 0.0), (1275, 0.0), (1276, 0.0), (1277, 0.0), (1278, 0.0), (1280, 0.0), (1281, 0.0), (1282, 0.0), (1283, 0.0), (1285, 0.0), (1286, 0.0), (1287, 0.0), (1288, 0.0), (1289, 0.0), (1293, 0.0), (1295, 0.0), (1298, 0.0), (1299, 0.0), (1301, 0.0), (1302, 0.0), (1303, 0.0), (1305, 0.0), (1307, 0.0), (1310, 0.0), (1311, 0.0), (1313, 0.0), (1314, 0.0), (1315, 0.0), (1316, 0.0), (1319, 0.0), (1320, 0.0), (1322, 0.0), (1323, 0.0), (1324, 0.0), (1325, 0.0), (1326, 0.0), (1327, 0.0), (1328, 0.0), (1329, 0.0), (1331, 0.0), (1332, 0.0), (1333, 0.0), (1334, 0.0), (1336, 0.0), (1337, 0.0), (1338, 0.0), (1340, 0.0), (1341, 0.0), (1343, 0.0), (1345, 0.0), (1346, 0.0), (1347, 0.0), (1348, 0.0), (1349, 0.0), (1350, 0.0), (1352, 0.0), (1355, 0.0), (1356, 0.0), (1358, 0.0), (1359, 0.0), (1360, 0.0), (1361, 0.0), (1363, 0.0), (1364, 0.0), (1366, 0.0), (1367, 0.0), (1368, 0.0), (1369, 0.0), (1370, 0.0), (1371, 0.0), (1372, 0.0), (1373, 0.0), (1374, 0.0), (1375, 0.0), (1376, 0.0), (1377, 0.0), (1378, 0.0), (1380, 0.0), (1381, 0.0), (1383, 0.0), (1385, 0.0), (1386, 0.0), (1388, 0.0), (1389, 0.0), (1391, 0.0), (1392, 0.0), (1394, 0.0), (1395, 0.0), (1396, 0.0), (1397, 0.0), (1398, 0.0), (1399, 0.0), (1400, 0.0), (1401, 0.0), (1403, 0.0), (1404, 0.0), (1406, 0.0), (1408, 0.0), (1409, 0.0), (1410, 0.0), (1413, 0.0), (1414, 0.0), (1415, 0.0), (1417, 0.0), (1418, 0.0), (1420, 0.0), (1423, 0.0), (1424, 0.0), (1426, 0.0), (1427, 0.0), (1429, 0.0), (1430, 0.0), (1432, 0.0), (1434, 0.0), (1437, 0.0), (1438, 0.0), (1439, 0.0), (1440, 0.0), (1442, 0.0), (1444, 0.0), (1445, 0.0), (1446, 0.0), (1447, 0.0), (1448, 0.0), (1449, 0.0), (1450, 0.0), (1451, 0.0), (1452, 0.0), (1453, 0.0), (1455, 0.0), (1458, 0.0), (1460, 0.0), (1462, 0.0), (1465, 0.0), (1466, 0.0), (1467, 0.0), (1469, 0.0), (1470, 0.0), (1471, 0.0), (1473, 0.0), (1475, 0.0), (1477, 0.0), (1478, 0.0), (1483, 0.0), (1484, 0.0), (1485, 0.0), (1486, 0.0), (1488, 0.0), (1491, 0.0), (1493, 0.0), (1495, 0.0), (1496, 0.0), (1497, 0.0), (1498, 0.0), (1501, 0.0), (1502, 0.0), (1503, 0.0), (1504, 0.0), (1505, 0.0), (1507, 0.0), (1508, 0.0), (1511, 0.0), (1512, 0.0), (1513, 0.0), (1514, 0.0), (1515, 0.0), (1519, 0.0), (1520, 0.0), (1521, 0.0), (1522, 0.0), (1525, 0.0), (1526, 0.0), (1527, 0.0), (1529, 0.0), (1530, 0.0), (1531, 0.0), (1532, 0.0), (1533, 0.0), (1535, 0.0), (1536, 0.0), (1538, 0.0), (1539, 0.0), (1540, 0.0), (1541, 0.0), (1544, 0.0), (1547, 0.0), (1548, 0.0), (1549, 0.0), (1551, 0.0), (1552, 0.0), (1553, 0.0), (1556, 0.0), (1558, 0.0), (1560, 0.0), (1562, 0.0), (1563, 0.0), (1564, 0.0), (1565, 0.0), (1566, 0.0), (1567, 0.0), (1569, 0.0), (1570, 0.0), (1572, 0.0), (1573, 0.0), (1574, 0.0), (1575, 0.0), (1576, 0.0), (1577, 0.0), (1578, 0.0), (1579, 0.0), (1580, 0.0), (1582, 0.0), (1583, 0.0), (1585, 0.0), (1586, 0.0), (1588, 0.0), (1590, 0.0), (1591, 0.0), (1593, 0.0), (1594, 0.0), (1595, 0.0), (1596, 0.0), (1598, 0.0), (1599, 0.0), (1600, 0.0), (1601, 0.0), (1602, 0.0), (1603, 0.0), (1604, 0.0), (1606, 0.0), (1607, 0.0), (1608, 0.0), (1609, 0.0), (1611, 0.0), (1612, 0.0), (1613, 0.0), (1615, 0.0), (1616, 0.0), (1617, 0.0), (1619, 0.0), (1620, 0.0), (1621, 0.0), (1622, 0.0), (1623, 0.0), (1624, 0.0), (1625, 0.0), (1627, 0.0), (1628, 0.0), (1629, 0.0), (1630, 0.0), (1631, 0.0), (1632, 0.0), (1633, 0.0), (1635, 0.0), (1636, 0.0), (1637, 0.0), (1638, 0.0), (1640, 0.0), (1641, 0.0), (1642, 0.0), (1643, 0.0), (1644, 0.0), (1647, 0.0), (1650, 0.0), (1651, 0.0), (1652, 0.0), (1653, 0.0), (1655, 0.0), (1656, 0.0), (1658, 0.0), (1659, 0.0), (1660, 0.0), (1661, 0.0), (1662, 0.0), (1663, 0.0), (1664, 0.0), (1665, 0.0), (1666, 0.0), (1667, 0.0), (1668, 0.0), (1669, 0.0), (1670, 0.0), (1671, 0.0), (1672, 0.0), (1674, 0.0), (1675, 0.0), (1676, 0.0), (1679, 0.0), (1680, 0.0), (1681, 0.0), (1683, 0.0), (1684, 0.0), (1685, 0.0), (1686, 0.0), (1687, 0.0), (1688, 0.0), (1689, 0.0), (1692, 0.0), (1693, 0.0), (1694, 0.0), (1696, 0.0), (1697, 0.0), (1699, 0.0), (1700, 0.0), (1701, 0.0), (1702, 0.0), (1703, 0.0), (1704, 0.0), (1705, 0.0), (1707, 0.0), (1708, 0.0), (1709, 0.0), (1710, 0.0), (1711, 0.0), (1712, 0.0), (1713, 0.0), (1715, 0.0), (1716, 0.0), (1717, 0.0), (1718, 0.0), (1719, 0.0), (1720, 0.0), (1721, 0.0), (1722, 0.0), (1723, 0.0), (1724, 0.0), (1725, 0.0), (1726, 0.0), (1727, 0.0), (1728, 0.0), (1729, 0.0), (1730, 0.0), (1731, 0.0), (1732, 0.0), (1733, 0.0), (1734, 0.0), (1735, 0.0), (1736, 0.0), (1738, 0.0), (1740, 0.0), (1741, 0.0), (1742, 0.0), (1743, 0.0), (1746, 0.0), (1747, 0.0), (1748, 0.0), (1749, 0.0), (1750, 0.0), (1751, 0.0), (1752, 0.0), (1753, 0.0), (1754, 0.0), (1755, 0.0), (1756, 0.0), (1758, 0.0), (1760, 0.0), (1761, 0.0), (1762, 0.0), (1763, 0.0), (1766, 0.0), (1769, 0.0), (1770, 0.0), (1772, 0.0), (1773, 0.0), (1774, 0.0), (1775, 0.0), (1776, 0.0), (1778, 0.0), (1779, 0.0), (1784, 0.0), (1785, 0.0), (1786, 0.0), (1788, 0.0), (1790, 0.0), (1791, 0.0), (1792, 0.0), (1794, 0.0), (1796, 0.0), (1797, 0.0), (1798, 0.0), (1799, 0.0), (1800, 0.0), (1801, 0.0), (1802, 0.0), (1803, 0.0), (1804, 0.0), (1805, 0.0), (1806, 0.0), (1807, 0.0), (1808, 0.0), (1809, 0.0), (1810, 0.0), (1811, 0.0), (1812, 0.0), (1813, 0.0), (1815, 0.0), (1816, 0.0), (1819, 0.0), (1820, 0.0), (1821, 0.0), (1822, 0.0), (1825, 0.0), (1826, 0.0), (1828, 0.0), (1830, 0.0), (1831, 0.0), (1832, 0.0), (1834, 0.0), (1835, 0.0), (1836, 0.0), (1837, 0.0), (1838, 0.0), (1839, 0.0), (1841, 0.0), (1843, 0.0), (1844, 0.0), (1847, 0.0), (1848, 0.0), (1849, 0.0), (1851, 0.0), (1852, 0.0), (1853, 0.0), (1854, 0.0), (1855, 0.0), (1856, 0.0), (1858, 0.0), (1859, 0.0), (1860, 0.0), (1862, 0.0), (1863, 0.0), (1864, 0.0), (1865, 0.0), (1866, 0.0), (1868, 0.0), (1869, 0.0), (1870, 0.0), (1871, 0.0), (1872, 0.0), (1874, 0.0), (1875, 0.0), (1876, 0.0), (1877, 0.0), (1879, 0.0), (1880, 0.0), (1881, 0.0), (1882, 0.0), (1883, 0.0), (1884, 0.0), (1885, 0.0), (1886, 0.0), (1887, 0.0), (1888, 0.0), (1889, 0.0), (1892, 0.0), (1894, 0.0), (1896, 0.0), (1897, 0.0), (1898, 0.0), (1900, 0.0), (1901, 0.0), (1903, 0.0), (1904, 0.0), (1906, 0.0), (1907, 0.0), (1908, 0.0), (1909, 0.0), (1910, 0.0), (1911, 0.0), (1912, 0.0), (1914, 0.0), (1916, 0.0), (1917, 0.0), (1920, 0.0), (1921, 0.0), (1922, 0.0), (1924, 0.0), (1926, 0.0), (1927, 0.0), (1928, 0.0), (1929, 0.0), (1931, 0.0), (1933, 0.0), (1934, 0.0), (1936, 0.0), (1938, 0.0), (1939, 0.0), (1941, 0.0), (1942, 0.0), (1943, 0.0), (1944, 0.0), (1945, 0.0), (1946, 0.0), (1947, 0.0), (1948, 0.0), (1949, 0.0), (1953, 0.0), (1955, 0.0), (1956, 0.0), (1957, 0.0), (1959, 0.0), (1960, 0.0), (1961, 0.0), (1962, 0.0), (1965, 0.0), (1966, 0.0), (1967, 0.0), (1969, 0.0), (1970, 0.0), (1972, 0.0), (1974, 0.0), (1975, 0.0), (1976, 0.0), (1977, 0.0), (1980, 0.0), (1982, 0.0), (1983, 0.0), (1984, 0.0), (1985, 0.0), (1986, 0.0), (1988, 0.0), (1989, 0.0), (1990, 0.0), (1991, 0.0), (1993, 0.0), (1994, 0.0), (1995, 0.0), (1996, 0.0), (1997, 0.0), (1999, 0.0), (2000, 0.0), (2001, 0.0), (2002, 0.0), (2003, 0.0), (2004, 0.0), (2006, 0.0), (2008, 0.0), (2010, 0.0), (2011, 0.0), (2012, 0.0), (2015, 0.0), (2016, 0.0), (2017, 0.0), (2018, 0.0), (2020, 0.0), (2021, 0.0), (2023, 0.0), (2024, 0.0), (2026, 0.0), (2027, 0.0), (2028, 0.0), (2029, 0.0), (2030, 0.0), (2031, 0.0), (2032, 0.0), (2036, 0.0), (2037, 0.0), (2038, 0.0), (2040, 0.0), (2041, 0.0), (2042, 0.0), (2044, 0.0), (2045, 0.0), (2046, 0.0), (2048, 0.0), (2049, 0.0), (2050, 0.0), (2051, 0.0), (2052, 0.0), (2053, 0.0), (2055, 0.0), (2056, 0.0), (2057, 0.0), (2058, 0.0), (2059, 0.0), (2060, 0.0), (2061, 0.0), (2062, 0.0), (2063, 0.0), (2064, 0.0), (2065, 0.0), (2066, 0.0), (2067, 0.0), (2068, 0.0), (2069, 0.0), (2071, 0.0), (2072, 0.0), (2075, 0.0), (2076, 0.0), (2077, 0.0), (2080, 0.0), (2081, 0.0), (2082, 0.0), (2083, 0.0), (2084, 0.0), (2087, 0.0), (2088, 0.0), (2089, 0.0), (2091, 0.0), (2092, 0.0), (2094, 0.0), (2095, 0.0), (2096, 0.0), (2098, 0.0), (2099, 0.0), (2101, 0.0), (2102, 0.0), (2103, 0.0), (2104, 0.0), (2105, 0.0), (2106, 0.0), (2107, 0.0), (2108, 0.0), (2109, 0.0), (2110, 0.0), (2113, 0.0), (2115, 0.0), (2116, 0.0), (2117, 0.0), (2119, 0.0), (2121, 0.0), (2122, 0.0), (2124, 0.0), (2125, 0.0), (2126, 0.0), (2127, 0.0), (2128, 0.0), (2133, 0.0), (2134, 0.0), (2136, 0.0), (2137, 0.0), (2138, 0.0), (2139, 0.0), (2141, 0.0), (2142, 0.0), (2144, 0.0), (2145, 0.0), (2146, 0.0), (2148, 0.0), (2149, 0.0), (2150, 0.0), (2152, 0.0), (2153, 0.0), (2154, 0.0), (2155, 0.0), (2156, 0.0), (2158, 0.0), (2159, 0.0), (2160, 0.0), (2164, 0.0), (2165, 0.0), (2166, 0.0), (2167, 0.0), (2168, 0.0), (2169, 0.0), (2170, 0.0), (2171, 0.0), (2172, 0.0), (2173, 0.0), (2174, 0.0), (2175, 0.0), (2176, 0.0), (2177, 0.0), (2179, 0.0), (2180, 0.0), (2181, 0.0), (2182, 0.0), (2183, 0.0), (2184, 0.0), (2186, 0.0), (2189, 0.0), (2191, 0.0), (2192, 0.0), (2193, 0.0), (2194, 0.0), (2197, 0.0), (2198, 0.0), (2199, 0.0), (2200, 0.0), (2201, 0.0), (2202, 0.0), (2206, 0.0), (2209, 0.0), (2210, 0.0), (2211, 0.0), (2212, 0.0), (2213, 0.0), (2214, 0.0), (2215, 0.0), (2217, 0.0), (2218, 0.0), (2219, 0.0), (2220, 0.0), (2221, 0.0), (2222, 0.0), (2224, 0.0), (2225, 0.0), (2226, 0.0), (2227, 0.0), (2228, 0.0), (2229, 0.0), (2230, 0.0), (2231, 0.0), (2232, 0.0), (2233, 0.0), (2234, 0.0), (2235, 0.0), (2236, 0.0), (2237, 0.0), (2238, 0.0), (2241, 0.0), (2242, 0.0), (2243, 0.0), (2244, 0.0), (2246, 0.0), (2247, 0.0), (2248, 0.0), (2249, 0.0), (2251, 0.0), (2252, 0.0), (2253, 0.0), (2254, 0.0), (2255, 0.0), (2256, 0.0), (2257, 0.0), (2258, 0.0), (2259, 0.0), (2260, 0.0), (2261, 0.0), (2262, 0.0), (2263, 0.0), (2265, 0.0), (2267, 0.0), (2268, 0.0), (2272, 0.0), (2276, 0.0), (2277, 0.0), (2278, 0.0), (2280, 0.0), (2282, 0.0), (2283, 0.0), (2284, 0.0), (2285, 0.0), (2286, 0.0), (2288, 0.0), (2289, 0.0), (2291, 0.0), (2292, 0.0), (2293, 0.0), (2294, 0.0), (2295, 0.0), (2296, 0.0), (2297, 0.0), (2298, 0.0), (2299, 0.0), (2300, 0.0), (2301, 0.0), (2302, 0.0), (2304, 0.0), (2305, 0.0), (2306, 0.0), (2307, 0.0), (2308, 0.0), (2309, 0.0), (2310, 0.0), (2311, 0.0), (2312, 0.0), (2313, 0.0), (2314, 0.0), (2316, 0.0), (2318, 0.0), (2319, 0.0), (2320, 0.0), (2321, 0.0), (2324, 0.0), (2328, 0.0), (2329, 0.0), (2332, 0.0), (2333, 0.0), (2335, 0.0), (2336, 0.0), (2337, 0.0), (2338, 0.0), (2339, 0.0), (2340, 0.0), (2341, 0.0), (2343, 0.0), (2344, 0.0), (2345, 0.0), (2346, 0.0), (2347, 0.0), (2348, 0.0), (2350, 0.0), (2351, 0.0), (2353, 0.0), (2354, 0.0), (2355, 0.0), (2356, 0.0), (2358, 0.0), (2360, 0.0), (2361, 0.0), (2362, 0.0), (2363, 0.0), (2364, 0.0), (2365, 0.0), (2366, 0.0), (2367, 0.0), (2368, 0.0), (2369, 0.0), (2370, 0.0), (2371, 0.0), (2373, 0.0), (2376, 0.0), (2378, 0.0), (2379, 0.0), (2380, 0.0), (2381, 0.0), (2382, 0.0), (2383, 0.0), (2384, 0.0), (2386, 0.0), (2387, 0.0), (2388, 0.0), (2389, 0.0), (2390, 0.0), (2392, 0.0), (2394, 0.0), (2395, 0.0), (2398, 0.0), (2399, 0.0), (2401, 0.0), (2403, 0.0), (2404, 0.0), (2405, 0.0), (2407, 0.0), (2408, 0.0), (2409, 0.0), (2411, 0.0), (2412, 0.0), (2413, 0.0), (2414, 0.0), (2415, 0.0), (2416, 0.0), (2417, 0.0), (2418, 0.0), (2419, 0.0), (2420, 0.0), (2422, 0.0), (2423, 0.0), (2424, 0.0), (2425, 0.0), (2426, 0.0), (2428, 0.0), (2429, 0.0), (2430, 0.0), (2432, 0.0), (2434, 0.0), (2435, 0.0), (2436, 0.0), (2437, 0.0), (2438, 0.0), (2439, 0.0), (2440, 0.0), (2441, 0.0), (2442, 0.0), (2444, 0.0), (2448, 0.0), (2450, 0.0), (2451, 0.0), (2452, 0.0), (2453, 0.0), (2454, 0.0), (2455, 0.0), (2456, 0.0), (2458, 0.0), (2462, 0.0), (2463, 0.0), (2465, 0.0), (2466, 0.0), (2467, 0.0), (2469, 0.0), (2470, 0.0), (2471, 0.0), (2472, 0.0), (2474, 0.0), (2475, 0.0), (2476, 0.0), (2477, 0.0), (2478, 0.0), (2479, 0.0), (2482, 0.0), (2483, 0.0), (2484, 0.0), (2485, 0.0), (2486, 0.0), (2489, 0.0), (2490, 0.0), (2491, 0.0), (2492, 0.0), (2495, 0.0), (2496, 0.0), (2497, 0.0), (2498, 0.0), (2499, 0.0), (2500, 0.0), (2501, 0.0), (2503, 0.0), (2504, 0.0), (2505, 0.0), (2506, 0.0), (2507, 0.0), (2508, 0.0), (2510, 0.0), (2513, 0.0), (2514, 0.0), (2515, 0.0), (2516, 0.0), (2517, 0.0), (2518, 0.0), (2520, 0.0), (2521, 0.0), (2522, 0.0), (2524, 0.0), (2525, 0.0), (2526, 0.0), (2527, 0.0), (2528, 0.0), (2529, 0.0), (2530, 0.0), (2532, 0.0), (2533, 0.0), (2535, 0.0), (2536, 0.0), (2537, 0.0), (2538, 0.0), (2540, 0.0), (2542, 0.0), (2543, 0.0), (2544, 0.0), (2545, 0.0), (2546, 0.0), (2547, 0.0), (2548, 0.0), (2549, 0.0), (2550, 0.0), (2551, 0.0), (2553, 0.0), (2555, 0.0), (2556, 0.0), (2557, 0.0), (2558, 0.0), (2559, 0.0), (2560, 0.0), (2561, 0.0), (2562, 0.0), (2563, 0.0), (2564, 0.0), (2565, 0.0), (2566, 0.0), (2567, 0.0), (2568, 0.0), (2569, 0.0), (2573, 0.0), (2575, 0.0), (2576, 0.0), (2577, 0.0), (2579, 0.0), (2581, 0.0), (2582, 0.0), (2583, 0.0), (2585, 0.0), (2586, 0.0), (2589, 0.0), (2590, 0.0), (2591, 0.0), (2592, 0.0), (2593, 0.0), (2594, 0.0), (2595, 0.0), (2596, 0.0), (2597, 0.0), (2598, 0.0), (2599, 0.0), (2600, 0.0), (2601, 0.0), (2602, 0.0), (2604, 0.0), (2605, 0.0), (2607, 0.0), (2608, 0.0), (2610, 0.0), (2611, 0.0), (2613, 0.0), (2614, 0.0), (2615, 0.0), (2616, 0.0), (2618, 0.0), (2620, 0.0), (2623, 0.0), (2624, 0.0), (2625, 0.0), (2626, 0.0), (2627, 0.0), (2628, 0.0), (2629, 0.0), (2630, 0.0), (2631, 0.0), (2632, 0.0), (2633, 0.0), (2634, 0.0), (2637, 0.0), (2638, 0.0), (2639, 0.0), (2640, 0.0), (2641, 0.0), (2643, 0.0), (2644, 0.0), (2647, 0.0), (2648, 0.0), (2651, 0.0), (2652, 0.0), (2653, 0.0), (2654, 0.0), (2655, 0.0), (2656, 0.0), (2657, 0.0), (2658, 0.0), (2662, 0.0), (2664, 0.0), (2665, 0.0), (2666, 0.0), (2668, 0.0), (2669, 0.0), (2670, 0.0), (2674, 0.0), (2676, 0.0), (2678, 0.0), (2680, 0.0), (2682, 0.0), (2683, 0.0), (2684, 0.0), (2685, 0.0), (2686, 0.0), (2687, 0.0), (2689, 0.0), (2690, 0.0), (2691, 0.0), (2692, 0.0), (2693, 0.0), (2694, 0.0), (2695, 0.0), (2696, 0.0), (2698, 0.0), (2700, 0.0), (2701, 0.0), (2702, 0.0), (2703, 0.0), (2704, 0.0), (2705, 0.0), (2707, 0.0), (2708, 0.0), (2709, 0.0), (2712, 0.0), (2713, 0.0), (2714, 0.0), (2715, 0.0), (2716, 0.0), (2717, 0.0), (2719, 0.0), (2721, 0.0), (2722, 0.0), (2723, 0.0), (2724, 0.0), (2725, 0.0), (2726, 0.0), (2727, 0.0), (2729, 0.0), (2730, 0.0), (2731, 0.0), (2732, 0.0), (2733, 0.0), (2735, 0.0), (2737, 0.0), (2738, 0.0), (2741, 0.0), (2743, 0.0), (2744, 0.0), (2745, 0.0), (2746, 0.0), (2747, 0.0), (2748, 0.0), (2750, 0.0), (2751, 0.0), (2752, 0.0), (2753, 0.0), (2754, 0.0), (2755, 0.0), (2757, 0.0), (2758, 0.0), (2759, 0.0), (2763, 0.0), (2764, 0.0), (2765, 0.0), (2766, 0.0), (2767, 0.0), (2768, 0.0), (2769, 0.0), (2771, 0.0), (2773, 0.0), (2774, 0.0), (2776, 0.0), (2778, 0.0), (2779, 0.0), (2780, 0.0), (2782, 0.0), (2783, 0.0), (2784, 0.0), (2785, 0.0), (2786, 0.0), (2787, 0.0), (2791, 0.0), (2792, 0.0), (2794, 0.0), (2795, 0.0), (2796, 0.0), (2797, 0.0), (2799, 0.0), (2800, 0.0), (2801, 0.0), (2802, 0.0), (2803, 0.0), (2804, 0.0), (2805, 0.0), (2806, 0.0), (2807, 0.0), (2809, 0.0), (2810, 0.0), (2811, 0.0), (2812, 0.0), (2814, 0.0), (2815, 0.0), (2816, 0.0), (2818, 0.0), (2819, 0.0), (2820, 0.0), (2821, 0.0), (2823, 0.0), (2826, 0.0), (2827, 0.0), (2828, 0.0), (2829, 0.0), (2832, 0.0), (2834, 0.0), (2835, 0.0), (2836, 0.0), (2837, 0.0), (2838, 0.0), (2839, 0.0), (2843, 0.0), (2844, 0.0), (2846, 0.0), (2847, 0.0), (2848, 0.0), (2849, 0.0), (2850, 0.0), (2852, 0.0), (2855, 0.0), (2856, 0.0), (2858, 0.0), (2859, 0.0), (2860, 0.0), (2861, 0.0), (2862, 0.0), (2863, 0.0), (2864, 0.0), (2865, 0.0), (2866, 0.0), (2867, 0.0), (2868, 0.0), (2870, 0.0), (2871, 0.0), (2872, 0.0), (2874, 0.0), (2875, 0.0), (2878, 0.0), (2879, 0.0), (2880, 0.0), (2881, 0.0), (2882, 0.0), (2883, 0.0), (2885, 0.0), (2886, 0.0), (2888, 0.0), (2890, 0.0), (2891, 0.0), (2893, 0.0), (2894, 0.0), (2895, 0.0), (2896, 0.0), (2898, 0.0), (2900, 0.0), (2901, 0.0), (2902, 0.0), (2903, 0.0), (2904, 0.0), (2905, 0.0), (2906, 0.0), (2909, 0.0), (2910, 0.0), (2911, 0.0), (2912, 0.0), (2913, 0.0), (2914, 0.0), (2915, 0.0), (2916, 0.0), (2917, 0.0), (2918, 0.0), (2919, 0.0), (2920, 0.0), (2922, 0.0), (2923, 0.0), (2924, 0.0), (2926, 0.0), (2927, 0.0), (2928, 0.0), (2930, 0.0), (2932, 0.0), (2934, 0.0), (2935, 0.0), (2936, 0.0), (2937, 0.0), (2938, 0.0), (2939, 0.0), (2940, 0.0), (2941, 0.0), (2942, 0.0), (2943, 0.0), (2944, 0.0), (2945, 0.0), (2946, 0.0), (2947, 0.0), (2948, 0.0), (2949, 0.0), (2950, 0.0), (2951, 0.0), (2953, 0.0), (2954, 0.0), (2955, 0.0), (2956, 0.0), (2957, 0.0), (2960, 0.0), (2961, 0.0), (2964, 0.0), (2966, 0.0), (2967, 0.0), (2968, 0.0), (2969, 0.0), (2970, 0.0), (2971, 0.0), (2972, 0.0), (2973, 0.0), (2974, 0.0), (2976, 0.0), (2977, 0.0), (2978, 0.0), (2979, 0.0), (2980, 0.0), (2983, 0.0), (2984, 0.0), (2986, 0.0), (2987, 0.0), (2989, 0.0), (2990, 0.0), (2991, 0.0), (2992, 0.0), (2993, 0.0), (2994, 0.0), (2995, 0.0), (2996, 0.0), (2997, 0.0), (2998, 0.0), (2999, 0.0), (3002, 0.0), (3003, 0.0), (3004, 0.0), (3005, 0.0), (3007, 0.0), (3008, 0.0), (3009, 0.0), (3010, 0.0), (3012, 0.0), (3013, 0.0), (3014, 0.0), (3015, 0.0), (3016, 0.0), (3019, 0.0), (3020, 0.0), (3022, 0.0), (3024, 0.0), (3025, 0.0), (3026, 0.0), (3029, 0.0), (3030, 0.0), (3032, 0.0), (3034, 0.0), (3035, 0.0), (3036, 0.0), (3037, 0.0), (3038, 0.0), (3039, 0.0), (3040, 0.0), (3041, 0.0), (3042, 0.0), (3043, 0.0), (3044, 0.0), (3045, 0.0), (3047, 0.0), (3048, 0.0), (3049, 0.0), (3050, 0.0), (3051, 0.0), (3052, 0.0), (3053, 0.0), (3054, 0.0), (3055, 0.0), (3057, 0.0), (3058, 0.0), (3059, 0.0), (3061, 0.0), (3062, 0.0), (3064, 0.0), (3065, 0.0), (3066, 0.0), (3068, 0.0), (3069, 0.0), (3070, 0.0), (3072, 0.0), (3074, 0.0), (3075, 0.0), (3076, 0.0), (3078, 0.0), (3079, 0.0), (3081, 0.0), (3084, 0.0), (3085, 0.0), (3087, 0.0), (3088, 0.0), (3089, 0.0), (3091, 0.0), (3092, 0.0), (3093, 0.0), (3095, 0.0), (3096, 0.0), (3097, 0.0), (3100, 0.0), (3101, 0.0), (3102, 0.0), (3103, 0.0), (3104, 0.0), (3105, 0.0), (3106, 0.0), (3107, 0.0), (3108, 0.0), (3112, 0.0), (3113, 0.0), (3114, 0.0), (3115, 0.0), (3116, 0.0), (3118, 0.0), (3119, 0.0), (3120, 0.0), (3122, 0.0), (3123, 0.0), (3125, 0.0), (3126, 0.0), (3127, 0.0), (3128, 0.0), (3129, 0.0), (3130, 0.0), (3131, 0.0), (3135, 0.0), (3136, 0.0), (3137, 0.0), (3138, 0.0), (3139, 0.0), (3140, 0.0), (3141, 0.0), (3143, 0.0), (3145, 0.0), (3146, 0.0), (3148, 0.0), (3150, 0.0), (3151, 0.0), (3152, 0.0), (3154, 0.0), (3156, 0.0), (3157, 0.0), (3158, 0.0), (3159, 0.0), (3160, 0.0), (3161, 0.0), (3162, 0.0), (3164, 0.0), (3165, 0.0), (3166, 0.0), (3168, 0.0), (3169, 0.0), (3170, 0.0), (3171, 0.0), (3172, 0.0), (3173, 0.0), (3174, 0.0), (3175, 0.0), (3176, 0.0), (3177, 0.0), (3178, 0.0), (3179, 0.0), (3180, 0.0), (3181, 0.0), (3183, 0.0), (3184, 0.0), (3185, 0.0), (3186, 0.0), (3187, 0.0), (3190, 0.0), (3192, 0.0), (3193, 0.0), (3194, 0.0), (3195, 0.0), (3196, 0.0), (3197, 0.0), (3198, 0.0), (3200, 0.0), (3201, 0.0), (3202, 0.0), (3203, 0.0), (3204, 0.0), (3205, 0.0), (3206, 0.0), (3207, 0.0), (3210, 0.0), (3211, 0.0), (3212, 0.0), (3216, 0.0), (3217, 0.0), (3218, 0.0), (3220, 0.0), (3221, 0.0), (3222, 0.0), (3223, 0.0), (3224, 0.0), (3226, 0.0), (3227, 0.0), (3228, 0.0), (3229, 0.0), (3230, 0.0), (3231, 0.0), (3233, 0.0), (3234, 0.0), (3235, 0.0), (3236, 0.0), (3238, 0.0), (3239, 0.0), (3243, 0.0), (3245, 0.0), (3248, 0.0), (3249, 0.0), (3250, 0.0), (3251, 0.0), (3252, 0.0), (3253, 0.0), (3255, 0.0), (3256, 0.0), (3257, 0.0), (3258, 0.0), (3261, 0.0), (3262, 0.0), (3263, 0.0), (3264, 0.0), (3265, 0.0), (3266, 0.0), (3267, 0.0), (3268, 0.0), (3271, 0.0), (3273, 0.0), (3274, 0.0), (3275, 0.0), (3276, 0.0), (3277, 0.0), (3278, 0.0), (3279, 0.0), (3280, 0.0), (3281, 0.0), (3282, 0.0), (3283, 0.0), (3284, 0.0), (3285, 0.0), (3286, 0.0), (3287, 0.0), (3288, 0.0), (3290, 0.0), (3291, 0.0), (3292, 0.0), (3293, 0.0), (3294, 0.0), (3295, 0.0), (3296, 0.0), (3297, 0.0), (3298, 0.0), (3299, 0.0), (3301, 0.0), (3302, 0.0), (3305, 0.0), (3306, 0.0), (3307, 0.0), (3308, 0.0), (3309, 0.0), (3310, 0.0), (3311, 0.0), (3313, 0.0), (3314, 0.0), (3316, 0.0), (3317, 0.0), (3319, 0.0), (3320, 0.0), (3322, 0.0), (3323, 0.0), (3324, 0.0), (3325, 0.0), (3326, 0.0), (3328, 0.0), (3329, 0.0), (3331, 0.0), (3332, 0.0), (3333, 0.0), (3335, 0.0), (3336, 0.0), (3337, 0.0), (3338, 0.0), (3339, 0.0), (3340, 0.0), (3341, 0.0), (3343, 0.0), (3345, 0.0), (3346, 0.0), (3347, 0.0), (3349, 0.0), (3350, 0.0), (3351, 0.0), (3352, 0.0), (3353, 0.0), (3354, 0.0), (3355, 0.0), (3357, 0.0), (3358, 0.0), (3359, 0.0), (3360, 0.0), (3361, 0.0), (3362, 0.0), (3363, 0.0), (3364, 0.0), (3365, 0.0), (3366, 0.0), (3367, 0.0), (3368, 0.0), (3369, 0.0), (3371, 0.0), (3372, 0.0), (3373, 0.0), (3374, 0.0), (3375, 0.0), (3376, 0.0), (3377, 0.0), (3378, 0.0), (3379, 0.0), (3380, 0.0), (3381, 0.0), (3382, 0.0), (3383, 0.0), (3384, 0.0), (3385, 0.0), (3386, 0.0), (3389, 0.0), (3391, 0.0), (3393, 0.0), (3394, 0.0), (3395, 0.0), (3396, 0.0), (3397, 0.0), (3398, 0.0), (3399, 0.0), (3400, 0.0), (3401, 0.0), (3402, 0.0), (3403, 0.0), (3404, 0.0), (3405, 0.0), (3406, 0.0), (3407, 0.0), (3408, 0.0), (3409, 0.0), (3410, 0.0), (3411, 0.0), (3412, 0.0), (3413, 0.0), (3414, 0.0), (3415, 0.0), (3417, 0.0), (3419, 0.0), (3420, 0.0), (3423, 0.0), (3424, 0.0), (3425, 0.0), (3426, 0.0), (3428, 0.0), (3429, 0.0), (3430, 0.0), (3431, 0.0), (3432, 0.0), (3433, 0.0), (3434, 0.0), (3435, 0.0), (3436, 0.0), (3437, 0.0), (3439, 0.0), (3440, 0.0), (3441, 0.0), (3442, 0.0), (3443, 0.0), (3444, 0.0), (3445, 0.0), (3446, 0.0), (3447, 0.0), (3448, 0.0), (3449, 0.0), (3450, 0.0), (3451, 0.0), (3452, 0.0), (3453, 0.0), (3454, 0.0), (3455, 0.0), (3457, 0.0), (3459, 0.0), (3460, 0.0), (3461, 0.0), (3462, 0.0), (3463, 0.0), (3464, 0.0), (3465, 0.0), (3466, 0.0), (3467, 0.0), (3468, 0.0), (3469, 0.0), (3470, 0.0), (3471, 0.0), (3472, 0.0), (3473, 0.0), (3475, 0.0), (3476, 0.0), (3478, 0.0), (3479, 0.0), (3480, 0.0), (3481, 0.0), (3482, 0.0), (3485, 0.0), (3486, 0.0), (3487, 0.0), (3488, 0.0), (3489, 0.0), (3490, 0.0), (3491, 0.0), (3493, 0.0), (3494, 0.0), (3495, 0.0), (3496, 0.0), (3499, 0.0), (3500, 0.0), (3501, 0.0), (3502, 0.0), (3504, 0.0), (3505, 0.0), (3507, 0.0), (3508, 0.0), (3511, 0.0), (3512, 0.0), (3513, 0.0), (3514, 0.0), (3515, 0.0), (3517, 0.0), (3518, 0.0), (3519, 0.0), (3520, 0.0), (3521, 0.0), (3522, 0.0), (3523, 0.0), (3526, 0.0), (3527, 0.0), (3528, 0.0), (3529, 0.0), (3530, 0.0), (3532, 0.0), (3533, 0.0), (3534, 0.0), (3535, 0.0), (3536, 0.0), (3537, 0.0), (3538, 0.0), (3540, 0.0), (3541, 0.0), (3542, 0.0), (3543, 0.0), (3544, 0.0), (3545, 0.0), (3547, 0.0), (3548, 0.0), (3549, 0.0), (3550, 0.0), (3551, 0.0), (3552, 0.0), (3554, 0.0), (3555, 0.0), (3556, 0.0), (3557, 0.0), (3558, 0.0), (3559, 0.0), (3560, 0.0), (3561, 0.0), (3562, 0.0), (3565, 0.0), (3566, 0.0), (3567, 0.0), (3569, 0.0), (3571, 0.0), (3572, 0.0), (3573, 0.0), (3576, 0.0), (3577, 0.0), (3578, 0.0), (3580, 0.0), (3581, 0.0), (3583, 0.0), (3584, 0.0), (3585, 0.0), (3586, 0.0), (3588, 0.0), (3589, 0.0), (3590, 0.0), (3591, 0.0), (3592, 0.0), (3593, 0.0), (3595, 0.0), (3597, 0.0), (3598, 0.0), (3599, 0.0), (3600, 0.0), (3601, 0.0), (3602, 0.0), (3603, 0.0), (3604, 0.0), (3605, 0.0), (3606, 0.0), (3608, 0.0), (3609, 0.0), (3612, 0.0), (3613, 0.0), (3614, 0.0), (3615, 0.0), (3616, 0.0), (3617, 0.0), (3618, 0.0), (3619, 0.0), (3620, 0.0), (3621, 0.0), (3622, 0.0), (3623, 0.0), (3624, 0.0), (3625, 0.0), (3627, 0.0), (3628, 0.0), (3629, 0.0), (3630, 0.0), (3631, 0.0), (3632, 0.0), (3633, 0.0), (3634, 0.0), (3635, 0.0), (3636, 0.0), (3637, 0.0), (3638, 0.0), (3639, 0.0), (3640, 0.0), (3641, 0.0), (3643, 0.0), (3644, 0.0), (3645, 0.0), (3647, 0.0), (3648, 0.0), (3649, 0.0), (3650, 0.0), (3651, 0.0), (3652, 0.0), (3653, 0.0), (3654, 0.0), (3657, 0.0), (3659, 0.0), (3661, 0.0), (3663, 0.0), (3664, 0.0), (3665, 0.0), (3668, 0.0), (3669, 0.0), (3671, 0.0), (3672, 0.0), (3673, 0.0), (3675, 0.0), (3676, 0.0), (3677, 0.0), (3678, 0.0), (3679, 0.0), (3680, 0.0), (3681, 0.0), (3682, 0.0), (3686, 0.0), (3687, 0.0), (3688, 0.0), (3689, 0.0), (3690, 0.0), (3691, 0.0), (3692, 0.0), (3693, 0.0), (3694, 0.0), (3695, 0.0), (3696, 0.0), (3697, 0.0), (3698, 0.0), (3699, 0.0), (3701, 0.0), (3702, 0.0), (3703, 0.0), (3704, 0.0), (3706, 0.0), (3707, 0.0), (3708, 0.0), (3709, 0.0), (3710, 0.0), (3711, 0.0), (3713, 0.0), (3714, 0.0), (3716, 0.0), (3717, 0.0), (3719, 0.0), (3720, 0.0), (3721, 0.0), (3723, 0.0), (3724, 0.0), (3726, 0.0), (3728, 0.0), (3729, 0.0), (3730, 0.0), (3731, 0.0), (3733, 0.0), (3734, 0.0), (3735, 0.0), (3737, 0.0), (3738, 0.0), (3740, 0.0), (3741, 0.0), (3742, 0.0), (3743, 0.0), (3744, 0.0), (3745, 0.0), (3746, 0.0), (3748, 0.0), (3749, 0.0), (3752, 0.0), (3753, 0.0), (3754, 0.0), (3755, 0.0), (3756, 0.0), (3757, 0.0), (3758, 0.0), (3759, 0.0), (3760, 0.0), (3761, 0.0), (3762, 0.0), (3763, 0.0), (3764, 0.0), (3765, 0.0), (3766, 0.0), (3767, 0.0), (3768, 0.0), (3770, 0.0), (3771, 0.0), (3772, 0.0), (3773, 0.0), (3775, 0.0), (3776, 0.0), (3777, 0.0), (3778, 0.0), (3779, 0.0), (3781, 0.0), (3782, 0.0), (3783, 0.0), (3784, 0.0), (3786, 0.0), (3787, 0.0), (3788, 0.0), (3789, 0.0), (3791, 0.0), (3793, 0.0), (3794, 0.0), (3795, 0.0), (3796, 0.0), (3798, 0.0), (3799, 0.0), (3800, 0.0), (3801, 0.0), (3802, 0.0), (3803, 0.0), (3804, 0.0), (3805, 0.0), (3806, 0.0), (3808, 0.0), (3809, 0.0), (3810, 0.0), (3811, 0.0), (3814, 0.0), (3815, 0.0), (3816, 0.0), (3817, 0.0), (3818, 0.0), (3821, 0.0), (3822, 0.0), (3823, 0.0), (3824, 0.0), (3825, 0.0), (3826, 0.0), (3827, 0.0), (3829, 0.0), (3831, 0.0), (3832, 0.0), (3833, 0.0), (3834, 0.0), (3835, 0.0), (3836, 0.0), (3837, 0.0), (3838, 0.0), (3839, 0.0), (3840, 0.0), (3841, 0.0), (3842, 0.0), (3843, 0.0), (3844, 0.0), (3845, 0.0), (3846, 0.0), (3847, 0.0), (3848, 0.0), (3850, 0.0), (3851, 0.0), (3852, 0.0), (3853, 0.0), (3854, 0.0), (3856, 0.0), (3857, 0.0), (3858, 0.0), (3859, 0.0), (3860, 0.0), (3861, 0.0), (3862, 0.0), (3863, 0.0), (3864, 0.0), (3865, 0.0), (3866, 0.0), (3867, 0.0), (3869, 0.0), (3870, 0.0), (3871, 0.0), (3872, 0.0), (3873, 0.0), (3874, 0.0), (3875, 0.0), (3878, 0.0), (3879, 0.0), (3880, 0.0), (3881, 0.0), (3882, 0.0), (3883, 0.0), (3884, 0.0), (3885, 0.0), (3886, 0.0), (3887, 0.0), (3888, 0.0), (3889, 0.0), (3891, 0.0), (3892, 0.0), (3894, 0.0), (3895, 0.0), (3896, 0.0), (3897, 0.0), (3898, 0.0), (3900, 0.0), (3901, 0.0), (3902, 0.0), (3903, 0.0), (3905, 0.0), (3906, 0.0), (3907, 0.0), (3908, 0.0), (3909, 0.0), (3910, 0.0), (3911, 0.0), (3913, 0.0), (3914, 0.0), (3915, 0.0), (3916, 0.0), (3917, 0.0), (3918, 0.0), (3919, 0.0), (3920, 0.0), (3921, 0.0), (3922, 0.0), (3923, 0.0), (3924, 0.0), (3925, 0.0), (3927, 0.0), (3928, 0.0), (3929, 0.0), (3930, 0.0), (3931, 0.0), (3932, 0.0), (3933, 0.0), (3934, 0.0), (3935, 0.0), (3936, 0.0), (3937, 0.0), (3938, 0.0), (3939, 0.0), (3940, 0.0), (3941, 0.0), (3942, 0.0), (3943, 0.0), (3944, 0.0), (3945, 0.0), (3946, 0.0), (3947, 0.0), (3948, 0.0), (3949, 0.0), (3950, 0.0), (3951, 0.0), (3952, 0.0), (3954, 0.0), (3955, 0.0), (3956, 0.0), (3957, 0.0), (3958, 0.0), (3959, 0.0), (3960, 0.0), (3961, 0.0), (3962, 0.0), (3963, 0.0), (3964, 0.0), (3967, 0.0), (3968, 0.0), (3970, 0.0), (3971, 0.0), (3972, 0.0), (3973, 0.0), (3975, 0.0), (3976, 0.0), (3977, 0.0), (3978, 0.0), (3979, 0.0), (3980, 0.0), (3981, 0.0), (3984, 0.0), (3986, 0.0), (3987, 0.0), (3988, 0.0), (3991, 0.0), (3992, 0.0), (3995, 0.0), (3996, 0.0), (3997, 0.0), (3998, 0.0), (3999, 0.0), (4000, 0.0), (4001, 0.0), (4002, 0.0), (4003, 0.0), (4004, 0.0), (4005, 0.0), (4006, 0.0), (4008, 0.0), (4009, 0.0), (4010, 0.0), (4012, 0.0), (4013, 0.0), (4014, 0.0), (4016, 0.0), (4017, 0.0), (4018, 0.0), (4019, 0.0), (4020, 0.0), (4021, 0.0), (4022, 0.0), (4023, 0.0), (4024, 0.0), (4026, 0.0), (4027, 0.0), (4028, 0.0), (4029, 0.0), (4030, 0.0), (4031, 0.0), (4032, 0.0), (4034, 0.0), (4036, 0.0), (4037, 0.0), (4038, 0.0), (4039, 0.0), (4041, 0.0), (4042, 0.0), (4043, 0.0), (4044, 0.0), (4046, 0.0), (4047, 0.0), (4048, 0.0), (4049, 0.0), (4050, 0.0), (4051, 0.0), (4052, 0.0), (4053, 0.0), (4054, 0.0), (4055, 0.0), (4056, 0.0), (4057, 0.0), (4058, 0.0), (4060, 0.0), (4061, 0.0), (4062, 0.0), (4063, 0.0), (4064, 0.0), (4065, 0.0), (4066, 0.0), (4067, 0.0), (4068, 0.0), (4069, 0.0), (4070, 0.0), (4071, 0.0), (4072, 0.0), (4075, 0.0), (4076, 0.0), (4077, 0.0), (4079, 0.0), (4080, 0.0), (4081, 0.0), (4082, 0.0), (4083, 0.0), (4084, 0.0), (4085, 0.0), (4087, 0.0), (4088, 0.0), (4091, 0.0), (4092, 0.0), (4093, 0.0), (4094, 0.0), (4095, 0.0), (4096, 0.0), (4098, 0.0), (4099, 0.0), (4100, 0.0), (4102, 0.0), (4103, 0.0), (4104, 0.0), (4105, 0.0), (4106, 0.0), (4107, 0.0), (4108, 0.0), (4111, 0.0), (4112, 0.0), (4113, 0.0), (4115, 0.0), (4116, 0.0), (4117, 0.0), (4118, 0.0), (4119, 0.0), (4120, 0.0), (4121, 0.0), (4123, 0.0), (4124, 0.0), (4125, 0.0), (4126, 0.0), (4127, 0.0), (4129, 0.0), (4130, 0.0), (4131, 0.0), (4132, 0.0), (4133, 0.0), (4134, 0.0), (4135, 0.0), (4136, 0.0), (4138, 0.0), (4139, 0.0), (4140, 0.0), (4141, 0.0), (4142, 0.0), (4143, 0.0), (4144, 0.0), (4145, 0.0), (4146, 0.0), (4147, 0.0), (4148, 0.0), (4149, 0.0), (4150, 0.0), (4151, 0.0), (4153, 0.0), (4154, 0.0), (4156, 0.0), (4157, 0.0), (4158, 0.0), (4160, 0.0), (4161, 0.0), (4163, 0.0), (4165, 0.0), (4166, 0.0), (4167, 0.0), (4168, 0.0), (4170, 0.0), (4172, 0.0), (4175, 0.0), (4177, 0.0), (4178, 0.0), (4179, 0.0), (4180, 0.0), (4181, 0.0), (4182, 0.0), (4183, 0.0), (4184, 0.0), (4185, 0.0), (4188, 0.0), (4190, 0.0), (4191, 0.0), (4192, 0.0), (4193, 0.0), (4195, 0.0), (4196, 0.0), (4198, 0.0), (4200, 0.0), (4201, 0.0), (4202, 0.0), (4203, 0.0), (4204, 0.0), (4205, 0.0), (4206, 0.0), (4208, 0.0), (4209, 0.0), (4211, 0.0), (4212, 0.0), (4213, 0.0), (4214, 0.0), (4215, 0.0), (4216, 0.0), (4217, 0.0), (4219, 0.0), (4220, 0.0), (4221, 0.0), (4222, 0.0), (4223, 0.0), (4224, 0.0), (4225, 0.0), (4226, 0.0), (4227, 0.0), (4228, 0.0), (4229, 0.0), (4230, 0.0), (4231, 0.0), (4232, 0.0), (4233, 0.0), (4234, 0.0), (4235, 0.0), (4236, 0.0), (4237, 0.0), (4238, 0.0), (4239, 0.0), (4241, 0.0), (4242, 0.0), (4243, 0.0), (4244, 0.0), (4245, 0.0), (4246, 0.0), (4248, 0.0), (4249, 0.0), (4250, 0.0), (4251, 0.0), (4253, 0.0), (4254, 0.0), (4255, 0.0), (4256, 0.0), (4257, 0.0), (4258, 0.0), (4259, 0.0), (4260, 0.0), (4261, 0.0), (4263, 0.0), (4264, 0.0), (4265, 0.0), (4266, 0.0), (4267, 0.0), (4270, 0.0), (4272, 0.0), (4273, 0.0), (4275, 0.0), (4276, 0.0), (4278, 0.0), (4279, 0.0), (4280, 0.0), (4281, 0.0), (4282, 0.0), (4283, 0.0), (4284, 0.0), (4285, 0.0), (4288, 0.0), (4289, 0.0), (4291, 0.0), (4292, 0.0), (4293, 0.0), (4294, 0.0), (4295, 0.0), (4296, 0.0), (4297, 0.0), (4298, 0.0), (4299, 0.0), (4300, 0.0), (4301, 0.0), (4302, 0.0), (4305, 0.0), (4306, 0.0), (4307, 0.0), (4308, 0.0), (4309, 0.0), (4311, 0.0), (4312, 0.0), (4313, 0.0), (4314, 0.0), (4315, 0.0), (4316, 0.0), (4320, 0.0), (4322, 0.0), (4323, 0.0), (4324, 0.0), (4326, 0.0), (4327, 0.0), (4328, 0.0), (4330, 0.0), (4331, 0.0), (4332, 0.0), (4334, 0.0), (4335, 0.0), (4336, 0.0), (4337, 0.0), (4338, 0.0), (4339, 0.0), (4340, 0.0), (4342, 0.0), (4343, 0.0), (4346, 0.0), (4347, 0.0), (4348, 0.0), (4349, 0.0), (4350, 0.0), (4351, 0.0), (4352, 0.0), (4354, 0.0), (4355, 0.0), (4357, 0.0), (4358, 0.0), (4360, 0.0), (4361, 0.0), (4362, 0.0), (4364, 0.0), (4365, 0.0), (4367, 0.0), (4368, 0.0), (4369, 0.0), (4370, 0.0), (4372, 0.0), (4373, 0.0), (4375, 0.0), (4376, 0.0), (4377, 0.0), (4378, 0.0), (4379, 0.0), (4380, 0.0), (4381, 0.0), (4382, 0.0), (4383, 0.0), (4384, 0.0), (4385, 0.0), (4386, 0.0), (4387, 0.0), (4389, 0.0), (4390, 0.0), (4391, 0.0), (4392, 0.0), (4393, 0.0), (4394, 0.0), (4395, 0.0), (4396, 0.0), (4397, 0.0), (4398, 0.0), (4400, 0.0), (4401, 0.0), (4402, 0.0), (4403, 0.0), (4404, 0.0), (4405, 0.0), (4406, 0.0), (4408, 0.0), (4409, 0.0), (4410, 0.0), (4413, 0.0), (4414, 0.0), (4415, 0.0), (4417, 0.0), (4418, 0.0), (4419, 0.0), (4420, 0.0), (4422, 0.0), (4423, 0.0), (4424, 0.0), (4425, 0.0), (4426, 0.0), (4428, 0.0), (4429, 0.0), (4430, 0.0), (4432, 0.0), (4433, 0.0), (4435, 0.0), (4436, 0.0), (4439, 0.0), (4440, 0.0), (4441, 0.0), (4442, 0.0), (4443, 0.0), (4444, 0.0), (4446, 0.0), (4447, 0.0), (4448, 0.0), (4449, 0.0), (4450, 0.0), (4451, 0.0), (4452, 0.0), (4453, 0.0), (4455, 0.0), (4456, 0.0), (4457, 0.0), (4458, 0.0), (4459, 0.0), (4461, 0.0), (4462, 0.0), (4463, 0.0), (4464, 0.0), (4465, 0.0), (4466, 0.0), (4467, 0.0), (4469, 0.0), (4471, 0.0), (4474, 0.0), (4475, 0.0), (4476, 0.0), (4477, 0.0), (4478, 0.0), (4479, 0.0), (4480, 0.0), (4481, 0.0), (4482, 0.0), (4483, 0.0), (4484, 0.0), (4485, 0.0), (4486, 0.0), (4487, 0.0), (4489, 0.0), (4490, 0.0), (4491, 0.0), (4492, 0.0), (4493, 0.0), (4494, 0.0), (4495, 0.0), (4496, 0.0), (4499, 0.0), (4500, 0.0), (4501, 0.0), (4502, 0.0), (4504, 0.0), (4505, 0.0), (4506, 0.0), (4507, 0.0), (4508, 0.0), (4509, 0.0), (4510, 0.0), (4511, 0.0), (4512, 0.0), (4514, 0.0), (4516, 0.0), (4517, 0.0), (4518, 0.0), (4520, 0.0), (4521, 0.0), (4522, 0.0), (4523, 0.0), (4524, 0.0), (4526, 0.0), (4527, 0.0), (4528, 0.0), (4530, 0.0), (4531, 0.0), (4532, 0.0), (4533, 0.0), (4534, 0.0), (4535, 0.0), (4537, 0.0), (4539, 0.0), (4540, 0.0), (4543, 0.0), (4544, 0.0), (4546, 0.0), (4547, 0.0), (4548, 0.0), (4549, 0.0), (4550, 0.0), (4551, 0.0), (4552, 0.0), (4553, 0.0), (4554, 0.0), (4555, 0.0), (4556, 0.0), (4557, 0.0), (4559, 0.0), (4560, 0.0), (4561, 0.0), (4562, 0.0), (4563, 0.0), (4564, 0.0), (4565, 0.0), (4566, 0.0), (4567, 0.0), (4568, 0.0), (4570, 0.0), (4571, 0.0), (4572, 0.0), (4573, 0.0), (4575, 0.0), (4576, 0.0), (4577, 0.0), (4578, 0.0), (4579, 0.0), (4580, 0.0), (4581, 0.0), (4582, 0.0), (4583, 0.0), (4584, 0.0), (4585, 0.0), (4586, 0.0), (4588, 0.0), (4589, 0.0), (4591, 0.0), (4592, 0.0), (4593, 0.0), (4594, 0.0), (4595, 0.0), (4596, 0.0), (4597, 0.0), (4599, 0.0), (4601, 0.0), (4602, 0.0), (4603, 0.0), (4604, 0.0), (4605, 0.0), (4606, 0.0), (4607, 0.0), (4608, 0.0), (4609, 0.0), (4610, 0.0), (4611, 0.0), (4612, 0.0), (4613, 0.0), (4614, 0.0), (4615, 0.0), (4616, 0.0), (4617, 0.0), (4618, 0.0), (4619, 0.0), (4620, 0.0), (4621, 0.0), (4622, 0.0), (4623, 0.0), (4624, 0.0), (4625, 0.0), (4626, 0.0), (4627, 0.0), (4628, 0.0), (4629, 0.0), (4630, 0.0), (4631, 0.0), (4632, 0.0), (4633, 0.0), (4634, 0.0), (4635, 0.0), (4636, 0.0), (4637, 0.0), (4640, 0.0), (4641, 0.0), (4642, 0.0), (4644, 0.0), (4645, 0.0), (4646, 0.0), (4648, 0.0), (4649, 0.0), (4651, 0.0), (4652, 0.0), (4653, 0.0), (4654, 0.0), (4655, 0.0), (4656, 0.0), (4657, 0.0), (4660, 0.0), (4661, 0.0), (4662, 0.0), (4663, 0.0), (4664, 0.0), (4665, 0.0), (4666, 0.0), (4667, 0.0), (4668, 0.0), (4669, 0.0), (4670, 0.0), (4671, 0.0), (4672, 0.0), (4673, 0.0), (4674, 0.0), (4675, 0.0), (4676, 0.0), (4677, 0.0), (4678, 0.0), (4680, 0.0), (4681, 0.0), (4682, 0.0), (4683, 0.0), (4685, 0.0), (4686, 0.0), (4687, 0.0), (4689, 0.0), (4690, 0.0), (4691, 0.0), (4692, 0.0), (4693, 0.0), (4694, 0.0), (4695, 0.0), (4696, 0.0), (4697, 0.0), (4698, 0.0), (4700, 0.0), (4701, 0.0), (4702, 0.0), (4703, 0.0), (4704, 0.0), (4706, 0.0), (4707, 0.0), (4709, 0.0), (4710, 0.0), (4711, 0.0), (4712, 0.0), (4713, 0.0), (4714, 0.0), (4715, 0.0), (4716, 0.0), (4717, 0.0), (4718, 0.0), (4720, 0.0), (4721, 0.0), (4722, 0.0), (4723, 0.0), (4724, 0.0), (4726, 0.0), (4727, 0.0), (4728, 0.0), (4729, 0.0), (4730, 0.0), (4731, 0.0), (4732, 0.0), (4733, 0.0), (4734, 0.0), (4735, 0.0), (4736, 0.0), (4737, 0.0), (4738, 0.0), (4740, 0.0), (4741, 0.0), (4743, 0.0), (4744, 0.0), (4745, 0.0), (4746, 0.0), (4747, 0.0), (4748, 0.0), (4749, 0.0), (4750, 0.0), (4751, 0.0), (4754, 0.0), (4755, 0.0), (4758, 0.0), (4759, 0.0)]\n"
          ]
        }
      ]
    },
    {
      "cell_type": "code",
      "source": [
        "# Print the Similar Movies Based on Their Index\n",
        "\n",
        "print('Top 30 Movies Suggested for You: \\n')\n",
        "\n",
        "i = 1\n",
        "\n",
        "for movie in Sorted_Similar_Movie:\n",
        "    index = movie[0]\n",
        "    Title_From_Index = df[df.index == index]['Movie_Title'].values[0]\n",
        "    if (i<31):\n",
        "      print(i, '.', Title_From_Index)\n",
        "      i+=1"
      ],
      "metadata": {
        "colab": {
          "base_uri": "https://localhost:8080/"
        },
        "id": "lzqtL8qYw14h",
        "outputId": "fe96c065-9a44-43a5-8ae6-f403c809b7a4"
      },
      "execution_count": 53,
      "outputs": [
        {
          "output_type": "stream",
          "name": "stdout",
          "text": [
            "Top 30 Movies Suggested for You: \n",
            "\n",
            "1 . Doogal\n",
            "2 . The Color Purple\n",
            "3 . Fever Pitch\n",
            "4 . Brooklyn Rules\n",
            "5 . An Alan Smithee Film: Burn, Hollywood, Burn\n",
            "6 . Cats & Dogs\n",
            "7 . Madea Goes to Jail\n",
            "8 . How Stella Got Her Groove Back\n",
            "9 . Bogus\n",
            "10 . Freaky Friday\n",
            "11 . Farce of the Penguins\n",
            "12 . Rat Race\n",
            "13 . Ghosts of Mississippi\n",
            "14 . Ghost\n",
            "15 . The Deep End of the Ocean\n",
            "16 . The Benchwarmers\n",
            "17 . Superbabies: Baby Geniuses 2\n",
            "18 . The Other Woman\n",
            "19 . Role Models\n",
            "20 . About Last Night\n",
            "21 . Shorts\n",
            "22 . Getaway\n",
            "23 . In the Bedroom\n",
            "24 . Analyze This\n",
            "25 . Nebraska\n",
            "26 . The Runaways\n",
            "27 . Napoleon Dynamite\n",
            "28 . Set It Off\n",
            "29 . Pound of Flesh\n",
            "30 . Holes\n"
          ]
        }
      ]
    },
    {
      "cell_type": "markdown",
      "source": [
        "### **Top 10 Movie Recommendation System**"
      ],
      "metadata": {
        "id": "Ww5lpae467TR"
      }
    },
    {
      "cell_type": "code",
      "source": [
        "# Top 10 Movies Recommendation\n",
        "\n",
        "Movie_Name = input('Enter Your Favourite Movie Name: ')\n",
        "List_of_All_Titles = df['Movie_Title'].tolist()\n",
        "Find_Close_Match = difflib.get_close_matches(Movie_Name, List_of_All_Titles)\n",
        "Close_Match = Find_Close_Match[0]\n",
        "Index_Of_Movie = df[df.Movie_Title == Close_Match]['Movie_ID'].values[0]\n",
        "Recommendation_Score = list(enumerate(Similarity_Score[Index_Of_Movie]))\n",
        "Sorted_Similar_Movies = sorted(Recommendation_Score, key = lambda x:x[1], reverse = True)\n",
        "print('Top 10 Suggested Movies For You: \\n')\n",
        "\n",
        "i = 1\n",
        "for movie in Sorted_Similar_Movies:\n",
        "  index = movie[0]\n",
        "  Title_From_Index = df[df.Movie_ID == index]['Movie_Title'].values\n",
        "  if(i<11):\n",
        "    print(i, '.', Title_From_Index)\n",
        "    i+=1"
      ],
      "metadata": {
        "colab": {
          "base_uri": "https://localhost:8080/"
        },
        "id": "sIWxaYNkz8zx",
        "outputId": "3bd4b8d5-08fa-4b7a-dd2f-e95094baf4e0"
      },
      "execution_count": 54,
      "outputs": [
        {
          "output_type": "stream",
          "name": "stdout",
          "text": [
            "Enter Your Favourite Movie Name: Avengers\n",
            "Top 10 Suggested Movies For You: \n",
            "\n",
            "1 . ['The Avengers']\n",
            "2 . [\"Singin' in the Rain\"]\n",
            "3 . ['From Here to Eternity']\n",
            "4 . ['In the Land of Women']\n",
            "5 . ['Walking With Dinosaurs']\n",
            "6 . ['Pokémon: Spell of the Unknown']\n",
            "7 . ['Mommie Dearest']\n",
            "8 . ['Rumble in the Bronx']\n",
            "9 . ['Changeling']\n",
            "10 . ['Congo']\n"
          ]
        }
      ]
    }
  ]
}